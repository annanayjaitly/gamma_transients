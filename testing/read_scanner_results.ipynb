{
 "cells": [
  {
   "cell_type": "code",
   "execution_count": 1,
   "metadata": {},
   "outputs": [],
   "source": [
    "# import dill\n",
    "import numpy as np\n",
    "from matplotlib import figure, gridspec,colors\n",
    "# from pathlib import Path\n",
    "# from astropy.table import Table\n",
    "# from astropy import units as u\n",
    "# from astropy.coordinates import SkyCoord\n",
    "\n",
    "import scanner_interpretation as scani\n",
    "\n",
    "import healpy as hp\n",
    "\n",
    "from matplotlib import colors,cm\n",
    "import matplotlib.pyplot as plt\n",
    "import matplotlib as mpl\n",
    "from astropy import visualization as vis\n",
    "\n",
    "\n",
    "\n",
    "bands = [\"u_5_15\", \"u_15_25\", \"u_25_35\", \"u_35_45\", \"u_45_55\", \"u_55_65\", \"u_65_75\", \"u_75_90\", \"l_15_5\", \"l_25_15\", \"l_35_25\", \"l_45_35\", \"l_55_45\", \"l_65_55\", \"l_75_65\", \"l_90_75\", \"center\"]\n",
    "versions = [\"hess1\",\"hess1u\"]\n",
    "paths = [f\"/lustre/fs22/group/hess/user/wybouwt/full_scanner_survey/{version}/{band}\" for band in bands for version in versions]\n",
    "# mplets = scani.Multiplets(paths[0])\n",
    "# mplets.appendMultiplets(*[scani.Multiplets(path) for path in paths[1:]])\n",
    "mplet_list = [scani.Multiplets(path) for path in paths]\n",
    "\n",
    "\n",
    "unicorns = [9,18]\n",
    "for j in unicorns:\n",
    "    mplet_list[j].objectifyColumns()\n",
    "\n",
    "    \n",
    "mplets = mplet_list[0]\n",
    "mplets.appendMultiplets(*mplet_list[1:])"
   ]
  },
  {
   "cell_type": "markdown",
   "metadata": {},
   "source": [
    "Try to get the weird log xscale plot"
   ]
  },
  {
   "cell_type": "code",
   "execution_count": null,
   "metadata": {},
   "outputs": [],
   "source": [
    "vis.hist(np.log10(mplets.table[\"dt\"]),bins=\"freedman\",histtype=\"step\")"
   ]
  },
  {
   "cell_type": "markdown",
   "metadata": {},
   "source": [
    "Cornerplot of the resulting multiplets"
   ]
  },
  {
   "cell_type": "code",
   "execution_count": null,
   "metadata": {},
   "outputs": [],
   "source": [
    "# plotting mplet results\n",
    "from corner import corner\n",
    "\n",
    "fig = corner(mplets.table.to_pandas(),var_names=[\"Nmax\",\"dt\",\"da\"])\n",
    "# fig.savefig(\"figures/combined/corner_center.png\",facecolor=\"white\",dpi=300)"
   ]
  },
  {
   "cell_type": "markdown",
   "metadata": {},
   "source": [
    "TeVCat search and distance histogram"
   ]
  },
  {
   "cell_type": "code",
   "execution_count": null,
   "metadata": {},
   "outputs": [],
   "source": [
    "from tevcat import TeVCat\n",
    "tevcat = TeVCat()\n",
    "mplets.searchTeVCat(tevcat.sources)\n",
    "\n",
    "nosource_mask = mplets.table[\"TEVCAT_DISTANCES_DEG\"] >= 0.2\n"
   ]
  },
  {
   "cell_type": "code",
   "execution_count": null,
   "metadata": {},
   "outputs": [],
   "source": [
    "current_mask = nosource_mask\n",
    "\n",
    "vline_sourcebound = .2\n",
    "hist = vis.hist(mplets.table[current_mask][\"TEVCAT_DISTANCES_DEG\"],bins=\"freedman\",histtype=\"step\",stacked=True)\n",
    "ax = plt.gca()\n",
    "ax.set_xlabel(\"Distance to nearest TeVCat source [deg]\")\n",
    "ax.set_ylabel(\"Counts\")\n",
    "ylim = ax.get_ylim()\n",
    "ax.vlines(vline_sourcebound,0,ylim[1],color=\"red\",ls=\"--\",label=f\"{vline_sourcebound} deg\")\n",
    "ax.set_ylim(*ylim)\n",
    "# ax.set_yscale(\"log\")\n",
    "ax.set_xlim(0,15)\n",
    "ax.legend()\n",
    "# ax.set_xscale(\"log\")\n",
    "# plt.savefig(\"figures/combined/sourcedist_hist.png\",facecolor=\"white\")"
   ]
  },
  {
   "cell_type": "markdown",
   "metadata": {},
   "source": [
    "HEALPix"
   ]
  },
  {
   "cell_type": "code",
   "execution_count": null,
   "metadata": {},
   "outputs": [],
   "source": [
    "fig = plt.figure(dpi=300)\n",
    "\n",
    "Nmax_mask = mplets.table[\"Nmax\"] >= 4\n",
    "dt_mask = mplets.table[\"dt\"] <= 1e9\n",
    "current_mask = nosource_mask*Nmax_mask*dt_mask\n",
    "\n",
    "cmap = cm.jet\n",
    "cmap.set_bad(\"r\")\n",
    "NSIDE = 2**5\n",
    "m = scani.cat2hpx(mplets.table[current_mask][\"MEDIAN_RA\"],mplets.table[current_mask][\"MEDIAN_DEC\"],nside=NSIDE)\n",
    "print(np.sqrt(hp.nside2pixarea(NSIDE,degrees=True)))\n",
    "mmin, mmax = min(m),max(m)\n",
    "\n",
    "hp.mollview(m,cmap=cmap, hold=True,nest=False,min=mmin,max=mmax,notext=True,fig=1,cbar=False,title=\"Transient tool applied on all H.E.S.S. data.\")\n",
    "#create a colorbar axis\n",
    "cax = fig.add_axes([0.125, 0.1, 0.775, 0.03])\n",
    "\n",
    "#create a colorbar and normalise it\n",
    "# cmap.set_under(\"white\")\n",
    "# axs = fig.get_axes()\n",
    "# axs[0].images[0].set_norm(colors.SymLogNorm(100))\n",
    "cb = mpl.colorbar.ColorbarBase(cax,cmap=cmap,norm=mpl.colors.Normalize(vmin=mmin,vmax=mmax),\n",
    "                               orientation='horizontal')\n",
    "cb.set_label(\"Counts\")\n",
    "cb.solids.set_edgecolor(\"face\")\n",
    "\n",
    "plt.show()\n",
    "# plt.savefig(\"figures/combined/healpy.png\",facecolor=\"white\")"
   ]
  },
  {
   "cell_type": "markdown",
   "metadata": {},
   "source": [
    "Nmax histogram"
   ]
  },
  {
   "cell_type": "code",
   "execution_count": null,
   "metadata": {},
   "outputs": [],
   "source": [
    "current_mask = nosource_mask\n",
    "\n",
    "remaining_Nmax = max(mplets.table[current_mask][\"Nmax\"])\n",
    "print(f\"Nmax left after mask: {remaining_Nmax}\")\n",
    "hist = vis.hist(mplets.table[current_mask][\"Nmax\"],bins=range(3,remaining_Nmax+3),histtype=\"step\")\n",
    "ax = plt.gca()\n",
    "ax.set_xlabel(\"Nmax\")\n",
    "ax.set_ylabel(\"Counts\")\n",
    "ax.set_yscale(\"log\")\n",
    "# ax.set_xticks(range(3,22))\n",
    "# plt.savefig(\"figures/combined/Nmax_hist.png\",facecolor=\"white\")"
   ]
  },
  {
   "cell_type": "code",
   "execution_count": null,
   "metadata": {},
   "outputs": [],
   "source": [
    "# current_mask = nosource_mask# * mplets.table[\"Nmax\"] > 3\n",
    "temp = mplets.table[current_mask][\"Nmax\",\"OBS_ID\",\"dt\",\"da\",\"MEDIAN_GLAT\",\"TEVCAT_SOURCE_NAME\",\"TEVCAT_SOURCE_TYPE\",\"TEVCAT_DISTANCES_DEG\"]\n",
    "temp[:]"
   ]
  },
  {
   "cell_type": "code",
   "execution_count": null,
   "metadata": {},
   "outputs": [],
   "source": [
    "temp.sort[\"Nmax\"]"
   ]
  },
  {
   "cell_type": "code",
   "execution_count": null,
   "metadata": {},
   "outputs": [],
   "source": [
    "Nmax = 3\n",
    "run_count_rate = Nmax/(28*60)\n",
    "expected_photons_3sec = 3*run_count_rate\n",
    "\n",
    "expected_photons_3sec"
   ]
  },
  {
   "cell_type": "code",
   "execution_count": null,
   "metadata": {},
   "outputs": [],
   "source": [
    "from math import factorial\n",
    "sum = 1\n",
    "\n",
    "for i in range(Nmax):\n",
    "    sum -= expected_photons_3sec**(i)*np.exp(-expected_photons_3sec)/(factorial(i))\n",
    "sum\n",
    "                                                                      \n",
    "                                                                    "
   ]
  },
  {
   "cell_type": "code",
   "execution_count": null,
   "metadata": {},
   "outputs": [],
   "source": []
  }
 ],
 "metadata": {
  "kernelspec": {
   "display_name": "gammatransients",
   "language": "python",
   "name": "python3"
  },
  "language_info": {
   "codemirror_mode": {
    "name": "ipython",
    "version": 3
   },
   "file_extension": ".py",
   "mimetype": "text/x-python",
   "name": "python",
   "nbconvert_exporter": "python",
   "pygments_lexer": "ipython3",
   "version": "3.9.15"
  },
  "orig_nbformat": 4
 },
 "nbformat": 4,
 "nbformat_minor": 2
}
