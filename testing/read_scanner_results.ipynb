{
 "cells": [
  {
   "cell_type": "code",
   "execution_count": 1,
   "metadata": {},
   "outputs": [
    {
     "name": "stdout",
     "output_type": "stream",
     "text": [
      "<class '__main__.Multiplets'>\n"
     ]
    }
   ],
   "source": [
    "import numpy as np\n",
    "from matplotlib import figure, gridspec,colors\n",
    "\n",
    "import scanner_interpretation as scani\n",
    "\n",
    "import healpy as hp\n",
    "\n",
    "from matplotlib import colors,cm\n",
    "import matplotlib.pyplot as plt\n",
    "import matplotlib as mpl\n",
    "from astropy import visualization as vis\n",
    "\n",
    "import dill\n",
    "\n",
    "\n",
    "\n",
    "# bands = [\"u_5_15\", \"u_15_25\", \"u_25_35\", \"u_35_45\", \"u_45_55\", \"u_55_65\", \"u_65_75\", \"u_75_90\", \"l_15_5\", \"l_25_15\", \"l_35_25\", \"l_45_35\", \"l_55_45\", \"l_65_55\", \"l_75_65\", \"l_90_75\", \"center\"]\n",
    "# versions = [\"hess1\",\"hess1u\"]\n",
    "# paths = [f\"/lustre/fs22/group/hess/user/wybouwt/full_scanner_survey/{version}/{band}\" for band in bands for version in versions]\n",
    "# # mplets = scani.Multiplets(paths[0])\n",
    "# # mplets.appendMultiplets(*[scani.Multiplets(path) for path in paths[1:]])\n",
    "# mplet_list = [scani.Multiplets(path) for path in paths]\n",
    "\n",
    "\n",
    "# unicorns = [9,18]\n",
    "# for j in unicorns:\n",
    "#     mplet_list[j].objectifyColumns()\n",
    "\n",
    "    \n",
    "# mplets = mplet_list[0]\n",
    "# mplets.appendMultiplets(*mplet_list[1:])\n",
    "with open(\"pkl_jugs/n4/mplets_with_tevcat.pkl\",\"rb\") as f:\n",
    "    mplets = dill.load(f)\n",
    "with open(\"pkl_jugs/n3/mplets_bare.pkl\",\"rb\") as f:\n",
    "    mplets3 = dill.load(f)\n",
    "\n",
    "nosource_mask = mplets.table[\"TEVCAT_DISTANCES_DEG\"] >= 0.2\n",
    "Nmin4_mask = mplets.table[\"Nmax\"] >= 4\n",
    "Nmin5_mask = mplets.table[\"Nmax\"] >= 5\n",
    "dt1sec_mask = mplets.table[\"dt\"] <= 1e9\n",
    "xgal_mask = np.abs(mplets.table[\"MEDIAN_GLAT\"]) > 5\n",
    "print(type(mplets))"
   ]
  },
  {
   "cell_type": "code",
   "execution_count": 3,
   "metadata": {},
   "outputs": [
    {
     "data": {
      "text/html": [
       "<div><i>Table length=2</i>\n",
       "<table id=\"table139610984081776\" class=\"table-striped table-bordered table-condensed\">\n",
       "<thead><tr><th>Nmax</th><th>OBS_ID</th><th>ID</th><th>RA</th><th>DEC</th><th>TIME</th><th>ENERGY</th><th>dt</th><th>da</th><th>MEDIAN_RA</th><th>MEDIAN_DEC</th><th>SkyCoord</th><th>MEDIAN_GLAT</th><th>MEDIAN_GLON</th></tr></thead>\n",
       "<thead><tr><th></th><th></th><th></th><th></th><th></th><th></th><th></th><th></th><th></th><th></th><th></th><th>deg,deg</th><th>deg</th><th>deg</th></tr></thead>\n",
       "<thead><tr><th>int64</th><th>uint32</th><th>object</th><th>object</th><th>object</th><th>object</th><th>object</th><th>float64</th><th>float64</th><th>float64</th><th>float64</th><th>SkyCoord</th><th>float64</th><th>float64</th></tr></thead>\n",
       "<tr><td>3</td><td>154742</td><td>[6996501725461 7000796692490 7000796692518]</td><td>[2.8270974 2.870535  2.9035206]</td><td>[-71.98489  -71.826355 -71.82283 ]</td><td>[&apos;2019-10-21T20:03:55.678841406&apos; &apos;2019-10-21T20:03:58.086445624&apos;\\n &apos;2019-10-21T20:03:58.280102784&apos;]</td><td>[0.568209   0.86274356 0.70602965]</td><td>2601261568.0</td><td>0.1791789905006963</td><td>2.870534896850586</td><td>-71.82635498046875</td><td>2.870534896850586,-71.82635498046875</td><td>-44.96015748363038</td><td>307.3168937825529</td></tr>\n",
       "<tr><td>3</td><td>154768</td><td>[18476949308189 18476949308455 18481244275023]</td><td>[52.726414 52.701324 52.851723]</td><td>[-37.314495 -37.151165 -37.21456 ]</td><td>[&apos;2019-10-21T23:10:06.894969041&apos; &apos;2019-10-21T23:10:07.767560298&apos;\\n &apos;2019-10-21T23:10:09.612289483&apos;]</td><td>[0.9164381  0.61229116 0.73589253]</td><td>2717320448.0</td><td>0.18815909572729253</td><td>52.72641372680664</td><td>-37.214561462402344</td><td>52.72641372680664,-37.214561462402344</td><td>-55.06298461947555</td><td>239.88232343514923</td></tr>\n",
       "</table></div>"
      ],
      "text/plain": [
       "<Table length=2>\n",
       " Nmax OBS_ID ...    MEDIAN_GLAT        MEDIAN_GLON    \n",
       "             ...        deg                deg        \n",
       "int64 uint32 ...      float64            float64      \n",
       "----- ------ ... ------------------ ------------------\n",
       "    3 154742 ... -44.96015748363038  307.3168937825529\n",
       "    3 154768 ... -55.06298461947555 239.88232343514923"
      ]
     },
     "execution_count": 3,
     "metadata": {},
     "output_type": "execute_result"
    }
   ],
   "source": [
    "mplets3.table[-2:]"
   ]
  },
  {
   "cell_type": "code",
   "execution_count": null,
   "metadata": {},
   "outputs": [],
   "source": [
    "pks2155_mask = mplets.table[\"TEVCAT_SOURCE_NAME\"] == \"PKS 2155-304\"\n",
    "mkr421_mask = mplets.table[\"TEVCAT_SOURCE_NAME\"] == \"Markarian 421\"\n",
    "mplets.table[mkr421_mask * ~nosource_mask]\n",
    "# g = vis.hist(mplets.table[mkr421_mask * ~nosource_mask][\"Nmax\"],histtype=\"step\")\n",
    "# plt.yscale(\"log\")"
   ]
  },
  {
   "cell_type": "markdown",
   "metadata": {},
   "source": [
    "Cornerplot of the resulting multiplets"
   ]
  },
  {
   "cell_type": "code",
   "execution_count": null,
   "metadata": {},
   "outputs": [],
   "source": [
    "def get_leftover(redu) -> np.ndarray:\n",
    "\n",
    "# pval_0_mask = redu[\"LAMBDA_RATIO_SIGNIFICANCE\"]==0.\n",
    "    bernP_nan_mask = np.isnan(redu[\"BERNOULLI_P\"])\n",
    "    expP_nan_mask = np.isnan(redu[\"EXP_CORRECTED_P\"])\n",
    "    bernP_finite_mask = np.isfinite(redu[\"BERNOULLI_P\"])\n",
    "    expP_finite_mask = np.isfinite(redu[\"EXP_CORRECTED_P\"])\n",
    "    bernP_0_mask = redu[\"BERNOULLI_P\"] == 0\n",
    "    expP_0_mask = redu[\"EXP_CORRECTED_P\"] == 0\n",
    "\n",
    "    sanebern = ~bernP_nan_mask * bernP_finite_mask * ~bernP_0_mask\n",
    "    saneexp = ~expP_nan_mask * expP_finite_mask * ~expP_0_mask\n",
    "\n",
    "    leftover = sanebern * saneexp\n",
    "    return leftover"
   ]
  },
  {
   "cell_type": "code",
   "execution_count": null,
   "metadata": {},
   "outputs": [],
   "source": [
    "# plotting mplet results\n",
    "from corner import corner, hist2d\n",
    "from matplotlib import figure\n",
    "\n",
    "# fig: figure.Figure = corner(mplets[get_leftover(mplets)].to_pandas(),var_names=[\"dt\",\"da\",\"BERNOULLI_SIGMA\"])#, labels=[r\"$\\mathrm{d}t$ [ns]\", r\"$\\mathrm{d}a$  [deg]\"])\n",
    "# fig: figure.Figure = corner(mplets.to_pandas(),var_names=[\"dt\",\"da\"], labels=[r\"$\\mathrm{d}t$ [ns]\", r\"$\\mathrm{d}a$  [deg]\"])\n",
    "fig = figure.Figure(figsize=(5,3))\n",
    "ax = fig.add_subplot()\n",
    "hist2d(mplets.table[\"dt\"]/1e9,mplets.table[\"da\"],ax=ax,new_fig=False,bins=20)\n",
    "       \n",
    "labels=[r\"$\\mathrm{d}t$ [s]\", r\"$\\mathrm{d}a$  [deg]\"]\n",
    "ax.set_xlabel(labels[0])\n",
    "ax.set_ylabel(labels[1])\n",
    "ax.set_xlim(0,3)\n",
    "ax.set_ylim(0,0.3)\n",
    "for ax in fig.get_axes():\n",
    "    for spine in [\"right\",\"top\"]:\n",
    "        ax.spines[spine].set_visible(True)\n",
    "ax.text(0.3,0.09,\"Countour lines shown:\\n0.5, 1, 1.5 and 2$\\sigma$\",horizontalalignment=\"left\",verticalalignment=\"top\")\n",
    "fig.savefig(\"figures/dt_da_2dhist.png\",facecolor=\"white\")\n",
    "# fig.savefig(\"figures/combined/n3_corner_dt_da.png\",facecolor=\"white\",dpi=300)"
   ]
  },
  {
   "cell_type": "code",
   "execution_count": null,
   "metadata": {},
   "outputs": [],
   "source": [
    "max(mplets.table[\"Nmax\"])"
   ]
  },
  {
   "cell_type": "code",
   "execution_count": null,
   "metadata": {},
   "outputs": [],
   "source": [
    "from scipy.spatial import KDTree"
   ]
  },
  {
   "cell_type": "code",
   "execution_count": null,
   "metadata": {},
   "outputs": [],
   "source": [
    "t = KDTree([[1,2],[3,4]])"
   ]
  },
  {
   "cell_type": "code",
   "execution_count": null,
   "metadata": {},
   "outputs": [],
   "source": [
    "with open(\"pkl_jugs/n4/mplets_with_tevcat.pkl\", \"rb\") as f:\n",
    "    mplets_sorted = dill.load(f)\n",
    "mplets_sorted.table.sort(\"Nmax\")\n",
    "A = mplets_sorted.table[\"TEVCAT_SOURCE_TYPE\",\"TEVCAT_SOURCE_NAME\"][::-1][:100]\n",
    "from pprint import pprint\n",
    "pprint(np.unique(A).tolist())"
   ]
  },
  {
   "cell_type": "markdown",
   "metadata": {},
   "source": [
    "TeVCat distance histogram (keep!)"
   ]
  },
  {
   "cell_type": "code",
   "execution_count": null,
   "metadata": {},
   "outputs": [],
   "source": [
    "# current_mask = nosource_mask\n",
    "from matplotlib.figure import Axes\n",
    "\n",
    "vline_sourcebound = .2\n",
    "plt.figure(figsize=(6,3))\n",
    "hist = vis.hist(mplets.table[\"TEVCAT_DISTANCES_DEG\"],bins=\"freedman\",histtype=\"step\",stacked=True)\n",
    "ax: Axes = plt.gca()\n",
    "# ax.set_title(\"Multiplet distance to nearest TeVCat source.\",loc=\"left\")\n",
    "ax.set_xlabel(\"Distance [deg]\")\n",
    "ax.set_ylabel(\"Counts\")\n",
    "ylim = ax.get_ylim()\n",
    "# ax.vlines(vline_sourcebound,0,ylim[1],color=\"red\",ls=\"--\",label=f\"{vline_sourcebound} deg\")\n",
    "# ax.set_yscale(\"log\")\n",
    "ax.set_xlim(-.5,8)\n",
    "ax.fill_between([0,vline_sourcebound],*ylim, alpha=0.3, color=\"m\",label=\"Associated with TeVCat source.\")\n",
    "ax.text(.3, 1e3, \"Associated with know TeVCat source.\")\n",
    "# ax.text(2, 2650 + 50, \"Associated with know TeVCat source.\")\n",
    "ax.arrow(1.9,2675 + 50,-1.5,0, lw=0.5)\n",
    "\n",
    "# ax.fill_between([5,20],ylim[0],ylim[1]/5,color=\"green\",alpha=0.3)\n",
    "ax.text(3.5,25e1,\"Tail: PNT not towards TeVCat source.\")\n",
    "ax.set_ylim(*ylim)\n",
    "# ax.legend()\n",
    "# ax.set_xscale(\"log\")\n",
    "plt.savefig(\"figures/n4_sourcedist_hist_makeup.png\",facecolor=\"white\",dpi=300)"
   ]
  },
  {
   "cell_type": "markdown",
   "metadata": {},
   "source": [
    "HEALPix"
   ]
  },
  {
   "cell_type": "code",
   "execution_count": 2,
   "metadata": {},
   "outputs": [
    {
     "name": "stdout",
     "output_type": "stream",
     "text": [
      "Unknown observatory name found in GRB 160821B:  None\n",
      "Unknown \"discoverer\" ID found in GRB 160821B: None\n",
      "Unknown observatory name found in SNR G004.8+6.2:  None\n",
      "Unknown \"discoverer\" ID found in SNR G004.8+6.2: None\n",
      "Unknown observatory name found in 3HWC J0621+382:  None\n",
      "Unknown \"discoverer\" ID found in 3HWC J0621+382: None\n",
      "Unknown observatory name found in 3HWC J0630+186:  None\n",
      "Unknown \"discoverer\" ID found in 3HWC J0630+186: None\n",
      "Unknown observatory name found in 3HWC J0631+107:  None\n",
      "Unknown \"discoverer\" ID found in 3HWC J0631+107: None\n"
     ]
    }
   ],
   "source": [
    "from tevcat import TeVCat, Source\n",
    "tc = TeVCat()\n",
    "sources = tc.getSources()"
   ]
  },
  {
   "cell_type": "code",
   "execution_count": 3,
   "metadata": {},
   "outputs": [],
   "source": [
    "# Assuming you have a list of sources called 'sources'\n",
    "def get_source_galactic(desired_name:str,sources: list[Source]):\n",
    "    selected_source = None\n",
    "\n",
    "    for source in sources:\n",
    "        if source.canonical_name == desired_name:\n",
    "            selected_source: Source = source\n",
    "            break\n",
    "\n",
    "    if selected_source is None:\n",
    "        raise ValueError(f\"{desired_name} not contained in sources\")\n",
    "    return selected_source.galactic\n",
    "\n",
    "# Assuming you have a list of sources called 'sources'\n",
    "def get_source_galactic(desired_name:str,sources: list[Source]):\n",
    "    selected_source = None\n",
    "\n",
    "    for source in sources:\n",
    "        if source.canonical_name == desired_name:\n",
    "            selected_source: Source = source\n",
    "            break\n",
    "\n",
    "    if selected_source is None:\n",
    "        raise ValueError(f\"{desired_name} not contained in sources\")\n",
    "    return selected_source.galactic\n",
    "\n",
    "names = [\"Crab\", \"PKS 2155-304\", \"Markarian 421\"]\n",
    "coords = [get_source_galactic(name,sources) for name in names]"
   ]
  },
  {
   "cell_type": "code",
   "execution_count": 4,
   "metadata": {},
   "outputs": [],
   "source": [
    "fig,ax = scani.main_aitov(mplets)\n",
    "\n",
    "xoffsets,yoffsets = np.radians([-5,-5,-10]),np.radians([0,0,0])\n",
    "\n",
    "for name,coord,dx,dy in zip(names,coords,xoffsets,yoffsets):\n",
    "    x,y = -np.radians([scani.convert_angle(coord.l.value)]),np.radians([coord.b.value])\n",
    "    ax.scatter(x,y,color=\"black\",marker=\".\",s=10,zorder=2)\n",
    "    ax.text(x-dx,y-dy,name,fontsize=\"x-small\")\n",
    "\n",
    "\n",
    "\n",
    "fig.savefig(\"figures/labelled_aitov.png\",facecolor=\"white\",dpi=300)"
   ]
  },
  {
   "cell_type": "code",
   "execution_count": null,
   "metadata": {},
   "outputs": [],
   "source": [
    "fig = plt.figure(dpi=300)\n",
    "\n",
    "Nmax_mask = mplets.table[\"Nmax\"] >= 4\n",
    "dt_mask = mplets.table[\"dt\"] <= 1e9\n",
    "current_mask = nosource_mask*Nmax_mask*dt_mask\n",
    "\n",
    "cmap = cm.jet\n",
    "cmap.set_bad(\"r\")\n",
    "NSIDE = 2**5\n",
    "m = scani.cat2hpx(mplets.table[current_mask][\"MEDIAN_RA\"],mplets.table[current_mask][\"MEDIAN_DEC\"],nside=NSIDE)\n",
    "print(np.sqrt(hp.nside2pixarea(NSIDE,degrees=True)))\n",
    "mmin, mmax = min(m),max(m)\n",
    "\n",
    "hp.mollview(m,cmap=cmap, hold=True,nest=False,min=mmin,max=mmax,notext=True,fig=1,cbar=False,title=\"Transient tool applied on all H.E.S.S. data.\")\n",
    "#create a colorbar axis\n",
    "cax = fig.add_axes([0.125, 0.1, 0.775, 0.03])\n",
    "\n",
    "#create a colorbar and normalise it\n",
    "# cmap.set_under(\"white\")\n",
    "# axs = fig.get_axes()\n",
    "# axs[0].images[0].set_norm(colors.SymLogNorm(100))\n",
    "cb = mpl.colorbar.ColorbarBase(cax,cmap=cmap,norm=mpl.colors.Normalize(vmin=mmin,vmax=mmax),\n",
    "                               orientation='horizontal')\n",
    "cb.set_label(\"Counts\")\n",
    "cb.solids.set_edgecolor(\"face\")\n",
    "\n",
    "plt.show()\n",
    "# plt.savefig(\"figures/combined/healpy.png\",facecolor=\"white\")"
   ]
  },
  {
   "cell_type": "markdown",
   "metadata": {},
   "source": [
    "Nmax histogram"
   ]
  },
  {
   "cell_type": "code",
   "execution_count": null,
   "metadata": {},
   "outputs": [],
   "source": [
    "totalmask = nosource_mask * xgal_mask\n",
    "nos = nosource_mask * ~xgal_mask\n",
    "xgal = ~nosource_mask * xgal_mask\n",
    "sourcegal = ~nosource_mask * ~xgal_mask\n",
    "\n",
    "\n",
    "remaining_Nmax = max(mplets.table[totalmask][\"Nmax\"])\n",
    "print(f\"Nmax left after mask: {remaining_Nmax}\")\n",
    "nmax_data = mplets.table[\"Nmax\"]\n",
    "plt.figure(figsize=(6,3))\n",
    "n,bins,_ = plt.hist([nmax_data[totalmask],nmax_data[nos],nmax_data[sourcegal],nmax_data[xgal]],bins=range(4,22),histtype=\"bar\",stacked=True,color=[\"c\",\"m\",\"y\",\"lightgrey\"],label=[\"extragalactic, sourceless\",\"galactic, sourceless\",\"galactic, source assoc.\",\"extragalatic, source assoc.\"],align=\"left\")\n",
    "plt.hist(nmax_data,color=\"black\",histtype=\"step\",bins=bins,label=\"Total\",align=\"left\")\n",
    "ax = plt.gca()\n",
    "ax.set_xlabel(\"$N_m$\")\n",
    "ax.set_ylabel(\"Counts\")\n",
    "ax.set_yscale(\"log\")\n",
    "ax.legend()\n",
    "ax.set_xticks(range(4,22,2))\n",
    "# ax.set_title(\"Multiplicity $N_m$ of multiplets.\",loc=\"left\")\n",
    "# plt.show()\n",
    "plt.savefig(\"figures/n4_Nmax_hist.png\",facecolor=\"white\",dpi=300)"
   ]
  },
  {
   "cell_type": "code",
   "execution_count": null,
   "metadata": {},
   "outputs": [],
   "source": [
    "mplets.table.colnames"
   ]
  },
  {
   "cell_type": "code",
   "execution_count": null,
   "metadata": {},
   "outputs": [],
   "source": [
    "tab = mplets.table[sourcegal][\"TEVCAT_SOURCE_NAME\",\"TEVCAT_DISTANCES_DEG\",\"TEVCAT_SOURCE_TYPE\"]\n",
    "tab.group_by(\"TEVCAT_SOURCE_NAME\")\n",
    "tab.pprint_all()"
   ]
  },
  {
   "cell_type": "code",
   "execution_count": null,
   "metadata": {},
   "outputs": [],
   "source": [
    "crab = np.asarray([item in [\"Crab\",\"Crab Nebula\"] for item in mplets.table[\"TEVCAT_SOURCE_NAME\"]])\n",
    "a = sum(sourcegal)\n",
    "b = sum(xgal)\n",
    "print(sum(crab))\n",
    "c = a/(a+b)\n",
    "\n",
    "avar, bvar = a,b\n",
    "cvar = (1/(a+b)**2)*(avar + (avar + bvar)*(a/(a + b))**2)\n",
    "print(c,np.sqrt(cvar))"
   ]
  },
  {
   "cell_type": "code",
   "execution_count": null,
   "metadata": {},
   "outputs": [],
   "source": [
    "# current_mask = nosource_mask# * mplets.table[\"Nmax\"] > 3\n",
    "temp = mplets.table[current_mask][\"Nmax\",\"OBS_ID\",\"dt\",\"da\",\"MEDIAN_GLAT\",\"TEVCAT_SOURCE_NAME\",\"TEVCAT_SOURCE_TYPE\",\"TEVCAT_DISTANCES_DEG\"]\n",
    "temp[:]"
   ]
  },
  {
   "cell_type": "code",
   "execution_count": null,
   "metadata": {},
   "outputs": [],
   "source": [
    "temp.sort[\"Nmax\"]"
   ]
  },
  {
   "cell_type": "code",
   "execution_count": null,
   "metadata": {},
   "outputs": [],
   "source": [
    "Nmax = 3\n",
    "run_count_rate = 1/60\n",
    "expected_photons_3sec = 3*run_count_rate\n",
    "\n",
    "expected_photons_3sec"
   ]
  },
  {
   "cell_type": "code",
   "execution_count": null,
   "metadata": {},
   "outputs": [],
   "source": [
    "from math import factorial\n",
    "sum = 1\n",
    "\n",
    "for i in range(Nmax):\n",
    "    sum -= expected_photons_3sec**(i)*np.exp(-expected_photons_3sec)/(factorial(i))\n",
    "sum\n",
    "                                                                      \n",
    "                                                                    "
   ]
  },
  {
   "cell_type": "code",
   "execution_count": null,
   "metadata": {},
   "outputs": [],
   "source": [
    "import numpy as np\n",
    "import matplotlib.pyplot as plt\n",
    "from math import factorial\n",
    "\n",
    "@np.vectorize\n",
    "def pvalue(lamb):\n",
    "    Nmax = 3\n",
    "    sum = 1\n",
    "    for i in range(Nmax):\n",
    "        sum -= lamb**(i)*np.exp(-lamb)/(factorial(i))\n",
    "    return sum\n",
    "\n",
    "dt = np.geomspace(0.1,3,10)\n",
    "lamb = (1/60)*dt\n",
    "pval = pvalue(lamb)\n",
    "plt.scatter(dt,pval)\n",
    "plt.xscale(\"log\")\n",
    "plt.yscale(\"log\")\n",
    "    \n"
   ]
  },
  {
   "cell_type": "code",
   "execution_count": null,
   "metadata": {},
   "outputs": [],
   "source": []
  }
 ],
 "metadata": {
  "kernelspec": {
   "display_name": "gammatransients",
   "language": "python",
   "name": "python3"
  },
  "language_info": {
   "codemirror_mode": {
    "name": "ipython",
    "version": 3
   },
   "file_extension": ".py",
   "mimetype": "text/x-python",
   "name": "python",
   "nbconvert_exporter": "python",
   "pygments_lexer": "ipython3",
   "version": "3.9.15"
  },
  "orig_nbformat": 4
 },
 "nbformat": 4,
 "nbformat_minor": 2
}
