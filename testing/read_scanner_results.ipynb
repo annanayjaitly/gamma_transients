{
 "cells": [
  {
   "cell_type": "code",
   "execution_count": 1,
   "metadata": {},
   "outputs": [],
   "source": [
    "# import dill\n",
    "import numpy as np\n",
    "from matplotlib import figure, gridspec\n",
    "# from pathlib import Path\n",
    "# from astropy.table import Table\n",
    "# from astropy import units as u\n",
    "# from astropy.coordinates import SkyCoord\n",
    "\n",
    "import scanner_interpretation as scani\n",
    "\n",
    "import healpy as hp\n",
    "\n",
    "from matplotlib import colors,cm\n",
    "import matplotlib.pyplot as plt\n",
    "from astropy import visualization as vis\n",
    "\n",
    "\n",
    "\n",
    "bands = [\"u_5_15\", \"u_15_25\", \"u_25_35\", \"u_35_45\", \"u_45_55\", \"u_55_65\", \"u_65_75\", \"u_75_90\", \"l_15_5\", \"l_25_15\", \"l_35_25\", \"l_45_35\", \"l_55_45\", \"l_65_55\", \"l_75_65\", \"l_90_75\", \"center\"]\n",
    "versions = [\"hess1\",\"hess1u\"]\n",
    "paths = [f\"/lustre/fs22/group/hess/user/wybouwt/full_scanner_survey/{version}/{band}\" for band in bands for version in versions]\n",
    "# mplets = scani.Multiplets(paths[0])\n",
    "# mplets.appendMultiplets(*[scani.Multiplets(path) for path in paths[1:]])\n",
    "mplet_list = [scani.Multiplets(path) for path in paths]\n",
    "\n",
    "\n",
    "unicorns = [9,18]\n",
    "for j in unicorns:\n",
    "    mplet_list[j].objectifyColumns()\n",
    "\n",
    "    \n",
    "mplets = mplet_list[0]\n",
    "mplets.appendMultiplets(*mplet_list[1:])"
   ]
  },
  {
   "cell_type": "markdown",
   "metadata": {},
   "source": [
    "Aitov scatter"
   ]
  },
  {
   "cell_type": "code",
   "execution_count": null,
   "metadata": {},
   "outputs": [],
   "source": [
    "fig,ax = mplets.getAitoffFigure()\n",
    "fig.savefig(\"figures/combined/aitoff.png\",facecolor=\"white\",dpi=300)"
   ]
  },
  {
   "cell_type": "markdown",
   "metadata": {},
   "source": [
    "Cornerplot of the resulting multiplets"
   ]
  },
  {
   "cell_type": "code",
   "execution_count": null,
   "metadata": {},
   "outputs": [],
   "source": [
    "# plotting mplet results\n",
    "from corner import corner\n",
    "\n",
    "fig = corner(mplets.table.to_pandas(),var_names=[\"Nmax\",\"dt\",\"da\"])\n",
    "fig.savefig(\"figures/combined/corner_center.png\",facecolor=\"white\",dpi=300)"
   ]
  },
  {
   "cell_type": "markdown",
   "metadata": {},
   "source": [
    "HEALPix"
   ]
  },
  {
   "cell_type": "code",
   "execution_count": null,
   "metadata": {},
   "outputs": [],
   "source": [
    "mask = mplets.table[\"Nmax\"]>=3\n",
    "cmap = cm.plasma\n",
    "cmap.set_under(\"white\")\n",
    "m = scani.cat2hpx(mplets.table[mask][\"MEDIAN_RA\"],mplets.table[mask][\"MEDIAN_DEC\"],nside=2**7)\n",
    "hp.mollview(m,cmap=cmap)\n",
    "ax = plt.gca()\n",
    "ax.images[0].set_norm(colors.PowerNorm(.2))\n",
    "# plt.savefig(\"figures/combined/healpy.png\",facecolor=\"white\")"
   ]
  },
  {
   "cell_type": "markdown",
   "metadata": {},
   "source": [
    "Simbad search"
   ]
  },
  {
   "cell_type": "code",
   "execution_count": 4,
   "metadata": {},
   "outputs": [],
   "source": [
    "with open(\"output.txt\",\"w\") as f:\n",
    "    f.write(mplets.constructSimbadCriteria(True))\n",
    "# simbad_results = mplets.searchSimbad(coordinate_criteria=True)"
   ]
  },
  {
   "cell_type": "code",
   "execution_count": 5,
   "metadata": {},
   "outputs": [
    {
     "ename": "NameError",
     "evalue": "name 'simbad_results' is not defined",
     "output_type": "error",
     "traceback": [
      "\u001b[0;31m---------------------------------------------------------------------------\u001b[0m",
      "\u001b[0;31mNameError\u001b[0m                                 Traceback (most recent call last)",
      "\u001b[1;32m/afs/ifh.de/user/w/wybouwt/git/gamma_transients/testing/read_scanner_results.ipynb Cell 10\u001b[0m in \u001b[0;36m<cell line: 1>\u001b[0;34m()\u001b[0m\n\u001b[0;32m----> <a href='vscode-notebook-cell://ssh-remote%2Bhess-wgs2/afs/ifh.de/user/w/wybouwt/git/gamma_transients/testing/read_scanner_results.ipynb#X30sdnNjb2RlLXJlbW90ZQ%3D%3D?line=0'>1</a>\u001b[0m \u001b[39mprint\u001b[39m(simbad_results)\n",
      "\u001b[0;31mNameError\u001b[0m: name 'simbad_results' is not defined"
     ]
    }
   ],
   "source": [
    "print(simbad_results)"
   ]
  },
  {
   "cell_type": "markdown",
   "metadata": {},
   "source": [
    "TeVCat search and distance histogram"
   ]
  },
  {
   "cell_type": "code",
   "execution_count": null,
   "metadata": {},
   "outputs": [],
   "source": [
    "from tevcat import TeVCat\n",
    "tevcat = TeVCat()\n",
    "mplets.searchTeVCat(tevcat.sources)\n",
    "\n",
    "\n",
    "vline_sourcebound = .2\n",
    "hist = vis.hist(mplets.table[\"TEVCAT_DISTANCES_DEG\"],bins=\"freedman\",histtype=\"step\")\n",
    "ax = plt.gca()\n",
    "ax.set_xlabel(\"Distance to nearest source [deg]\")\n",
    "ax.set_ylabel(\"Counts\")\n",
    "ax.vlines(vline_sourcebound,0,1e4,color=\"red\",ls=\"--\",label=f\"{vline_sourcebound} deg\")\n",
    "ax.set_yscale(\"log\")\n",
    "ax.set_xlim(0,30)\n",
    "ax.legend()\n",
    "# ax.set_xscale(\"log\")\n",
    "plt.savefig(\"figures/combined/sourcedist_hist.png\",facecolor=\"white\")"
   ]
  },
  {
   "cell_type": "markdown",
   "metadata": {},
   "source": [
    "Nmax histogram"
   ]
  },
  {
   "cell_type": "code",
   "execution_count": null,
   "metadata": {},
   "outputs": [],
   "source": [
    "hist = vis.hist(mplets.table[\"Nmax\"],bins=range(3,22),histtype=\"step\")\n",
    "ax = plt.gca()\n",
    "ax.set_xlabel(\"Nmax\")\n",
    "ax.set_ylabel(\"Counts\")\n",
    "ax.set_yscale(\"log\")\n",
    "ax.set_xticks(range(3,22))\n",
    "plt.savefig(\"figures/combined/Nmax_hist.png\",facecolor=\"white\")"
   ]
  },
  {
   "cell_type": "code",
   "execution_count": null,
   "metadata": {},
   "outputs": [],
   "source": [
    "big_mplets = mplets.table[\"Nmax\"] >= 7\n",
    "mplets.table.group_by(\"SOURCE\")\n",
    "mplets.table[big_mplets]"
   ]
  },
  {
   "cell_type": "code",
   "execution_count": null,
   "metadata": {},
   "outputs": [],
   "source": [
    "mplets.table[\"SOURCE\"][1].getID()"
   ]
  },
  {
   "cell_type": "code",
   "execution_count": null,
   "metadata": {},
   "outputs": [],
   "source": []
  }
 ],
 "metadata": {
  "kernelspec": {
   "display_name": "gammatransients",
   "language": "python",
   "name": "python3"
  },
  "language_info": {
   "codemirror_mode": {
    "name": "ipython",
    "version": 3
   },
   "file_extension": ".py",
   "mimetype": "text/x-python",
   "name": "python",
   "nbconvert_exporter": "python",
   "pygments_lexer": "ipython3",
   "version": "3.9.15"
  },
  "orig_nbformat": 4
 },
 "nbformat": 4,
 "nbformat_minor": 2
}
