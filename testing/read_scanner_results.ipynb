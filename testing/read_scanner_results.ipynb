{
 "cells": [
  {
   "cell_type": "code",
   "execution_count": 1,
   "metadata": {},
   "outputs": [],
   "source": [
    "import dill\n",
    "import numpy as np\n",
    "from matplotlib import figure, gridspec\n",
    "from corner import corner\n",
    "from pathlib import Path\n",
    "from astropy.table import Table\n",
    "from astropy import units as u\n",
    "from astropy.coordinates import SkyCoord\n",
    "\n",
    "import scanner_interpretation as scani\n",
    "\n",
    "import healpy as hp"
   ]
  },
  {
   "cell_type": "markdown",
   "metadata": {},
   "source": [
    "Init scani.Multiplets"
   ]
  },
  {
   "cell_type": "code",
   "execution_count": 2,
   "metadata": {},
   "outputs": [],
   "source": [
    "bands = [\"u_5_15\", \"u_15_25\", \"u_25_35\", \"u_35_45\", \"u_45_55\", \"u_55_65\", \"u_65_75\", \"u_75_90\", \"l_15_5\", \"l_25_15\", \"l_35_25\", \"l_45_35\", \"l_55_45\", \"l_65_55\", \"l_75_65\", \"l_90_75\", \"center\"]\n",
    "versions = [\"hess1\",\"hess1u\"]\n",
    "paths = [f\"/lustre/fs22/group/hess/user/wybouwt/full_scanner_survey/{version}/{band}\" for band in bands for version in versions]\n",
    "# mplets = scani.Multiplets(paths[0])\n",
    "# mplets.appendMultiplets(*[scani.Multiplets(path) for path in paths[1:]])\n",
    "mplet_list = [scani.Multiplets(path) for path in paths]"
   ]
  },
  {
   "cell_type": "code",
   "execution_count": 26,
   "metadata": {},
   "outputs": [],
   "source": [
    "unicorns = [9,18]\n",
    "unicorns_columnname = [\"ID\",\"RA\",\"DEC\",\"TIME\",\"ENERGY\"]\n",
    "for j in unicorns:\n",
    "    for name in unicorns_columnname:\n",
    "        mplet_list[j].table.replace_column(name,mplet_list[j].table[name].astype('O'))"
   ]
  },
  {
   "cell_type": "code",
   "execution_count": 32,
   "metadata": {},
   "outputs": [
    {
     "data": {
      "text/html": [
       "<div><i>Table length=13</i>\n",
       "<table id=\"table140224369768528\" class=\"table-striped table-bordered table-condensed\">\n",
       "<thead><tr><th>Nmax</th><th>OBS_ID</th><th>ID</th><th>RA</th><th>DEC</th><th>TIME</th><th>ENERGY</th><th>dt</th><th>da</th><th>MEDIAN_RA</th><th>MEDIAN_DEC</th><th>SkyCoord</th><th>MEDIAN_GLAT</th><th>MEDIAN_GLON</th></tr></thead>\n",
       "<thead><tr><th></th><th></th><th></th><th></th><th></th><th></th><th></th><th></th><th></th><th></th><th></th><th>deg,deg</th><th>deg</th><th>deg</th></tr></thead>\n",
       "<thead><tr><th>int64</th><th>uint32</th><th>object[3]</th><th>object[3]</th><th>object[3]</th><th>object[3]</th><th>object[3]</th><th>float64</th><th>float64</th><th>float32</th><th>float32</th><th>SkyCoord</th><th>float64</th><th>float64</th></tr></thead>\n",
       "<tr><td>3</td><td>140087</td><td>10531259814217 .. 10531259815596</td><td>212.1737060546875 .. 212.30426025390625</td><td>-12.49532699584961 .. -12.508342742919922</td><td>1530818238434445435 .. 1530818239179256016</td><td>0.7745782732963562 .. 0.37881094217300415</td><td>744810752.0</td><td>0.16250460203130818</td><td>212.1737</td><td>-12.508343</td><td>212.1737060546875,-12.508342742919922</td><td>46.15408269711222</td><td>330.71530891918434</td></tr>\n",
       "<tr><td>3</td><td>140086</td><td>10398115824787 .. 10398115829096</td><td>212.81011962890625 .. 212.72799682617188</td><td>-11.783924102783203 .. -11.636760711669922</td><td>1530818063738477761 .. 1530818066065550143</td><td>0.2771303355693817 .. 0.19144627451896667</td><td>2327072256.0</td><td>0.18004563541723828</td><td>212.728</td><td>-11.696764</td><td>212.72799682617188,-11.69676399230957</td><td>46.65116108796931</td><td>331.9331928705094</td></tr>\n",
       "<tr><td>3</td><td>140086</td><td>9732395896694 .. 9736690860550</td><td>211.51942443847656 .. 211.5780029296875</td><td>-11.467324256896973 .. -11.324925422668457</td><td>1530817440640728289 .. 1530817442825379187</td><td>0.3617940843105316 .. 0.3369676470756531</td><td>2184650752.0</td><td>0.19955357139305013</td><td>211.51942</td><td>-11.324925</td><td>211.51942443847656,-11.324925422668457</td><td>47.49721829905346</td><td>330.599536791703</td></tr>\n",
       "<tr><td>3</td><td>140087</td><td>12223476930429 .. 12227771895166</td><td>213.0847930908203 .. 213.06846618652344</td><td>-12.709156036376953 .. -12.580667495727539</td><td>1530819830276307160 .. 1530819832812289530</td><td>0.27239367365837097 .. 2.2160563468933105</td><td>2535982336.0</td><td>0.171951308038539</td><td>213.06847</td><td>-12.5806675</td><td>213.06846618652344,-12.580667495727539</td><td>45.71100711028179</td><td>331.8024959652766</td></tr>\n",
       "<tr><td>3</td><td>140086</td><td>9526237466394 .. 9526237469568</td><td>212.3584442138672 .. 212.31654357910156</td><td>-12.383546829223633 .. -12.31441593170166</td><td>1530817247245024497 .. 1530817248942318970</td><td>0.150545135140419 .. 0.6140473484992981</td><td>1697294336.0</td><td>0.09668532752201277</td><td>212.31654</td><td>-12.382582</td><td>212.31654357910156,-12.38258171081543</td><td>46.20831354040658</td><td>330.97499496976644</td></tr>\n",
       "<tr><td>3</td><td>140086</td><td>8877697404276 .. 8881992370055</td><td>211.79469299316406 .. 211.9169464111328</td><td>-10.796531677246094 .. -10.836203575134277</td><td>1530816639655889804 .. 1530816642235175425</td><td>0.389206200838089 .. 0.24049772322177887</td><td>2579285504.0</td><td>0.1595352927906261</td><td>211.7947</td><td>-10.796532</td><td>211.79469299316406,-10.796531677246094</td><td>47.86021360586234</td><td>331.29683945972545</td></tr>\n",
       "<tr><td>3</td><td>140084</td><td>8310761719606 .. 8310761722239</td><td>211.53395080566406 .. 211.62399291992188</td><td>-12.870762825012207 .. -13.027328491210938</td><td>1530815833089785391 .. 1530815834614282662</td><td>0.16259102523326874 .. 0.4657246768474579</td><td>1524497408.0</td><td>0.19391489079446442</td><td>211.624</td><td>-12.870763</td><td>211.62399291992188,-12.870762825012207</td><td>46.0495264161204</td><td>329.7940623065319</td></tr>\n",
       "<tr><td>3</td><td>140084</td><td>8306466756002 .. 8310761721389</td><td>211.64617919921875 .. 211.6842041015625</td><td>-12.86363697052002 .. -12.869563102722168</td><td>1530815831175235325 .. 1530815834121170098</td><td>0.16114681959152222 .. 0.2876841425895691</td><td>2945934848.0</td><td>0.15025808551261605</td><td>211.64618</td><td>-12.869563</td><td>211.64617919921875,-12.869563102722168</td><td>46.04168788601786</td><td>329.8231747944719</td></tr>\n",
       "<tr><td>3</td><td>140084</td><td>8250632177324 .. 8250632182316</td><td>212.3389892578125 .. 212.1925506591797</td><td>-11.955872535705566 .. -12.075133323669434</td><td>1530815776592960412 .. 1530815779422115142</td><td>0.2411983758211136 .. 0.23085607588291168</td><td>2829154560.0</td><td>0.18885814442407414</td><td>212.20786</td><td>-11.955873</td><td>212.20785522460938,-11.955872535705566</td><td>46.63934665119829</td><td>331.10128350021324</td></tr>\n",
       "<tr><td>3</td><td>140084</td><td>8186207666561 .. 8186207666917</td><td>211.39109802246094 .. 211.31761169433594</td><td>-12.681041717529297 .. -12.554638862609863</td><td>1530815715371547038 .. 1530815715572378451</td><td>0.6826751828193665 .. 0.3417363166809082</td><td>200831232.0</td><td>0.19405751983738675</td><td>211.31761</td><td>-12.554639</td><td>211.31761169433594,-12.554638862609863</td><td>46.46051446015632</td><td>329.5877878915325</td></tr>\n",
       "<tr><td>3</td><td>140083</td><td>5493263175325 .. 5497558139865</td><td>211.02821350097656 .. 211.12551879882812</td><td>-9.973297119140625 .. -10.130267143249512</td><td>1530813154893683011 .. 1530813157398526007</td><td>0.7734624147415161 .. 0.1437842696905136</td><td>2504843008.0</td><td>0.1846832679446781</td><td>211.1207</td><td>-10.071791</td><td>211.12069702148438,-10.07179069519043</td><td>48.79856615123476</td><td>330.8606286713911</td></tr>\n",
       "<tr><td>3</td><td>140086</td><td>9208409883887 .. 9208409884989</td><td>212.9193878173828 .. 212.92140197753906</td><td>-10.284598350524902 .. -10.416013717651367</td><td>1530816947591315323 .. 1530816948199466044</td><td>0.20752422511577606 .. 0.6709996461868286</td><td>608150784.0</td><td>0.19869932522828576</td><td>212.9214</td><td>-10.284598</td><td>212.92140197753906,-10.284598350524902</td><td>47.828936784215976</td><td>333.11447524130955</td></tr>\n",
       "<tr><td>3</td><td>152107</td><td>5952824673327 .. 5957119639662</td><td>203.23458862304688 .. 203.12005615234375</td><td>-8.067400932312012 .. -7.947641849517822</td><td>1564773708725654418 .. 1564773711220740849</td><td>1.4101932048797607 .. 0.8862959742546082</td><td>2495086336.0</td><td>0.1877703007069589</td><td>203.23459</td><td>-7.947642</td><td>203.23458862304688,-7.947641849517822</td><td>53.51184889662628</td><td>320.3860004874981</td></tr>\n",
       "</table></div>"
      ],
      "text/plain": [
       "<Table length=13>\n",
       " Nmax OBS_ID ...    MEDIAN_GLAT        MEDIAN_GLON    \n",
       "             ...        deg                deg        \n",
       "int64 uint32 ...      float64            float64      \n",
       "----- ------ ... ------------------ ------------------\n",
       "    3 140087 ...  46.15408269711222 330.71530891918434\n",
       "    3 140086 ...  46.65116108796931  331.9331928705094\n",
       "    3 140086 ...  47.49721829905346   330.599536791703\n",
       "    3 140087 ...  45.71100711028179  331.8024959652766\n",
       "    3 140086 ...  46.20831354040658 330.97499496976644\n",
       "    3 140086 ...  47.86021360586234 331.29683945972545\n",
       "    3 140084 ...   46.0495264161204  329.7940623065319\n",
       "    3 140084 ...  46.04168788601786  329.8231747944719\n",
       "    3 140084 ...  46.63934665119829 331.10128350021324\n",
       "    3 140084 ...  46.46051446015632  329.5877878915325\n",
       "    3 140083 ...  48.79856615123476  330.8606286713911\n",
       "    3 140086 ... 47.828936784215976 333.11447524130955\n",
       "    3 152107 ...  53.51184889662628  320.3860004874981"
      ]
     },
     "execution_count": 32,
     "metadata": {},
     "output_type": "execute_result"
    }
   ],
   "source": [
    "# mplets = mplet_list[0]\n",
    "# mplets.appendMultiplets(*mplet_list[1:])\n",
    "mplet_list[unicorns[0]].table[4:]"
   ]
  },
  {
   "cell_type": "markdown",
   "metadata": {},
   "source": [
    "Aitov scatter"
   ]
  },
  {
   "cell_type": "code",
   "execution_count": null,
   "metadata": {},
   "outputs": [],
   "source": [
    "bounds = [-5.,5.]\n",
    "\n",
    "fig,ax = mplets.getAitoffFigure(bounds)\n",
    "fig.savefig(\"figures/hess1/aitoff_center.png\",facecolor=\"white\",dpi=300)"
   ]
  },
  {
   "cell_type": "markdown",
   "metadata": {},
   "source": [
    "Cornerplot of the resulting multiplets"
   ]
  },
  {
   "cell_type": "code",
   "execution_count": null,
   "metadata": {},
   "outputs": [],
   "source": [
    "# plotting mplet results\n",
    "fig = corner(mplets.table.to_pandas(),var_names=[\"Nmax\",\"dt\",\"da\", \"MEAN_GLAT\"])\n",
    "fig.savefig(\"figures/hess1/corner_center.png\",facecolor=\"white\",dpi=300)"
   ]
  },
  {
   "cell_type": "markdown",
   "metadata": {},
   "source": [
    "HEALPix"
   ]
  },
  {
   "cell_type": "code",
   "execution_count": null,
   "metadata": {},
   "outputs": [],
   "source": [
    "mask = mplets.table[\"Nmax\"]==5\n",
    "m = scani.cat2hpx(mplets.table[mask][\"MEDIAN_RA\"],mplets.table[mask][\"MEDIAN_DEC\"],nside=2**5)\n",
    "hp.mollview(m)"
   ]
  },
  {
   "cell_type": "code",
   "execution_count": 36,
   "metadata": {},
   "outputs": [
    {
     "name": "stdout",
     "output_type": "stream",
     "text": [
      "        A   B\n",
      "0  [1, 2]   4\n",
      "1  [2, 4]   5\n",
      "2  [3, 5]   6\n",
      "3       7  10\n",
      "4       8  11\n",
      "5       9  12\n"
     ]
    }
   ],
   "source": [
    "import pandas as pd\n",
    "\n",
    "# Example dataframes\n",
    "df1 = pd.DataFrame({'A': [[1,2], [2,4], [3,5]], 'B': [4, 5, 6]})\n",
    "df2 = pd.DataFrame({'A': [7, 8, 9], 'B': [10, 11, 12]})\n",
    "\n",
    "# Vertically stack the dataframes\n",
    "result = pd.concat([df1, df2], ignore_index=True)\n",
    "\n",
    "print(result)"
   ]
  },
  {
   "cell_type": "code",
   "execution_count": null,
   "metadata": {},
   "outputs": [],
   "source": []
  }
 ],
 "metadata": {
  "kernelspec": {
   "display_name": "gammatransients",
   "language": "python",
   "name": "python3"
  },
  "language_info": {
   "codemirror_mode": {
    "name": "ipython",
    "version": 3
   },
   "file_extension": ".py",
   "mimetype": "text/x-python",
   "name": "python",
   "nbconvert_exporter": "python",
   "pygments_lexer": "ipython3",
   "version": "3.9.15"
  },
  "orig_nbformat": 4
 },
 "nbformat": 4,
 "nbformat_minor": 2
}
