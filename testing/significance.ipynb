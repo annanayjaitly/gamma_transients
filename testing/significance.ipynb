{
 "cells": [
  {
   "cell_type": "code",
   "execution_count": 1,
   "metadata": {},
   "outputs": [],
   "source": [
    "from scipy.stats import expon\n",
    "import numpy as np\n",
    "from math import factorial\n",
    "import matplotlib.pyplot as plt\n",
    "import dill\n",
    "from astropy import visualization as vis\n",
    "from gammapy.data import DataStore, Observation\n",
    "import scanner_interpretation as scani\n",
    "\n",
    "with open(\"pkl_jugs/reduced_with_significance.pkl\",\"rb\") as f:\n",
    "    reduced = dill.load(f)\n",
    "\n",
    "pval_0_mask = reduced[\"LAMBDA_RATIO_SIGNIFICANCE\"]==0.\n"
   ]
  },
  {
   "cell_type": "code",
   "execution_count": 3,
   "metadata": {},
   "outputs": [
    {
     "data": {
      "text/html": [
       "<i>Row index=35</i>\n",
       "<table id=\"table140566299754208\">\n",
       "<thead><tr><th>Nmax</th><th>OBS_ID</th><th>ID</th><th>RA</th><th>DEC</th><th>TIME</th><th>ENERGY</th><th>dt</th><th>da</th><th>MEDIAN_RA</th><th>MEDIAN_DEC</th><th>SkyCoord</th><th>MEDIAN_GLAT</th><th>MEDIAN_GLON</th><th>TEVCAT_SOURCE_NAME</th><th>TEVCAT_SOURCE_TYPE</th><th>TEVCAT_DISTANCES_DEG</th><th>DS_INDEX</th><th>ANGULAR_MEASURE_DEG</th><th>BKG_DT_LAMBDA</th><th>BKG_PHOTONS</th><th>MPLET_DT_LAMBDA</th><th>LAMBDA_RATIO_SIGNIFICANCE</th></tr></thead>\n",
       "<thead><tr><th></th><th></th><th></th><th></th><th></th><th></th><th></th><th></th><th></th><th></th><th></th><th>deg,deg</th><th>deg</th><th>deg</th><th></th><th></th><th></th><th></th><th></th><th></th><th></th><th></th><th></th></tr></thead>\n",
       "<thead><tr><th>int64</th><th>uint32</th><th>object</th><th>object</th><th>object</th><th>object</th><th>object</th><th>float64</th><th>float64</th><th>float64</th><th>float64</th><th>SkyCoord</th><th>float64</th><th>float64</th><th>str21</th><th>str22</th><th>float64</th><th>int64</th><th>float64</th><th>float64</th><th>int64</th><th>float64</th><th>float64</th></tr></thead>\n",
       "<tr><td>3</td><td>64292</td><td>[30309584208454 30309584208612 30309584208743]</td><td>[283.17816 283.07266 283.09836]</td><td>[-30.66926  -30.645079 -30.639166]</td><td>[&apos;2011-05-30T01:43:29.620384747&apos; &apos;2011-05-30T01:43:30.171913916&apos;\\n &apos;2011-05-30T01:43:30.658502156&apos;]</td><td>[0.49678615 0.23055033 1.2978227 ]</td><td>1038117376.0</td><td>0.1082350863608515</td><td>283.0983581542969</td><td>-30.645078659057617</td><td>283.0983581542969,-30.645078659057617</td><td>-13.627917271879404</td><td>5.215087184571037</td><td>HESS J1800-240A</td><td>SNR/Molec. Cloud</td><td>14.26931051152663</td><td>0</td><td>0.03360490257602158</td><td>0.0</td><td>0</td><td>1.926564358386557e-09</td><td>0.0</td></tr>\n",
       "</table>"
      ],
      "text/plain": [
       "<Row index=35>\n",
       " Nmax OBS_ID                       ID                                      RA                              DEC                                                                 TIME                                                              ENERGY                    dt              da             MEDIAN_RA          MEDIAN_DEC                    SkyCoord                   MEDIAN_GLAT        MEDIAN_GLON    TEVCAT_SOURCE_NAME TEVCAT_SOURCE_TYPE TEVCAT_DISTANCES_DEG DS_INDEX ANGULAR_MEASURE_DEG BKG_DT_LAMBDA BKG_PHOTONS    MPLET_DT_LAMBDA    LAMBDA_RATIO_SIGNIFICANCE\n",
       "                                                                                                                                                                                                                                                                                                                                                           deg,deg                        deg                deg                                                                                                                                                                         \n",
       "int64 uint32                     object                                  object                           object                                                              object                                                             object                 float64         float64            float64            float64                      SkyCoord                     float64            float64            str21              str22              float64         int64         float64          float64       int64           float64                 float64         \n",
       "----- ------ ---------------------------------------------- ------------------------------- ---------------------------------- --------------------------------------------------------------------------------------------------- ---------------------------------- ------------ ------------------ ----------------- ------------------- ------------------------------------- ------------------- ----------------- ------------------ ------------------ -------------------- -------- ------------------- ------------- ----------- --------------------- -------------------------\n",
       "    3  64292 [30309584208454 30309584208612 30309584208743] [283.17816 283.07266 283.09836] [-30.66926  -30.645079 -30.639166] ['2011-05-30T01:43:29.620384747' '2011-05-30T01:43:30.171913916'\\n '2011-05-30T01:43:30.658502156'] [0.49678615 0.23055033 1.2978227 ] 1038117376.0 0.1082350863608515 283.0983581542969 -30.645078659057617 283.0983581542969,-30.645078659057617 -13.627917271879404 5.215087184571037    HESS J1800-240A   SNR/Molec. Cloud    14.26931051152663        0 0.03360490257602158           0.0           0 1.926564358386557e-09                       0.0"
      ]
     },
     "execution_count": 3,
     "metadata": {},
     "output_type": "execute_result"
    }
   ],
   "source": [
    "reduced[pval_0_mask][35]"
   ]
  },
  {
   "cell_type": "code",
   "execution_count": 2,
   "metadata": {},
   "outputs": [],
   "source": [
    "with open(\"pkl_jugs/plotter_pval0/multiplets.pkl\",\"wb\") as f:\n",
    "    dill.dump(reduced[pval_0_mask],f)\n",
    "\n",
    "## badly marked: 18361"
   ]
  },
  {
   "cell_type": "code",
   "execution_count": null,
   "metadata": {},
   "outputs": [],
   "source": [
    "reduced[pval_0_mask][\"OBS_ID\"].data"
   ]
  },
  {
   "cell_type": "code",
   "execution_count": null,
   "metadata": {},
   "outputs": [],
   "source": [
    "h = vis.hist(reduced[\"ANGULAR_MEASURE_DEG\"],histtype=\"step\",bins=\"freedman\")\n",
    "plt.title(\"Mean of multiplet photon distance to median coordinate\")\n",
    "plt.xlabel(\"Distance [deg]\")\n",
    "plt.ylabel(\"Counts\")"
   ]
  },
  {
   "cell_type": "code",
   "execution_count": null,
   "metadata": {},
   "outputs": [],
   "source": [
    "min(reduced[\"LAMBDA_RATIO_SIGNIFICANCE\"][~pval_0_mask]),max(reduced[\"LAMBDA_RATIO_SIGNIFICANCE\"])"
   ]
  },
  {
   "cell_type": "markdown",
   "metadata": {},
   "source": [
    "Significance histogram excluding pval==0"
   ]
  },
  {
   "cell_type": "code",
   "execution_count": null,
   "metadata": {},
   "outputs": [],
   "source": [
    "h = vis.hist(np.log10(reduced[~pval_0_mask][\"LAMBDA_RATIO_SIGNIFICANCE\"]),histtype=\"step\",bins=np.linspace(-14,0))\n",
    "plt.yscale(\"log\")\n",
    "plt.xlabel(r\"$^{10}\\log(p)$\")\n",
    "plt.ylabel(\"Counts\")\n",
    "plt.title(\"Poissonian Multiplet significance based on bkg and multiplet rates.\")\n",
    "plt.savefig(\"figures/combined/lambda_ratio_significance.pdf\")\n",
    "plt.savefig(\"figures/combined/lambda_ratio_significance.png\",facecolor=\"white\")\n",
    "# h = vis.hist(reduced[\"MPLET_DT_LAMBDA\"],histtype=\"step\",bins=np.linspace(6e-19,9.5e-19,100))"
   ]
  },
  {
   "cell_type": "code",
   "execution_count": null,
   "metadata": {},
   "outputs": [],
   "source": [
    "reduced.sort('dt')\n",
    "pval_0_mask = reduced[\"LAMBDA_RATIO_SIGNIFICANCE\"]==0.\n",
    "\n",
    "len(np.unique(reduced[pval_0_mask][\"OBS_ID\"]))"
   ]
  },
  {
   "cell_type": "code",
   "execution_count": null,
   "metadata": {},
   "outputs": [],
   "source": [
    "h = vis.hist(reduced[\"dt\"][reduced[\"LAMBDA_RATIO_SIGNIFICANCE\"] < 1e-5],histtype=\"step\",bins=\"freedman\")\n",
    "# reduced[(reduced[\"LAMBDA_RATIO_SIGNIFICANCE\"] < 1e-7)*(reduced[\"dt\"] > 27e8)]"
   ]
  },
  {
   "cell_type": "code",
   "execution_count": null,
   "metadata": {},
   "outputs": [],
   "source": [
    "candidates = reduced[reduced[\"POISSON_SIGNIFICANCE\"] < 1e-5]"
   ]
  },
  {
   "cell_type": "markdown",
   "metadata": {},
   "source": [
    "### To do\n",
    "\n",
    "1. Check fit compared to histogram and mplet dt\n",
    "2. Verify on a skymap that the masked photons correspond to near the source\n",
    "3. Do a time spread of the photon arrival times to guess if a cloud is passing by\n",
    "4. Do a gammapy analysis\n",
    "5. Ask victor if the m87 run is excluded (done)\n",
    "6. check GRBCAT"
   ]
  },
  {
   "cell_type": "code",
   "execution_count": null,
   "metadata": {},
   "outputs": [],
   "source": [
    "ds = scani.getDataStores()\n",
    "obs = [myds.get_observations(candidates[\"OBS_ID\"],skip_missing=True) for myds in ds]\n",
    "m87_obs = obs[1][0]\n",
    "m87_mplet = candidates[-1]\n"
   ]
  },
  {
   "cell_type": "code",
   "execution_count": null,
   "metadata": {},
   "outputs": [],
   "source": [
    "m87_mplet"
   ]
  },
  {
   "cell_type": "code",
   "execution_count": null,
   "metadata": {},
   "outputs": [],
   "source": [
    "m87_rundist = scani.sphere_dist(m87_obs.events.table[\"RA\"].data,m87_obs.events.table[\"DEC\"].data,m87_mplet[\"MEDIAN_RA\"],m87_mplet[\"MEDIAN_DEC\"])\n",
    "\n",
    "plt.scatter(1e-9*(m87_obs.events.table[m87_rundist<.1][\"TIME\"]),np.zeros_like(m87_obs.events.table[m87_rundist<.1][\"TIME\"]),marker=\"v\",s=1)"
   ]
  },
  {
   "cell_type": "code",
   "execution_count": null,
   "metadata": {},
   "outputs": [],
   "source": [
    "expon.fit(np.diff(np.sort(m87_obs.events.table[m87_rundist < 0.1][\"TIME\"])),floc=0)"
   ]
  },
  {
   "cell_type": "code",
   "execution_count": null,
   "metadata": {},
   "outputs": [],
   "source": [
    "dwarf = SkyCoord(283.775,-30.483,frame=\"fk5\",unit=\"deg\")\n",
    "dwarf.separation(reduced[(reduced[\"OBS_ID\"]==64292) * (reduced[\"POISSON_SIGNIFICANCE\"] < 1e-5)][\"SkyCoord\"])"
   ]
  },
  {
   "cell_type": "code",
   "execution_count": null,
   "metadata": {},
   "outputs": [],
   "source": [
    "h = vis.hist(np.log10(reduced[\"dt\"]),bins=\"freedman\",histtype=\"step\")\n",
    "plt.yscale(\"log\")"
   ]
  },
  {
   "cell_type": "code",
   "execution_count": null,
   "metadata": {},
   "outputs": [],
   "source": [
    "N = 3\n",
    "livetime = 1680\n",
    "bursttime = 3\n",
    "rate = N/livetime\n",
    "\n",
    "lamb = rate*bursttime\n",
    "sum = 1\n",
    "for i in range(3):\n",
    "    sum -= (lamb)**i * np.exp(-lamb) / factorial(i)\n",
    "\n",
    "sum\n"
   ]
  },
  {
   "cell_type": "markdown",
   "metadata": {},
   "source": []
  }
 ],
 "metadata": {
  "kernelspec": {
   "display_name": "gammatransients",
   "language": "python",
   "name": "python3"
  },
  "language_info": {
   "codemirror_mode": {
    "name": "ipython",
    "version": 3
   },
   "file_extension": ".py",
   "mimetype": "text/x-python",
   "name": "python",
   "nbconvert_exporter": "python",
   "pygments_lexer": "ipython3",
   "version": "3.9.15"
  },
  "orig_nbformat": 4
 },
 "nbformat": 4,
 "nbformat_minor": 2
}
