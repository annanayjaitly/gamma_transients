{
 "cells": [
  {
   "cell_type": "code",
   "execution_count": 1,
   "metadata": {},
   "outputs": [
    {
     "name": "stdout",
     "output_type": "stream",
     "text": [
      "Getting Reduced\n"
     ]
    }
   ],
   "source": [
    "from scipy.stats import expon\n",
    "import numpy as np\n",
    "from math import factorial\n",
    "import matplotlib.pyplot as plt\n",
    "import dill\n",
    "from astropy import visualization as vis\n",
    "from gammapy.data import DataStore, Observation\n",
    "import scanner_interpretation as scani\n",
    "from corner import corner\n",
    "\n",
    "# with open(\"pkl_jugs/reduced_with_significance.pkl\",\"rb\") as f:\n",
    "#     reduced = dill.load(f)\n",
    "\n",
    "print(\"Getting Reduced\")\n",
    "reduced = scani.Reduced(\"pkl_jugs/reduced_with_alt.pkl\")\n",
    "# print(\"Loading metadata (~40sec)\")\n",
    "# reduced.loadMetadata(\"pkl_jugs/navigationtable.pkl\")\n",
    "# reduced.loadNavtable(\"pkl_jugs/navigationtable.pkl\")\n",
    "# reduced.loadObservations()\n",
    "\n",
    "pval_0_mask = reduced.reduced[\"LAMBDA_RATIO_SIGNIFICANCE\"]==0.\n"
   ]
  },
  {
   "cell_type": "code",
   "execution_count": 11,
   "metadata": {},
   "outputs": [
    {
     "data": {
      "text/html": [
       "<i>Row index=2</i>\n",
       "<table id=\"table140051083072032\">\n",
       "<thead><tr><th>Nmax</th><th>OBS_ID</th><th>ID</th><th>RA</th><th>DEC</th><th>TIME</th><th>ENERGY</th><th>dt</th><th>da</th><th>MEDIAN_RA</th><th>MEDIAN_DEC</th><th>SkyCoord</th><th>MEDIAN_GLAT</th><th>MEDIAN_GLON</th><th>TEVCAT_SOURCE_NAME</th><th>TEVCAT_SOURCE_TYPE</th><th>TEVCAT_DISTANCES_DEG</th><th>DS_INDEX</th><th>ANGULAR_MEASURE_DEG</th><th>BKG_DT_LAMBDA</th><th>BKG_PHOTONS</th><th>MPLET_DT_LAMBDA</th><th>LAMBDA_RATIO_SIGNIFICANCE</th><th>PNT_DISTANCE</th><th>ALT_PNT</th></tr></thead>\n",
       "<thead><tr><th></th><th></th><th></th><th></th><th></th><th></th><th></th><th></th><th></th><th></th><th></th><th>deg,deg</th><th>deg</th><th>deg</th><th></th><th></th><th></th><th></th><th></th><th></th><th></th><th></th><th></th><th></th><th></th></tr></thead>\n",
       "<thead><tr><th>int64</th><th>uint32</th><th>object</th><th>object</th><th>object</th><th>object</th><th>object</th><th>float64</th><th>float64</th><th>float64</th><th>float64</th><th>SkyCoord</th><th>float64</th><th>float64</th><th>str21</th><th>str22</th><th>float64</th><th>int64</th><th>float64</th><th>float64</th><th>int64</th><th>float64</th><th>float64</th><th>float64</th><th>float64</th></tr></thead>\n",
       "<tr><td>4</td><td>35007</td><td>[12300786336303 12300786336309 12300786336358 12305081303052]</td><td>[0.58403856 0.526088   0.45749614 0.4166997 ]</td><td>[-31.82828  -31.751549 -31.768085 -31.768494]</td><td>[&apos;2006-09-24T22:28:53.679578835&apos; &apos;2006-09-24T22:28:53.709489638&apos;\\n &apos;2006-09-24T22:28:53.971949393&apos; &apos;2006-09-24T22:28:54.285595948&apos;]</td><td>[0.40224195 0.19593626 0.30666494 0.5964279 ]</td><td>606017024.0</td><td>0.177698162902297</td><td>0.49179208278656006</td><td>-31.76828956604004</td><td>0.49179208278656006,-31.76828956604004</td><td>-78.28313920052501</td><td>6.65861855121281</td><td>NGC 253</td><td>Starburst</td><td>13.000918161333757</td><td>0</td><td>0.056336131063859166</td><td>0.002343300317735979</td><td>4</td><td>4.950355255066865e-09</td><td>5.345723863570129e-13</td><td>1.1460470590280671</td><td>81.2128422884387</td></tr>\n",
       "</table>"
      ],
      "text/plain": [
       "<Row index=2>\n",
       " Nmax OBS_ID                               ID                                                    RA                                           DEC                                                                                      TIME                                                                                    ENERGY                         dt             da             MEDIAN_RA          MEDIAN_DEC                    SkyCoord                   MEDIAN_GLAT       MEDIAN_GLON    TEVCAT_SOURCE_NAME TEVCAT_SOURCE_TYPE TEVCAT_DISTANCES_DEG DS_INDEX ANGULAR_MEASURE_DEG     BKG_DT_LAMBDA     BKG_PHOTONS    MPLET_DT_LAMBDA    LAMBDA_RATIO_SIGNIFICANCE    PNT_DISTANCE        ALT_PNT     \n",
       "                                                                                                                                                                                                                                                                                                                                                                                                                                             deg,deg                        deg               deg                                                                                                                                                                                                                     \n",
       "int64 uint32                             object                                                object                                        object                                                                                   object                                                                                   object                      float64        float64            float64            float64                      SkyCoord                     float64           float64            str21              str22              float64         int64         float64              float64           int64           float64                 float64               float64           float64     \n",
       "----- ------ ------------------------------------------------------------- --------------------------------------------- --------------------------------------------- ----------------------------------------------------------------------------------------------------------------------------------- --------------------------------------------- ----------- ----------------- ------------------- ------------------ -------------------------------------- ------------------ ---------------- ------------------ ------------------ -------------------- -------- -------------------- -------------------- ----------- --------------------- ------------------------- ------------------ ----------------\n",
       "    4  35007 [12300786336303 12300786336309 12300786336358 12305081303052] [0.58403856 0.526088   0.45749614 0.4166997 ] [-31.82828  -31.751549 -31.768085 -31.768494] ['2006-09-24T22:28:53.679578835' '2006-09-24T22:28:53.709489638'\\n '2006-09-24T22:28:53.971949393' '2006-09-24T22:28:54.285595948'] [0.40224195 0.19593626 0.30666494 0.5964279 ] 606017024.0 0.177698162902297 0.49179208278656006 -31.76828956604004 0.49179208278656006,-31.76828956604004 -78.28313920052501 6.65861855121281            NGC 253          Starburst   13.000918161333757        0 0.056336131063859166 0.002343300317735979           4 4.950355255066865e-09     5.345723863570129e-13 1.1460470590280671 81.2128422884387"
      ]
     },
     "execution_count": 11,
     "metadata": {},
     "output_type": "execute_result"
    }
   ],
   "source": [
    "A = reduced.reduced[~pval_0_mask]\n",
    "A.sort(\"LAMBDA_RATIO_SIGNIFICANCE\")\n",
    "A[2]"
   ]
  },
  {
   "cell_type": "code",
   "execution_count": 10,
   "metadata": {},
   "outputs": [],
   "source": [
    "with open(\"pkl_jugs/plotter_lowp/multiplets.pkl\",\"wb\") as f:\n",
    "    dill.dump(A[:10],f)"
   ]
  },
  {
   "cell_type": "code",
   "execution_count": null,
   "metadata": {},
   "outputs": [],
   "source": [
    "with open(\"pkl_jugs/reduced_with_alt.pkl\",\"wb\") as f:\n",
    "    dill.dump(reduced.reduced,f)"
   ]
  },
  {
   "cell_type": "code",
   "execution_count": null,
   "metadata": {},
   "outputs": [],
   "source": [
    "ds = scani.getDataStores()[0]\n",
    "dwarfobs = ds.obs(64292)\n",
    "len(dwarfobs.events.table)"
   ]
  },
  {
   "cell_type": "code",
   "execution_count": null,
   "metadata": {},
   "outputs": [],
   "source": [
    "plt.figure(figsize=(5,3))\n",
    "vis.hist(reduced.reduced[\"dt\"],histtype=\"step\")\n",
    "plt.title(\"Data population\")\n",
    "plt.xlabel(\"dt [ns]\")\n",
    "plt.ylabel(\"Counts\")"
   ]
  },
  {
   "cell_type": "code",
   "execution_count": null,
   "metadata": {},
   "outputs": [],
   "source": [
    "reduced.reduced[\"LOG_SIGNIFICANCE\"] = np.log10(reduced.reduced[\"LAMBDA_RATIO_SIGNIFICANCE\"])\n",
    "fig = corner(reduced.reduced[~pval_0_mask].to_pandas(),var_names=[\"PNT_DISTANCE\",\"LOG_SIGNIFICANCE\",\"ALT_PNT\"])"
   ]
  },
  {
   "cell_type": "code",
   "execution_count": null,
   "metadata": {},
   "outputs": [],
   "source": [
    "with open(\"pkl_jugs/plotter_pval0/multiplets.pkl\",\"wb\") as f:\n",
    "    dill.dump(reduced[pval_0_mask],f)\n",
    "\n",
    "## badly marked: 18361"
   ]
  },
  {
   "cell_type": "code",
   "execution_count": null,
   "metadata": {},
   "outputs": [],
   "source": [
    "reduced[pval_0_mask][\"OBS_ID\"].data"
   ]
  },
  {
   "cell_type": "code",
   "execution_count": null,
   "metadata": {},
   "outputs": [],
   "source": [
    "h = vis.hist(reduced[\"ANGULAR_MEASURE_DEG\"],histtype=\"step\",bins=\"freedman\")\n",
    "plt.title(\"Mean of multiplet photon distance to median coordinate\")\n",
    "plt.xlabel(\"Distance [deg]\")\n",
    "plt.ylabel(\"Counts\")"
   ]
  },
  {
   "cell_type": "code",
   "execution_count": null,
   "metadata": {},
   "outputs": [],
   "source": [
    "min(reduced[\"LAMBDA_RATIO_SIGNIFICANCE\"][~pval_0_mask]),max(reduced[\"LAMBDA_RATIO_SIGNIFICANCE\"])"
   ]
  },
  {
   "cell_type": "markdown",
   "metadata": {},
   "source": [
    "Significance histogram excluding pval==0"
   ]
  },
  {
   "cell_type": "code",
   "execution_count": null,
   "metadata": {},
   "outputs": [],
   "source": [
    "plt.figure(figsize=(5,2.5))\n",
    "h = vis.hist(np.log10(reduced[~pval_0_mask][\"LAMBDA_RATIO_SIGNIFICANCE\"]),histtype=\"step\",bins=np.linspace(-14,0))\n",
    "plt.yscale(\"log\")\n",
    "plt.xlabel(r\"$^{10}\\log(p)$\")\n",
    "plt.ylabel(\"Counts\")\n",
    "plt.title(\"Pre-trial $p$-value\",loc=\"left\")\n",
    "# plt.savefig(\"figures/combined/lambda_ratio_significance.pdf\")\n",
    "plt.savefig(\"figures/combined/lambda_ratio_significance.png\",facecolor=\"white\",dpi=300)\n",
    "# h = vis.hist(reduced[\"MPLET_DT_LAMBDA\"],histtype=\"step\",bins=np.linspace(6e-19,9.5e-19,100))"
   ]
  },
  {
   "cell_type": "code",
   "execution_count": null,
   "metadata": {},
   "outputs": [],
   "source": [
    "reduced.sort('dt')\n",
    "pval_0_mask = reduced[\"LAMBDA_RATIO_SIGNIFICANCE\"]==0.\n",
    "\n",
    "len(np.unique(reduced[pval_0_mask][\"OBS_ID\"]))"
   ]
  },
  {
   "cell_type": "code",
   "execution_count": null,
   "metadata": {},
   "outputs": [],
   "source": [
    "h = vis.hist(reduced[\"dt\"][reduced[\"LAMBDA_RATIO_SIGNIFICANCE\"] < 1e-5],histtype=\"step\",bins=\"freedman\")\n",
    "# reduced[(reduced[\"LAMBDA_RATIO_SIGNIFICANCE\"] < 1e-7)*(reduced[\"dt\"] > 27e8)]"
   ]
  },
  {
   "cell_type": "code",
   "execution_count": null,
   "metadata": {},
   "outputs": [],
   "source": [
    "candidates = reduced[reduced[\"POISSON_SIGNIFICANCE\"] < 1e-5]"
   ]
  },
  {
   "cell_type": "markdown",
   "metadata": {},
   "source": [
    "### To do\n",
    "\n",
    "1. Check fit compared to histogram and mplet dt\n",
    "2. Verify on a skymap that the masked photons correspond to near the source\n",
    "3. Do a time spread of the photon arrival times to guess if a cloud is passing by\n",
    "4. Do a gammapy analysis\n",
    "5. Ask victor if the m87 run is excluded (done)\n",
    "6. check GRBCAT"
   ]
  },
  {
   "cell_type": "code",
   "execution_count": null,
   "metadata": {},
   "outputs": [],
   "source": [
    "ds = scani.getDataStores()\n",
    "obs = [myds.get_observations(candidates[\"OBS_ID\"],skip_missing=True) for myds in ds]\n",
    "m87_obs = obs[1][0]\n",
    "m87_mplet = candidates[-1]\n"
   ]
  },
  {
   "cell_type": "code",
   "execution_count": null,
   "metadata": {},
   "outputs": [],
   "source": [
    "m87_mplet"
   ]
  },
  {
   "cell_type": "code",
   "execution_count": null,
   "metadata": {},
   "outputs": [],
   "source": [
    "m87_rundist = scani.sphere_dist(m87_obs.events.table[\"RA\"].data,m87_obs.events.table[\"DEC\"].data,m87_mplet[\"MEDIAN_RA\"],m87_mplet[\"MEDIAN_DEC\"])\n",
    "\n",
    "plt.scatter(1e-9*(m87_obs.events.table[m87_rundist<.1][\"TIME\"]),np.zeros_like(m87_obs.events.table[m87_rundist<.1][\"TIME\"]),marker=\"v\",s=1)"
   ]
  },
  {
   "cell_type": "code",
   "execution_count": null,
   "metadata": {},
   "outputs": [],
   "source": [
    "expon.fit(np.diff(np.sort(m87_obs.events.table[m87_rundist < 0.1][\"TIME\"])),floc=0)"
   ]
  },
  {
   "cell_type": "code",
   "execution_count": null,
   "metadata": {},
   "outputs": [],
   "source": [
    "dwarf = SkyCoord(283.775,-30.483,frame=\"fk5\",unit=\"deg\")\n",
    "dwarf.separation(reduced[(reduced[\"OBS_ID\"]==64292) * (reduced[\"POISSON_SIGNIFICANCE\"] < 1e-5)][\"SkyCoord\"])"
   ]
  },
  {
   "cell_type": "code",
   "execution_count": null,
   "metadata": {},
   "outputs": [],
   "source": [
    "h = vis.hist(np.log10(reduced[\"dt\"]),bins=\"freedman\",histtype=\"step\")\n",
    "plt.yscale(\"log\")"
   ]
  },
  {
   "cell_type": "code",
   "execution_count": null,
   "metadata": {},
   "outputs": [],
   "source": [
    "N = 3\n",
    "livetime = 1680\n",
    "bursttime = 3\n",
    "rate = N/livetime\n",
    "\n",
    "lamb = rate*bursttime\n",
    "sum = 1\n",
    "for i in range(3):\n",
    "    sum -= (lamb)**i * np.exp(-lamb) / factorial(i)\n",
    "\n",
    "sum\n"
   ]
  },
  {
   "cell_type": "markdown",
   "metadata": {},
   "source": []
  }
 ],
 "metadata": {
  "kernelspec": {
   "display_name": "gammatransients",
   "language": "python",
   "name": "python3"
  },
  "language_info": {
   "codemirror_mode": {
    "name": "ipython",
    "version": 3
   },
   "file_extension": ".py",
   "mimetype": "text/x-python",
   "name": "python",
   "nbconvert_exporter": "python",
   "pygments_lexer": "ipython3",
   "version": "3.9.15"
  },
  "orig_nbformat": 4
 },
 "nbformat": 4,
 "nbformat_minor": 2
}
