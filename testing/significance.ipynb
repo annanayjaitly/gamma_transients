{
 "cells": [
  {
   "cell_type": "code",
   "execution_count": 4,
   "metadata": {},
   "outputs": [
    {
     "name": "stdout",
     "output_type": "stream",
     "text": [
      "Getting Reduced\n"
     ]
    }
   ],
   "source": [
    "from scipy.stats import expon\n",
    "import numpy as np\n",
    "from math import factorial\n",
    "import matplotlib.pyplot as plt\n",
    "import dill\n",
    "from astropy import visualization as vis\n",
    "from gammapy.data import DataStore, Observation\n",
    "import scanner_interpretation as scani\n",
    "from corner import corner\n",
    "\n",
    "# with open(\"pkl_jugs/reduced_with_significance.pkl\",\"rb\") as f:\n",
    "#     reduced = dill.load(f)\n",
    "\n",
    "print(\"Getting Reduced\")\n",
    "reduced = scani.Reduced(\"pkl_jugs/reduced_with_dst.pkl\")\n",
    "# print(\"Loading metadata (~40sec)\")\n",
    "# reduced.loadMetadata(\"pkl_jugs/navigationtable.pkl\")\n",
    "\n",
    "pval_0_mask = reduced.reduced[\"LAMBDA_RATIO_SIGNIFICANCE\"]==0.\n"
   ]
  },
  {
   "cell_type": "code",
   "execution_count": 15,
   "metadata": {},
   "outputs": [
    {
     "name": "stderr",
     "output_type": "stream",
     "text": [
      "/tmp/ipykernel_52713/3026833050.py:1: RuntimeWarning: divide by zero encountered in log10\n",
      "  reduced.reduced[\"LOG_SIGNIFICANCE\"] = np.log10(reduced.reduced[\"LAMBDA_RATIO_SIGNIFICANCE\"])\n"
     ]
    }
   ],
   "source": [
    "reduced.reduced[\"LOG_SIGNIFICANCE\"] = np.log10(reduced.reduced[\"LAMBDA_RATIO_SIGNIFICANCE\"])"
   ]
  },
  {
   "cell_type": "code",
   "execution_count": null,
   "metadata": {},
   "outputs": [],
   "source": [
    "reduced.getZe"
   ]
  },
  {
   "cell_type": "code",
   "execution_count": 23,
   "metadata": {},
   "outputs": [
    {
     "name": "stdout",
     "output_type": "stream",
     "text": [
      "Pandas support in corner is deprecated; use ArviZ directly\n"
     ]
    },
    {
     "ename": "ValueError",
     "evalue": "The truth value of an array with more than one element is ambiguous. Use a.any() or a.all()",
     "output_type": "error",
     "traceback": [
      "\u001b[0;31m---------------------------------------------------------------------------\u001b[0m",
      "\u001b[0;31mValueError\u001b[0m                                Traceback (most recent call last)",
      "\u001b[1;32m/afs/ifh.de/user/w/wybouwt/git/gamma_transients/testing/significance.ipynb Cell 3\u001b[0m in \u001b[0;36m<cell line: 3>\u001b[0;34m()\u001b[0m\n\u001b[1;32m      <a href='vscode-notebook-cell://ssh-remote%2Bhess-wgs2/afs/ifh.de/user/w/wybouwt/git/gamma_transients/testing/significance.ipynb#X31sdnNjb2RlLXJlbW90ZQ%3D%3D?line=0'>1</a>\u001b[0m \u001b[39m# hist_pnt,bin_edges_pnt = np.histogram(reduced.reduced[\"PNT_DISTANCE\"],bins=\"fd\")\u001b[39;00m\n\u001b[1;32m      <a href='vscode-notebook-cell://ssh-remote%2Bhess-wgs2/afs/ifh.de/user/w/wybouwt/git/gamma_transients/testing/significance.ipynb#X31sdnNjb2RlLXJlbW90ZQ%3D%3D?line=1'>2</a>\u001b[0m \u001b[39m# hist_logP, bin_edges_logP = np.histogram(reduced.reduced[\"LOG_SIGNIFICANCE\"],bins=\"fd\")\u001b[39;00m\n\u001b[0;32m----> <a href='vscode-notebook-cell://ssh-remote%2Bhess-wgs2/afs/ifh.de/user/w/wybouwt/git/gamma_transients/testing/significance.ipynb#X31sdnNjb2RlLXJlbW90ZQ%3D%3D?line=2'>3</a>\u001b[0m fig \u001b[39m=\u001b[39m corner(reduced\u001b[39m.\u001b[39;49mreduced[\u001b[39m~\u001b[39;49mpval_0_mask]\u001b[39m.\u001b[39;49mto_pandas())\n",
      "File \u001b[0;32m/lustre/fs22/group/hess/user/wybouwt/conda/gammatransients/lib/python3.9/site-packages/corner/corner.py:256\u001b[0m, in \u001b[0;36mcorner\u001b[0;34m(data, bins, range, weights, color, hist_bin_factor, smooth, smooth1d, labels, label_kwargs, titles, show_titles, title_fmt, title_kwargs, truths, truth_color, scale_hist, quantiles, verbose, fig, max_n_ticks, top_ticks, use_math_text, reverse, labelpad, hist_kwargs, group, var_names, filter_vars, coords, divergences, divergences_kwargs, labeller, **hist2d_kwargs)\u001b[0m\n\u001b[1;32m    222\u001b[0m         logging\u001b[39m.\u001b[39mwarning(\n\u001b[1;32m    223\u001b[0m             \u001b[39m\"\u001b[39m\u001b[39mPlease install arviz to use the advanced features of corner\u001b[39m\u001b[39m\"\u001b[39m\n\u001b[1;32m    224\u001b[0m         )\n\u001b[1;32m    226\u001b[0m     \u001b[39mreturn\u001b[39;00m corner_impl(\n\u001b[1;32m    227\u001b[0m         data,\n\u001b[1;32m    228\u001b[0m         bins\u001b[39m=\u001b[39mbins,\n\u001b[0;32m   (...)\u001b[0m\n\u001b[1;32m    253\u001b[0m         \u001b[39m*\u001b[39m\u001b[39m*\u001b[39mhist2d_kwargs,\n\u001b[1;32m    254\u001b[0m     )\n\u001b[0;32m--> 256\u001b[0m \u001b[39mreturn\u001b[39;00m arviz_corner(\n\u001b[1;32m    257\u001b[0m     data,\n\u001b[1;32m    258\u001b[0m     bins\u001b[39m=\u001b[39;49mbins,\n\u001b[1;32m    259\u001b[0m     \u001b[39mrange\u001b[39;49m\u001b[39m=\u001b[39;49m\u001b[39mrange\u001b[39;49m,\n\u001b[1;32m    260\u001b[0m     weights\u001b[39m=\u001b[39;49mweights,\n\u001b[1;32m    261\u001b[0m     color\u001b[39m=\u001b[39;49mcolor,\n\u001b[1;32m    262\u001b[0m     hist_bin_factor\u001b[39m=\u001b[39;49mhist_bin_factor,\n\u001b[1;32m    263\u001b[0m     smooth\u001b[39m=\u001b[39;49msmooth,\n\u001b[1;32m    264\u001b[0m     smooth1d\u001b[39m=\u001b[39;49msmooth1d,\n\u001b[1;32m    265\u001b[0m     labels\u001b[39m=\u001b[39;49mlabels,\n\u001b[1;32m    266\u001b[0m     label_kwargs\u001b[39m=\u001b[39;49mlabel_kwargs,\n\u001b[1;32m    267\u001b[0m     titles\u001b[39m=\u001b[39;49mtitles,\n\u001b[1;32m    268\u001b[0m     show_titles\u001b[39m=\u001b[39;49mshow_titles,\n\u001b[1;32m    269\u001b[0m     title_fmt\u001b[39m=\u001b[39;49mtitle_fmt,\n\u001b[1;32m    270\u001b[0m     title_kwargs\u001b[39m=\u001b[39;49mtitle_kwargs,\n\u001b[1;32m    271\u001b[0m     truths\u001b[39m=\u001b[39;49mtruths,\n\u001b[1;32m    272\u001b[0m     truth_color\u001b[39m=\u001b[39;49mtruth_color,\n\u001b[1;32m    273\u001b[0m     scale_hist\u001b[39m=\u001b[39;49mscale_hist,\n\u001b[1;32m    274\u001b[0m     quantiles\u001b[39m=\u001b[39;49mquantiles,\n\u001b[1;32m    275\u001b[0m     verbose\u001b[39m=\u001b[39;49mverbose,\n\u001b[1;32m    276\u001b[0m     fig\u001b[39m=\u001b[39;49mfig,\n\u001b[1;32m    277\u001b[0m     max_n_ticks\u001b[39m=\u001b[39;49mmax_n_ticks,\n\u001b[1;32m    278\u001b[0m     top_ticks\u001b[39m=\u001b[39;49mtop_ticks,\n\u001b[1;32m    279\u001b[0m     use_math_text\u001b[39m=\u001b[39;49muse_math_text,\n\u001b[1;32m    280\u001b[0m     reverse\u001b[39m=\u001b[39;49mreverse,\n\u001b[1;32m    281\u001b[0m     labelpad\u001b[39m=\u001b[39;49mlabelpad,\n\u001b[1;32m    282\u001b[0m     hist_kwargs\u001b[39m=\u001b[39;49mhist_kwargs,\n\u001b[1;32m    283\u001b[0m     group\u001b[39m=\u001b[39;49mgroup,\n\u001b[1;32m    284\u001b[0m     var_names\u001b[39m=\u001b[39;49mvar_names,\n\u001b[1;32m    285\u001b[0m     filter_vars\u001b[39m=\u001b[39;49mfilter_vars,\n\u001b[1;32m    286\u001b[0m     coords\u001b[39m=\u001b[39;49mcoords,\n\u001b[1;32m    287\u001b[0m     divergences\u001b[39m=\u001b[39;49mdivergences,\n\u001b[1;32m    288\u001b[0m     divergences_kwargs\u001b[39m=\u001b[39;49mdivergences_kwargs,\n\u001b[1;32m    289\u001b[0m     labeller\u001b[39m=\u001b[39;49mlabeller,\n\u001b[1;32m    290\u001b[0m     \u001b[39m*\u001b[39;49m\u001b[39m*\u001b[39;49mhist2d_kwargs,\n\u001b[1;32m    291\u001b[0m )\n",
      "File \u001b[0;32m/lustre/fs22/group/hess/user/wybouwt/conda/gammatransients/lib/python3.9/site-packages/corner/arviz_corner.py:136\u001b[0m, in \u001b[0;36marviz_corner\u001b[0;34m(data, bins, range, weights, color, hist_bin_factor, smooth, smooth1d, labels, label_kwargs, titles, show_titles, title_fmt, title_kwargs, truths, truth_color, scale_hist, quantiles, verbose, fig, max_n_ticks, top_ticks, use_math_text, reverse, labelpad, hist_kwargs, group, var_names, filter_vars, coords, divergences, divergences_kwargs, labeller, **hist2d_kwargs)\u001b[0m\n\u001b[1;32m    134\u001b[0m \u001b[39m# Coerce the samples into the expected format\u001b[39;00m\n\u001b[1;32m    135\u001b[0m samples \u001b[39m=\u001b[39m np\u001b[39m.\u001b[39mstack([x[\u001b[39m-\u001b[39m\u001b[39m1\u001b[39m]\u001b[39m.\u001b[39mflatten() \u001b[39mfor\u001b[39;00m x \u001b[39min\u001b[39;00m plotters], axis\u001b[39m=\u001b[39m\u001b[39m-\u001b[39m\u001b[39m1\u001b[39m)\n\u001b[0;32m--> 136\u001b[0m fig \u001b[39m=\u001b[39m corner_impl(\n\u001b[1;32m    137\u001b[0m     samples,\n\u001b[1;32m    138\u001b[0m     bins\u001b[39m=\u001b[39;49mbins,\n\u001b[1;32m    139\u001b[0m     \u001b[39mrange\u001b[39;49m\u001b[39m=\u001b[39;49m\u001b[39mrange\u001b[39;49m,\n\u001b[1;32m    140\u001b[0m     weights\u001b[39m=\u001b[39;49mweights,\n\u001b[1;32m    141\u001b[0m     color\u001b[39m=\u001b[39;49mcolor,\n\u001b[1;32m    142\u001b[0m     hist_bin_factor\u001b[39m=\u001b[39;49mhist_bin_factor,\n\u001b[1;32m    143\u001b[0m     smooth\u001b[39m=\u001b[39;49msmooth,\n\u001b[1;32m    144\u001b[0m     smooth1d\u001b[39m=\u001b[39;49msmooth1d,\n\u001b[1;32m    145\u001b[0m     labels\u001b[39m=\u001b[39;49mlabels,\n\u001b[1;32m    146\u001b[0m     label_kwargs\u001b[39m=\u001b[39;49mlabel_kwargs,\n\u001b[1;32m    147\u001b[0m     titles\u001b[39m=\u001b[39;49mtitles,\n\u001b[1;32m    148\u001b[0m     show_titles\u001b[39m=\u001b[39;49mshow_titles,\n\u001b[1;32m    149\u001b[0m     title_fmt\u001b[39m=\u001b[39;49mtitle_fmt,\n\u001b[1;32m    150\u001b[0m     title_kwargs\u001b[39m=\u001b[39;49mtitle_kwargs,\n\u001b[1;32m    151\u001b[0m     truths\u001b[39m=\u001b[39;49mtruths,\n\u001b[1;32m    152\u001b[0m     truth_color\u001b[39m=\u001b[39;49mtruth_color,\n\u001b[1;32m    153\u001b[0m     scale_hist\u001b[39m=\u001b[39;49mscale_hist,\n\u001b[1;32m    154\u001b[0m     quantiles\u001b[39m=\u001b[39;49mquantiles,\n\u001b[1;32m    155\u001b[0m     verbose\u001b[39m=\u001b[39;49mverbose,\n\u001b[1;32m    156\u001b[0m     fig\u001b[39m=\u001b[39;49mfig,\n\u001b[1;32m    157\u001b[0m     max_n_ticks\u001b[39m=\u001b[39;49mmax_n_ticks,\n\u001b[1;32m    158\u001b[0m     top_ticks\u001b[39m=\u001b[39;49mtop_ticks,\n\u001b[1;32m    159\u001b[0m     use_math_text\u001b[39m=\u001b[39;49muse_math_text,\n\u001b[1;32m    160\u001b[0m     reverse\u001b[39m=\u001b[39;49mreverse,\n\u001b[1;32m    161\u001b[0m     labelpad\u001b[39m=\u001b[39;49mlabelpad,\n\u001b[1;32m    162\u001b[0m     hist_kwargs\u001b[39m=\u001b[39;49mhist_kwargs,\n\u001b[1;32m    163\u001b[0m     \u001b[39m*\u001b[39;49m\u001b[39m*\u001b[39;49mhist2d_kwargs,\n\u001b[1;32m    164\u001b[0m )\n\u001b[1;32m    166\u001b[0m \u001b[39m# Get diverging draws and combine chains\u001b[39;00m\n\u001b[1;32m    167\u001b[0m \u001b[39mif\u001b[39;00m divergences:\n",
      "File \u001b[0;32m/lustre/fs22/group/hess/user/wybouwt/conda/gammatransients/lib/python3.9/site-packages/corner/core.py:116\u001b[0m, in \u001b[0;36mcorner_impl\u001b[0;34m(xs, bins, range, weights, color, hist_bin_factor, smooth, smooth1d, labels, label_kwargs, titles, show_titles, title_fmt, title_kwargs, truths, truth_color, scale_hist, quantiles, verbose, fig, max_n_ticks, top_ticks, use_math_text, reverse, labelpad, hist_kwargs, **hist2d_kwargs)\u001b[0m\n\u001b[1;32m    114\u001b[0m     \u001b[39mrange\u001b[39m \u001b[39m=\u001b[39m hist2d_kwargs\u001b[39m.\u001b[39mpop(\u001b[39m\"\u001b[39m\u001b[39mextents\u001b[39m\u001b[39m\"\u001b[39m)\n\u001b[1;32m    115\u001b[0m \u001b[39melse\u001b[39;00m:\n\u001b[0;32m--> 116\u001b[0m     \u001b[39mrange\u001b[39m \u001b[39m=\u001b[39m [[x\u001b[39m.\u001b[39mmin(), x\u001b[39m.\u001b[39mmax()] \u001b[39mfor\u001b[39;00m x \u001b[39min\u001b[39;00m xs]\n\u001b[1;32m    118\u001b[0m     \u001b[39m# Check for parameters that never change.\u001b[39;00m\n\u001b[1;32m    119\u001b[0m     m \u001b[39m=\u001b[39m np\u001b[39m.\u001b[39marray([e[\u001b[39m0\u001b[39m] \u001b[39m==\u001b[39m e[\u001b[39m1\u001b[39m] \u001b[39mfor\u001b[39;00m e \u001b[39min\u001b[39;00m \u001b[39mrange\u001b[39m], dtype\u001b[39m=\u001b[39m\u001b[39mbool\u001b[39m)\n",
      "File \u001b[0;32m/lustre/fs22/group/hess/user/wybouwt/conda/gammatransients/lib/python3.9/site-packages/corner/core.py:116\u001b[0m, in \u001b[0;36m<listcomp>\u001b[0;34m(.0)\u001b[0m\n\u001b[1;32m    114\u001b[0m     \u001b[39mrange\u001b[39m \u001b[39m=\u001b[39m hist2d_kwargs\u001b[39m.\u001b[39mpop(\u001b[39m\"\u001b[39m\u001b[39mextents\u001b[39m\u001b[39m\"\u001b[39m)\n\u001b[1;32m    115\u001b[0m \u001b[39melse\u001b[39;00m:\n\u001b[0;32m--> 116\u001b[0m     \u001b[39mrange\u001b[39m \u001b[39m=\u001b[39m [[x\u001b[39m.\u001b[39;49mmin(), x\u001b[39m.\u001b[39mmax()] \u001b[39mfor\u001b[39;00m x \u001b[39min\u001b[39;00m xs]\n\u001b[1;32m    118\u001b[0m     \u001b[39m# Check for parameters that never change.\u001b[39;00m\n\u001b[1;32m    119\u001b[0m     m \u001b[39m=\u001b[39m np\u001b[39m.\u001b[39marray([e[\u001b[39m0\u001b[39m] \u001b[39m==\u001b[39m e[\u001b[39m1\u001b[39m] \u001b[39mfor\u001b[39;00m e \u001b[39min\u001b[39;00m \u001b[39mrange\u001b[39m], dtype\u001b[39m=\u001b[39m\u001b[39mbool\u001b[39m)\n",
      "File \u001b[0;32m/lustre/fs22/group/hess/user/wybouwt/conda/gammatransients/lib/python3.9/site-packages/numpy/core/_methods.py:44\u001b[0m, in \u001b[0;36m_amin\u001b[0;34m(a, axis, out, keepdims, initial, where)\u001b[0m\n\u001b[1;32m     42\u001b[0m \u001b[39mdef\u001b[39;00m \u001b[39m_amin\u001b[39m(a, axis\u001b[39m=\u001b[39m\u001b[39mNone\u001b[39;00m, out\u001b[39m=\u001b[39m\u001b[39mNone\u001b[39;00m, keepdims\u001b[39m=\u001b[39m\u001b[39mFalse\u001b[39;00m,\n\u001b[1;32m     43\u001b[0m           initial\u001b[39m=\u001b[39m_NoValue, where\u001b[39m=\u001b[39m\u001b[39mTrue\u001b[39;00m):\n\u001b[0;32m---> 44\u001b[0m     \u001b[39mreturn\u001b[39;00m umr_minimum(a, axis, \u001b[39mNone\u001b[39;49;00m, out, keepdims, initial, where)\n",
      "\u001b[0;31mValueError\u001b[0m: The truth value of an array with more than one element is ambiguous. Use a.any() or a.all()"
     ]
    },
    {
     "name": "stdout",
     "output_type": "stream",
     "text": [
      "Error in callback <function flush_figures at 0x7f84d56a00d0> (for post_execute):\n"
     ]
    },
    {
     "ename": "KeyboardInterrupt",
     "evalue": "",
     "output_type": "error",
     "traceback": [
      "\u001b[0;31m---------------------------------------------------------------------------\u001b[0m",
      "\u001b[0;31mKeyboardInterrupt\u001b[0m                         Traceback (most recent call last)",
      "File \u001b[0;32m/lustre/fs22/group/hess/user/wybouwt/conda/gammatransients/lib/python3.9/site-packages/matplotlib_inline/backend_inline.py:126\u001b[0m, in \u001b[0;36mflush_figures\u001b[0;34m()\u001b[0m\n\u001b[1;32m    123\u001b[0m \u001b[39mif\u001b[39;00m InlineBackend\u001b[39m.\u001b[39minstance()\u001b[39m.\u001b[39mclose_figures:\n\u001b[1;32m    124\u001b[0m     \u001b[39m# ignore the tracking, just draw and close all figures\u001b[39;00m\n\u001b[1;32m    125\u001b[0m     \u001b[39mtry\u001b[39;00m:\n\u001b[0;32m--> 126\u001b[0m         \u001b[39mreturn\u001b[39;00m show(\u001b[39mTrue\u001b[39;49;00m)\n\u001b[1;32m    127\u001b[0m     \u001b[39mexcept\u001b[39;00m \u001b[39mException\u001b[39;00m \u001b[39mas\u001b[39;00m e:\n\u001b[1;32m    128\u001b[0m         \u001b[39m# safely show traceback if in IPython, else raise\u001b[39;00m\n\u001b[1;32m    129\u001b[0m         ip \u001b[39m=\u001b[39m get_ipython()\n",
      "File \u001b[0;32m/lustre/fs22/group/hess/user/wybouwt/conda/gammatransients/lib/python3.9/site-packages/matplotlib_inline/backend_inline.py:90\u001b[0m, in \u001b[0;36mshow\u001b[0;34m(close, block)\u001b[0m\n\u001b[1;32m     88\u001b[0m \u001b[39mtry\u001b[39;00m:\n\u001b[1;32m     89\u001b[0m     \u001b[39mfor\u001b[39;00m figure_manager \u001b[39min\u001b[39;00m Gcf\u001b[39m.\u001b[39mget_all_fig_managers():\n\u001b[0;32m---> 90\u001b[0m         display(\n\u001b[1;32m     91\u001b[0m             figure_manager\u001b[39m.\u001b[39;49mcanvas\u001b[39m.\u001b[39;49mfigure,\n\u001b[1;32m     92\u001b[0m             metadata\u001b[39m=\u001b[39;49m_fetch_figure_metadata(figure_manager\u001b[39m.\u001b[39;49mcanvas\u001b[39m.\u001b[39;49mfigure)\n\u001b[1;32m     93\u001b[0m         )\n\u001b[1;32m     94\u001b[0m \u001b[39mfinally\u001b[39;00m:\n\u001b[1;32m     95\u001b[0m     show\u001b[39m.\u001b[39m_to_draw \u001b[39m=\u001b[39m []\n",
      "File \u001b[0;32m/lustre/fs22/group/hess/user/wybouwt/conda/gammatransients/lib/python3.9/site-packages/IPython/core/display_functions.py:298\u001b[0m, in \u001b[0;36mdisplay\u001b[0;34m(include, exclude, metadata, transient, display_id, raw, clear, *objs, **kwargs)\u001b[0m\n\u001b[1;32m    296\u001b[0m     publish_display_data(data\u001b[39m=\u001b[39mobj, metadata\u001b[39m=\u001b[39mmetadata, \u001b[39m*\u001b[39m\u001b[39m*\u001b[39mkwargs)\n\u001b[1;32m    297\u001b[0m \u001b[39melse\u001b[39;00m:\n\u001b[0;32m--> 298\u001b[0m     format_dict, md_dict \u001b[39m=\u001b[39m \u001b[39mformat\u001b[39;49m(obj, include\u001b[39m=\u001b[39;49minclude, exclude\u001b[39m=\u001b[39;49mexclude)\n\u001b[1;32m    299\u001b[0m     \u001b[39mif\u001b[39;00m \u001b[39mnot\u001b[39;00m format_dict:\n\u001b[1;32m    300\u001b[0m         \u001b[39m# nothing to display (e.g. _ipython_display_ took over)\u001b[39;00m\n\u001b[1;32m    301\u001b[0m         \u001b[39mcontinue\u001b[39;00m\n",
      "File \u001b[0;32m/lustre/fs22/group/hess/user/wybouwt/conda/gammatransients/lib/python3.9/site-packages/IPython/core/formatters.py:178\u001b[0m, in \u001b[0;36mDisplayFormatter.format\u001b[0;34m(self, obj, include, exclude)\u001b[0m\n\u001b[1;32m    176\u001b[0m md \u001b[39m=\u001b[39m \u001b[39mNone\u001b[39;00m\n\u001b[1;32m    177\u001b[0m \u001b[39mtry\u001b[39;00m:\n\u001b[0;32m--> 178\u001b[0m     data \u001b[39m=\u001b[39m formatter(obj)\n\u001b[1;32m    179\u001b[0m \u001b[39mexcept\u001b[39;00m:\n\u001b[1;32m    180\u001b[0m     \u001b[39m# FIXME: log the exception\u001b[39;00m\n\u001b[1;32m    181\u001b[0m     \u001b[39mraise\u001b[39;00m\n",
      "File \u001b[0;32m/lustre/fs22/group/hess/user/wybouwt/conda/gammatransients/lib/python3.9/site-packages/decorator.py:232\u001b[0m, in \u001b[0;36mdecorate.<locals>.fun\u001b[0;34m(*args, **kw)\u001b[0m\n\u001b[1;32m    230\u001b[0m \u001b[39mif\u001b[39;00m \u001b[39mnot\u001b[39;00m kwsyntax:\n\u001b[1;32m    231\u001b[0m     args, kw \u001b[39m=\u001b[39m fix(args, kw, sig)\n\u001b[0;32m--> 232\u001b[0m \u001b[39mreturn\u001b[39;00m caller(func, \u001b[39m*\u001b[39;49m(extras \u001b[39m+\u001b[39;49m args), \u001b[39m*\u001b[39;49m\u001b[39m*\u001b[39;49mkw)\n",
      "File \u001b[0;32m/lustre/fs22/group/hess/user/wybouwt/conda/gammatransients/lib/python3.9/site-packages/IPython/core/formatters.py:222\u001b[0m, in \u001b[0;36mcatch_format_error\u001b[0;34m(method, self, *args, **kwargs)\u001b[0m\n\u001b[1;32m    220\u001b[0m \u001b[39m\u001b[39m\u001b[39m\"\"\"show traceback on failed format call\"\"\"\u001b[39;00m\n\u001b[1;32m    221\u001b[0m \u001b[39mtry\u001b[39;00m:\n\u001b[0;32m--> 222\u001b[0m     r \u001b[39m=\u001b[39m method(\u001b[39mself\u001b[39;49m, \u001b[39m*\u001b[39;49margs, \u001b[39m*\u001b[39;49m\u001b[39m*\u001b[39;49mkwargs)\n\u001b[1;32m    223\u001b[0m \u001b[39mexcept\u001b[39;00m \u001b[39mNotImplementedError\u001b[39;00m:\n\u001b[1;32m    224\u001b[0m     \u001b[39m# don't warn on NotImplementedErrors\u001b[39;00m\n\u001b[1;32m    225\u001b[0m     \u001b[39mreturn\u001b[39;00m \u001b[39mself\u001b[39m\u001b[39m.\u001b[39m_check_return(\u001b[39mNone\u001b[39;00m, args[\u001b[39m0\u001b[39m])\n",
      "File \u001b[0;32m/lustre/fs22/group/hess/user/wybouwt/conda/gammatransients/lib/python3.9/site-packages/IPython/core/formatters.py:339\u001b[0m, in \u001b[0;36mBaseFormatter.__call__\u001b[0;34m(self, obj)\u001b[0m\n\u001b[1;32m    337\u001b[0m     \u001b[39mpass\u001b[39;00m\n\u001b[1;32m    338\u001b[0m \u001b[39melse\u001b[39;00m:\n\u001b[0;32m--> 339\u001b[0m     \u001b[39mreturn\u001b[39;00m printer(obj)\n\u001b[1;32m    340\u001b[0m \u001b[39m# Finally look for special method names\u001b[39;00m\n\u001b[1;32m    341\u001b[0m method \u001b[39m=\u001b[39m get_real_method(obj, \u001b[39mself\u001b[39m\u001b[39m.\u001b[39mprint_method)\n",
      "File \u001b[0;32m/lustre/fs22/group/hess/user/wybouwt/conda/gammatransients/lib/python3.9/site-packages/IPython/core/pylabtools.py:151\u001b[0m, in \u001b[0;36mprint_figure\u001b[0;34m(fig, fmt, bbox_inches, base64, **kwargs)\u001b[0m\n\u001b[1;32m    148\u001b[0m     \u001b[39mfrom\u001b[39;00m \u001b[39mmatplotlib\u001b[39;00m\u001b[39m.\u001b[39;00m\u001b[39mbackend_bases\u001b[39;00m \u001b[39mimport\u001b[39;00m FigureCanvasBase\n\u001b[1;32m    149\u001b[0m     FigureCanvasBase(fig)\n\u001b[0;32m--> 151\u001b[0m fig\u001b[39m.\u001b[39;49mcanvas\u001b[39m.\u001b[39;49mprint_figure(bytes_io, \u001b[39m*\u001b[39;49m\u001b[39m*\u001b[39;49mkw)\n\u001b[1;32m    152\u001b[0m data \u001b[39m=\u001b[39m bytes_io\u001b[39m.\u001b[39mgetvalue()\n\u001b[1;32m    153\u001b[0m \u001b[39mif\u001b[39;00m fmt \u001b[39m==\u001b[39m \u001b[39m'\u001b[39m\u001b[39msvg\u001b[39m\u001b[39m'\u001b[39m:\n",
      "File \u001b[0;32m/lustre/fs22/group/hess/user/wybouwt/conda/gammatransients/lib/python3.9/site-packages/matplotlib/backend_bases.py:2314\u001b[0m, in \u001b[0;36mFigureCanvasBase.print_figure\u001b[0;34m(self, filename, dpi, facecolor, edgecolor, orientation, format, bbox_inches, pad_inches, bbox_extra_artists, backend, **kwargs)\u001b[0m\n\u001b[1;32m   2308\u001b[0m     renderer \u001b[39m=\u001b[39m _get_renderer(\n\u001b[1;32m   2309\u001b[0m         \u001b[39mself\u001b[39m\u001b[39m.\u001b[39mfigure,\n\u001b[1;32m   2310\u001b[0m         functools\u001b[39m.\u001b[39mpartial(\n\u001b[1;32m   2311\u001b[0m             print_method, orientation\u001b[39m=\u001b[39morientation)\n\u001b[1;32m   2312\u001b[0m     )\n\u001b[1;32m   2313\u001b[0m     \u001b[39mwith\u001b[39;00m \u001b[39mgetattr\u001b[39m(renderer, \u001b[39m\"\u001b[39m\u001b[39m_draw_disabled\u001b[39m\u001b[39m\"\u001b[39m, nullcontext)():\n\u001b[0;32m-> 2314\u001b[0m         \u001b[39mself\u001b[39;49m\u001b[39m.\u001b[39;49mfigure\u001b[39m.\u001b[39;49mdraw(renderer)\n\u001b[1;32m   2316\u001b[0m \u001b[39mif\u001b[39;00m bbox_inches:\n\u001b[1;32m   2317\u001b[0m     \u001b[39mif\u001b[39;00m bbox_inches \u001b[39m==\u001b[39m \u001b[39m\"\u001b[39m\u001b[39mtight\u001b[39m\u001b[39m\"\u001b[39m:\n",
      "File \u001b[0;32m/lustre/fs22/group/hess/user/wybouwt/conda/gammatransients/lib/python3.9/site-packages/matplotlib/artist.py:74\u001b[0m, in \u001b[0;36m_finalize_rasterization.<locals>.draw_wrapper\u001b[0;34m(artist, renderer, *args, **kwargs)\u001b[0m\n\u001b[1;32m     72\u001b[0m \u001b[39m@wraps\u001b[39m(draw)\n\u001b[1;32m     73\u001b[0m \u001b[39mdef\u001b[39;00m \u001b[39mdraw_wrapper\u001b[39m(artist, renderer, \u001b[39m*\u001b[39margs, \u001b[39m*\u001b[39m\u001b[39m*\u001b[39mkwargs):\n\u001b[0;32m---> 74\u001b[0m     result \u001b[39m=\u001b[39m draw(artist, renderer, \u001b[39m*\u001b[39;49margs, \u001b[39m*\u001b[39;49m\u001b[39m*\u001b[39;49mkwargs)\n\u001b[1;32m     75\u001b[0m     \u001b[39mif\u001b[39;00m renderer\u001b[39m.\u001b[39m_rasterizing:\n\u001b[1;32m     76\u001b[0m         renderer\u001b[39m.\u001b[39mstop_rasterizing()\n",
      "File \u001b[0;32m/lustre/fs22/group/hess/user/wybouwt/conda/gammatransients/lib/python3.9/site-packages/matplotlib/artist.py:51\u001b[0m, in \u001b[0;36mallow_rasterization.<locals>.draw_wrapper\u001b[0;34m(artist, renderer)\u001b[0m\n\u001b[1;32m     48\u001b[0m     \u001b[39mif\u001b[39;00m artist\u001b[39m.\u001b[39mget_agg_filter() \u001b[39mis\u001b[39;00m \u001b[39mnot\u001b[39;00m \u001b[39mNone\u001b[39;00m:\n\u001b[1;32m     49\u001b[0m         renderer\u001b[39m.\u001b[39mstart_filter()\n\u001b[0;32m---> 51\u001b[0m     \u001b[39mreturn\u001b[39;00m draw(artist, renderer)\n\u001b[1;32m     52\u001b[0m \u001b[39mfinally\u001b[39;00m:\n\u001b[1;32m     53\u001b[0m     \u001b[39mif\u001b[39;00m artist\u001b[39m.\u001b[39mget_agg_filter() \u001b[39mis\u001b[39;00m \u001b[39mnot\u001b[39;00m \u001b[39mNone\u001b[39;00m:\n",
      "File \u001b[0;32m/lustre/fs22/group/hess/user/wybouwt/conda/gammatransients/lib/python3.9/site-packages/matplotlib/figure.py:3065\u001b[0m, in \u001b[0;36mFigure.draw\u001b[0;34m(self, renderer)\u001b[0m\n\u001b[1;32m   3063\u001b[0m \u001b[39mif\u001b[39;00m \u001b[39mself\u001b[39m\u001b[39m.\u001b[39maxes \u001b[39mand\u001b[39;00m \u001b[39mself\u001b[39m\u001b[39m.\u001b[39mget_layout_engine() \u001b[39mis\u001b[39;00m \u001b[39mnot\u001b[39;00m \u001b[39mNone\u001b[39;00m:\n\u001b[1;32m   3064\u001b[0m     \u001b[39mtry\u001b[39;00m:\n\u001b[0;32m-> 3065\u001b[0m         \u001b[39mself\u001b[39;49m\u001b[39m.\u001b[39;49mget_layout_engine()\u001b[39m.\u001b[39;49mexecute(\u001b[39mself\u001b[39;49m)\n\u001b[1;32m   3066\u001b[0m     \u001b[39mexcept\u001b[39;00m \u001b[39mValueError\u001b[39;00m:\n\u001b[1;32m   3067\u001b[0m         \u001b[39mpass\u001b[39;00m\n",
      "File \u001b[0;32m/lustre/fs22/group/hess/user/wybouwt/conda/gammatransients/lib/python3.9/site-packages/matplotlib/layout_engine.py:180\u001b[0m, in \u001b[0;36mTightLayoutEngine.execute\u001b[0;34m(self, fig)\u001b[0m\n\u001b[1;32m    178\u001b[0m renderer \u001b[39m=\u001b[39m fig\u001b[39m.\u001b[39m_get_renderer()\n\u001b[1;32m    179\u001b[0m \u001b[39mwith\u001b[39;00m \u001b[39mgetattr\u001b[39m(renderer, \u001b[39m\"\u001b[39m\u001b[39m_draw_disabled\u001b[39m\u001b[39m\"\u001b[39m, nullcontext)():\n\u001b[0;32m--> 180\u001b[0m     kwargs \u001b[39m=\u001b[39m get_tight_layout_figure(\n\u001b[1;32m    181\u001b[0m         fig, fig\u001b[39m.\u001b[39;49maxes, subplotspec_list, renderer,\n\u001b[1;32m    182\u001b[0m         pad\u001b[39m=\u001b[39;49minfo[\u001b[39m'\u001b[39;49m\u001b[39mpad\u001b[39;49m\u001b[39m'\u001b[39;49m], h_pad\u001b[39m=\u001b[39;49minfo[\u001b[39m'\u001b[39;49m\u001b[39mh_pad\u001b[39;49m\u001b[39m'\u001b[39;49m], w_pad\u001b[39m=\u001b[39;49minfo[\u001b[39m'\u001b[39;49m\u001b[39mw_pad\u001b[39;49m\u001b[39m'\u001b[39;49m],\n\u001b[1;32m    183\u001b[0m         rect\u001b[39m=\u001b[39;49minfo[\u001b[39m'\u001b[39;49m\u001b[39mrect\u001b[39;49m\u001b[39m'\u001b[39;49m])\n\u001b[1;32m    184\u001b[0m \u001b[39mif\u001b[39;00m kwargs:\n\u001b[1;32m    185\u001b[0m     fig\u001b[39m.\u001b[39msubplots_adjust(\u001b[39m*\u001b[39m\u001b[39m*\u001b[39mkwargs)\n",
      "File \u001b[0;32m/lustre/fs22/group/hess/user/wybouwt/conda/gammatransients/lib/python3.9/site-packages/matplotlib/_tight_layout.py:305\u001b[0m, in \u001b[0;36mget_tight_layout_figure\u001b[0;34m(fig, axes_list, subplotspec_list, renderer, pad, h_pad, w_pad, rect)\u001b[0m\n\u001b[1;32m    300\u001b[0m         \u001b[39mreturn\u001b[39;00m {}\n\u001b[1;32m    301\u001b[0m     span_pairs\u001b[39m.\u001b[39mappend((\n\u001b[1;32m    302\u001b[0m         \u001b[39mslice\u001b[39m(ss\u001b[39m.\u001b[39mrowspan\u001b[39m.\u001b[39mstart \u001b[39m*\u001b[39m div_row, ss\u001b[39m.\u001b[39mrowspan\u001b[39m.\u001b[39mstop \u001b[39m*\u001b[39m div_row),\n\u001b[1;32m    303\u001b[0m         \u001b[39mslice\u001b[39m(ss\u001b[39m.\u001b[39mcolspan\u001b[39m.\u001b[39mstart \u001b[39m*\u001b[39m div_col, ss\u001b[39m.\u001b[39mcolspan\u001b[39m.\u001b[39mstop \u001b[39m*\u001b[39m div_col)))\n\u001b[0;32m--> 305\u001b[0m kwargs \u001b[39m=\u001b[39m _auto_adjust_subplotpars(fig, renderer,\n\u001b[1;32m    306\u001b[0m                                   shape\u001b[39m=\u001b[39;49m(max_nrows, max_ncols),\n\u001b[1;32m    307\u001b[0m                                   span_pairs\u001b[39m=\u001b[39;49mspan_pairs,\n\u001b[1;32m    308\u001b[0m                                   subplot_list\u001b[39m=\u001b[39;49msubplot_list,\n\u001b[1;32m    309\u001b[0m                                   ax_bbox_list\u001b[39m=\u001b[39;49max_bbox_list,\n\u001b[1;32m    310\u001b[0m                                   pad\u001b[39m=\u001b[39;49mpad, h_pad\u001b[39m=\u001b[39;49mh_pad, w_pad\u001b[39m=\u001b[39;49mw_pad)\n\u001b[1;32m    312\u001b[0m \u001b[39m# kwargs can be none if tight_layout fails...\u001b[39;00m\n\u001b[1;32m    313\u001b[0m \u001b[39mif\u001b[39;00m rect \u001b[39mis\u001b[39;00m \u001b[39mnot\u001b[39;00m \u001b[39mNone\u001b[39;00m \u001b[39mand\u001b[39;00m kwargs \u001b[39mis\u001b[39;00m \u001b[39mnot\u001b[39;00m \u001b[39mNone\u001b[39;00m:\n\u001b[1;32m    314\u001b[0m     \u001b[39m# if rect is given, the whole subplots area (including\u001b[39;00m\n\u001b[1;32m    315\u001b[0m     \u001b[39m# labels) will fit into the rect instead of the\u001b[39;00m\n\u001b[0;32m   (...)\u001b[0m\n\u001b[1;32m    319\u001b[0m     \u001b[39m# auto_adjust_subplotpars twice, where the second run\u001b[39;00m\n\u001b[1;32m    320\u001b[0m     \u001b[39m# with adjusted rect parameters.\u001b[39;00m\n",
      "File \u001b[0;32m/lustre/fs22/group/hess/user/wybouwt/conda/gammatransients/lib/python3.9/site-packages/matplotlib/_tight_layout.py:82\u001b[0m, in \u001b[0;36m_auto_adjust_subplotpars\u001b[0;34m(fig, renderer, shape, span_pairs, subplot_list, ax_bbox_list, pad, h_pad, w_pad, rect)\u001b[0m\n\u001b[1;32m     80\u001b[0m \u001b[39mfor\u001b[39;00m ax \u001b[39min\u001b[39;00m subplots:\n\u001b[1;32m     81\u001b[0m     \u001b[39mif\u001b[39;00m ax\u001b[39m.\u001b[39mget_visible():\n\u001b[0;32m---> 82\u001b[0m         bb \u001b[39m+\u001b[39m\u001b[39m=\u001b[39m [martist\u001b[39m.\u001b[39;49m_get_tightbbox_for_layout_only(ax, renderer)]\n\u001b[1;32m     84\u001b[0m tight_bbox_raw \u001b[39m=\u001b[39m Bbox\u001b[39m.\u001b[39munion(bb)\n\u001b[1;32m     85\u001b[0m tight_bbox \u001b[39m=\u001b[39m fig\u001b[39m.\u001b[39mtransFigure\u001b[39m.\u001b[39minverted()\u001b[39m.\u001b[39mtransform_bbox(tight_bbox_raw)\n",
      "File \u001b[0;32m/lustre/fs22/group/hess/user/wybouwt/conda/gammatransients/lib/python3.9/site-packages/matplotlib/artist.py:1378\u001b[0m, in \u001b[0;36m_get_tightbbox_for_layout_only\u001b[0;34m(obj, *args, **kwargs)\u001b[0m\n\u001b[1;32m   1372\u001b[0m \u001b[39m\u001b[39m\u001b[39m\"\"\"\u001b[39;00m\n\u001b[1;32m   1373\u001b[0m \u001b[39mMatplotlib's `.Axes.get_tightbbox` and `.Axis.get_tightbbox` support a\u001b[39;00m\n\u001b[1;32m   1374\u001b[0m \u001b[39m*for_layout_only* kwarg; this helper tries to uses the kwarg but skips it\u001b[39;00m\n\u001b[1;32m   1375\u001b[0m \u001b[39mwhen encountering third-party subclasses that do not support it.\u001b[39;00m\n\u001b[1;32m   1376\u001b[0m \u001b[39m\"\"\"\u001b[39;00m\n\u001b[1;32m   1377\u001b[0m \u001b[39mtry\u001b[39;00m:\n\u001b[0;32m-> 1378\u001b[0m     \u001b[39mreturn\u001b[39;00m obj\u001b[39m.\u001b[39;49mget_tightbbox(\u001b[39m*\u001b[39;49margs, \u001b[39m*\u001b[39;49m\u001b[39m*\u001b[39;49m{\u001b[39m*\u001b[39;49m\u001b[39m*\u001b[39;49mkwargs, \u001b[39m\"\u001b[39;49m\u001b[39mfor_layout_only\u001b[39;49m\u001b[39m\"\u001b[39;49m: \u001b[39mTrue\u001b[39;49;00m})\n\u001b[1;32m   1379\u001b[0m \u001b[39mexcept\u001b[39;00m \u001b[39mTypeError\u001b[39;00m:\n\u001b[1;32m   1380\u001b[0m     \u001b[39mreturn\u001b[39;00m obj\u001b[39m.\u001b[39mget_tightbbox(\u001b[39m*\u001b[39margs, \u001b[39m*\u001b[39m\u001b[39m*\u001b[39mkwargs)\n",
      "File \u001b[0;32m/lustre/fs22/group/hess/user/wybouwt/conda/gammatransients/lib/python3.9/site-packages/matplotlib/axes/_base.py:4428\u001b[0m, in \u001b[0;36m_AxesBase.get_tightbbox\u001b[0;34m(self, renderer, call_axes_locator, bbox_extra_artists, for_layout_only)\u001b[0m\n\u001b[1;32m   4426\u001b[0m \u001b[39mfor\u001b[39;00m axis \u001b[39min\u001b[39;00m \u001b[39mself\u001b[39m\u001b[39m.\u001b[39m_axis_map\u001b[39m.\u001b[39mvalues():\n\u001b[1;32m   4427\u001b[0m     \u001b[39mif\u001b[39;00m \u001b[39mself\u001b[39m\u001b[39m.\u001b[39maxison \u001b[39mand\u001b[39;00m axis\u001b[39m.\u001b[39mget_visible():\n\u001b[0;32m-> 4428\u001b[0m         ba \u001b[39m=\u001b[39m martist\u001b[39m.\u001b[39;49m_get_tightbbox_for_layout_only(axis, renderer)\n\u001b[1;32m   4429\u001b[0m         \u001b[39mif\u001b[39;00m ba:\n\u001b[1;32m   4430\u001b[0m             bb\u001b[39m.\u001b[39mappend(ba)\n",
      "File \u001b[0;32m/lustre/fs22/group/hess/user/wybouwt/conda/gammatransients/lib/python3.9/site-packages/matplotlib/artist.py:1378\u001b[0m, in \u001b[0;36m_get_tightbbox_for_layout_only\u001b[0;34m(obj, *args, **kwargs)\u001b[0m\n\u001b[1;32m   1372\u001b[0m \u001b[39m\u001b[39m\u001b[39m\"\"\"\u001b[39;00m\n\u001b[1;32m   1373\u001b[0m \u001b[39mMatplotlib's `.Axes.get_tightbbox` and `.Axis.get_tightbbox` support a\u001b[39;00m\n\u001b[1;32m   1374\u001b[0m \u001b[39m*for_layout_only* kwarg; this helper tries to uses the kwarg but skips it\u001b[39;00m\n\u001b[1;32m   1375\u001b[0m \u001b[39mwhen encountering third-party subclasses that do not support it.\u001b[39;00m\n\u001b[1;32m   1376\u001b[0m \u001b[39m\"\"\"\u001b[39;00m\n\u001b[1;32m   1377\u001b[0m \u001b[39mtry\u001b[39;00m:\n\u001b[0;32m-> 1378\u001b[0m     \u001b[39mreturn\u001b[39;00m obj\u001b[39m.\u001b[39;49mget_tightbbox(\u001b[39m*\u001b[39;49margs, \u001b[39m*\u001b[39;49m\u001b[39m*\u001b[39;49m{\u001b[39m*\u001b[39;49m\u001b[39m*\u001b[39;49mkwargs, \u001b[39m\"\u001b[39;49m\u001b[39mfor_layout_only\u001b[39;49m\u001b[39m\"\u001b[39;49m: \u001b[39mTrue\u001b[39;49;00m})\n\u001b[1;32m   1379\u001b[0m \u001b[39mexcept\u001b[39;00m \u001b[39mTypeError\u001b[39;00m:\n\u001b[1;32m   1380\u001b[0m     \u001b[39mreturn\u001b[39;00m obj\u001b[39m.\u001b[39mget_tightbbox(\u001b[39m*\u001b[39margs, \u001b[39m*\u001b[39m\u001b[39m*\u001b[39mkwargs)\n",
      "File \u001b[0;32m/lustre/fs22/group/hess/user/wybouwt/conda/gammatransients/lib/python3.9/site-packages/matplotlib/axis.py:1251\u001b[0m, in \u001b[0;36mAxis.get_tightbbox\u001b[0;34m(self, renderer, for_layout_only)\u001b[0m\n\u001b[1;32m   1249\u001b[0m \u001b[39mif\u001b[39;00m renderer \u001b[39mis\u001b[39;00m \u001b[39mNone\u001b[39;00m:\n\u001b[1;32m   1250\u001b[0m     renderer \u001b[39m=\u001b[39m \u001b[39mself\u001b[39m\u001b[39m.\u001b[39mfigure\u001b[39m.\u001b[39m_get_renderer()\n\u001b[0;32m-> 1251\u001b[0m ticks_to_draw \u001b[39m=\u001b[39m \u001b[39mself\u001b[39;49m\u001b[39m.\u001b[39;49m_update_ticks()\n\u001b[1;32m   1253\u001b[0m \u001b[39mself\u001b[39m\u001b[39m.\u001b[39m_update_label_position(renderer)\n\u001b[1;32m   1255\u001b[0m \u001b[39m# go back to just this axis's tick labels\u001b[39;00m\n",
      "File \u001b[0;32m/lustre/fs22/group/hess/user/wybouwt/conda/gammatransients/lib/python3.9/site-packages/matplotlib/axis.py:1191\u001b[0m, in \u001b[0;36mAxis._update_ticks\u001b[0;34m(self)\u001b[0m\n\u001b[1;32m   1186\u001b[0m \u001b[39m\u001b[39m\u001b[39m\"\"\"\u001b[39;00m\n\u001b[1;32m   1187\u001b[0m \u001b[39mUpdate ticks (position and labels) using the current data interval of\u001b[39;00m\n\u001b[1;32m   1188\u001b[0m \u001b[39mthe axes.  Return the list of ticks that will be drawn.\u001b[39;00m\n\u001b[1;32m   1189\u001b[0m \u001b[39m\"\"\"\u001b[39;00m\n\u001b[1;32m   1190\u001b[0m major_locs \u001b[39m=\u001b[39m \u001b[39mself\u001b[39m\u001b[39m.\u001b[39mget_majorticklocs()\n\u001b[0;32m-> 1191\u001b[0m major_labels \u001b[39m=\u001b[39m \u001b[39mself\u001b[39;49m\u001b[39m.\u001b[39;49mmajor\u001b[39m.\u001b[39;49mformatter\u001b[39m.\u001b[39;49mformat_ticks(major_locs)\n\u001b[1;32m   1192\u001b[0m major_ticks \u001b[39m=\u001b[39m \u001b[39mself\u001b[39m\u001b[39m.\u001b[39mget_major_ticks(\u001b[39mlen\u001b[39m(major_locs))\n\u001b[1;32m   1193\u001b[0m \u001b[39mself\u001b[39m\u001b[39m.\u001b[39mmajor\u001b[39m.\u001b[39mformatter\u001b[39m.\u001b[39mset_locs(major_locs)\n",
      "File \u001b[0;32m/lustre/fs22/group/hess/user/wybouwt/conda/gammatransients/lib/python3.9/site-packages/matplotlib/ticker.py:232\u001b[0m, in \u001b[0;36mFormatter.format_ticks\u001b[0;34m(self, values)\u001b[0m\n\u001b[1;32m    230\u001b[0m \u001b[39mdef\u001b[39;00m \u001b[39mformat_ticks\u001b[39m(\u001b[39mself\u001b[39m, values):\n\u001b[1;32m    231\u001b[0m \u001b[39m    \u001b[39m\u001b[39m\"\"\"Return the tick labels for all the ticks at once.\"\"\"\u001b[39;00m\n\u001b[0;32m--> 232\u001b[0m     \u001b[39mself\u001b[39;49m\u001b[39m.\u001b[39;49mset_locs(values)\n\u001b[1;32m    233\u001b[0m     \u001b[39mreturn\u001b[39;00m [\u001b[39mself\u001b[39m(value, i) \u001b[39mfor\u001b[39;00m i, value \u001b[39min\u001b[39;00m \u001b[39menumerate\u001b[39m(values)]\n",
      "File \u001b[0;32m/lustre/fs22/group/hess/user/wybouwt/conda/gammatransients/lib/python3.9/site-packages/matplotlib/ticker.py:718\u001b[0m, in \u001b[0;36mScalarFormatter.set_locs\u001b[0;34m(self, locs)\u001b[0m\n\u001b[1;32m    716\u001b[0m     \u001b[39mself\u001b[39m\u001b[39m.\u001b[39m_compute_offset()\n\u001b[1;32m    717\u001b[0m \u001b[39mself\u001b[39m\u001b[39m.\u001b[39m_set_order_of_magnitude()\n\u001b[0;32m--> 718\u001b[0m \u001b[39mself\u001b[39;49m\u001b[39m.\u001b[39;49m_set_format()\n",
      "File \u001b[0;32m/lustre/fs22/group/hess/user/wybouwt/conda/gammatransients/lib/python3.9/site-packages/matplotlib/ticker.py:817\u001b[0m, in \u001b[0;36mScalarFormatter._set_format\u001b[0;34m(self)\u001b[0m\n\u001b[1;32m    815\u001b[0m thresh \u001b[39m=\u001b[39m \u001b[39m1e-3\u001b[39m \u001b[39m*\u001b[39m \u001b[39m10\u001b[39m \u001b[39m*\u001b[39m\u001b[39m*\u001b[39m loc_range_oom\n\u001b[1;32m    816\u001b[0m \u001b[39mwhile\u001b[39;00m sigfigs \u001b[39m>\u001b[39m\u001b[39m=\u001b[39m \u001b[39m0\u001b[39m:\n\u001b[0;32m--> 817\u001b[0m     \u001b[39mif\u001b[39;00m np\u001b[39m.\u001b[39mabs(locs \u001b[39m-\u001b[39m np\u001b[39m.\u001b[39;49mround(locs, decimals\u001b[39m=\u001b[39;49msigfigs))\u001b[39m.\u001b[39mmax() \u001b[39m<\u001b[39m thresh:\n\u001b[1;32m    818\u001b[0m         sigfigs \u001b[39m-\u001b[39m\u001b[39m=\u001b[39m \u001b[39m1\u001b[39m\n\u001b[1;32m    819\u001b[0m     \u001b[39melse\u001b[39;00m:\n",
      "File \u001b[0;32m<__array_function__ internals>:180\u001b[0m, in \u001b[0;36mround_\u001b[0;34m(*args, **kwargs)\u001b[0m\n",
      "File \u001b[0;32m/lustre/fs22/group/hess/user/wybouwt/conda/gammatransients/lib/python3.9/site-packages/numpy/core/fromnumeric.py:3731\u001b[0m, in \u001b[0;36mround_\u001b[0;34m(a, decimals, out)\u001b[0m\n\u001b[1;32m   3722\u001b[0m \u001b[39m@array_function_dispatch\u001b[39m(_around_dispatcher)\n\u001b[1;32m   3723\u001b[0m \u001b[39mdef\u001b[39;00m \u001b[39mround_\u001b[39m(a, decimals\u001b[39m=\u001b[39m\u001b[39m0\u001b[39m, out\u001b[39m=\u001b[39m\u001b[39mNone\u001b[39;00m):\n\u001b[1;32m   3724\u001b[0m \u001b[39m    \u001b[39m\u001b[39m\"\"\"\u001b[39;00m\n\u001b[1;32m   3725\u001b[0m \u001b[39m    Round an array to the given number of decimals.\u001b[39;00m\n\u001b[1;32m   3726\u001b[0m \n\u001b[0;32m   (...)\u001b[0m\n\u001b[1;32m   3729\u001b[0m \u001b[39m    around : equivalent function; see for details.\u001b[39;00m\n\u001b[1;32m   3730\u001b[0m \u001b[39m    \"\"\"\u001b[39;00m\n\u001b[0;32m-> 3731\u001b[0m     \u001b[39mreturn\u001b[39;00m around(a, decimals\u001b[39m=\u001b[39;49mdecimals, out\u001b[39m=\u001b[39;49mout)\n",
      "File \u001b[0;32m<__array_function__ internals>:180\u001b[0m, in \u001b[0;36maround\u001b[0;34m(*args, **kwargs)\u001b[0m\n",
      "File \u001b[0;32m/lustre/fs22/group/hess/user/wybouwt/conda/gammatransients/lib/python3.9/site-packages/numpy/core/fromnumeric.py:3305\u001b[0m, in \u001b[0;36maround\u001b[0;34m(a, decimals, out)\u001b[0m\n\u001b[1;32m   3214\u001b[0m \u001b[39m@array_function_dispatch\u001b[39m(_around_dispatcher)\n\u001b[1;32m   3215\u001b[0m \u001b[39mdef\u001b[39;00m \u001b[39maround\u001b[39m(a, decimals\u001b[39m=\u001b[39m\u001b[39m0\u001b[39m, out\u001b[39m=\u001b[39m\u001b[39mNone\u001b[39;00m):\n\u001b[1;32m   3216\u001b[0m \u001b[39m    \u001b[39m\u001b[39m\"\"\"\u001b[39;00m\n\u001b[1;32m   3217\u001b[0m \u001b[39m    Evenly round to the given number of decimals.\u001b[39;00m\n\u001b[1;32m   3218\u001b[0m \n\u001b[0;32m   (...)\u001b[0m\n\u001b[1;32m   3303\u001b[0m \n\u001b[1;32m   3304\u001b[0m \u001b[39m    \"\"\"\u001b[39;00m\n\u001b[0;32m-> 3305\u001b[0m     \u001b[39mreturn\u001b[39;00m _wrapfunc(a, \u001b[39m'\u001b[39;49m\u001b[39mround\u001b[39;49m\u001b[39m'\u001b[39;49m, decimals\u001b[39m=\u001b[39;49mdecimals, out\u001b[39m=\u001b[39;49mout)\n",
      "File \u001b[0;32m/lustre/fs22/group/hess/user/wybouwt/conda/gammatransients/lib/python3.9/site-packages/numpy/core/fromnumeric.py:56\u001b[0m, in \u001b[0;36m_wrapfunc\u001b[0;34m(obj, method, *args, **kwds)\u001b[0m\n\u001b[1;32m     53\u001b[0m \u001b[39mif\u001b[39;00m bound \u001b[39mis\u001b[39;00m \u001b[39mNone\u001b[39;00m:\n\u001b[1;32m     54\u001b[0m     \u001b[39mreturn\u001b[39;00m _wrapit(obj, method, \u001b[39m*\u001b[39margs, \u001b[39m*\u001b[39m\u001b[39m*\u001b[39mkwds)\n\u001b[0;32m---> 56\u001b[0m \u001b[39mtry\u001b[39;00m:\n\u001b[1;32m     57\u001b[0m     \u001b[39mreturn\u001b[39;00m bound(\u001b[39m*\u001b[39margs, \u001b[39m*\u001b[39m\u001b[39m*\u001b[39mkwds)\n\u001b[1;32m     58\u001b[0m \u001b[39mexcept\u001b[39;00m \u001b[39mTypeError\u001b[39;00m:\n\u001b[1;32m     59\u001b[0m     \u001b[39m# A TypeError occurs if the object does have such a method in its\u001b[39;00m\n\u001b[1;32m     60\u001b[0m     \u001b[39m# class, but its signature is not identical to that of NumPy's. This\u001b[39;00m\n\u001b[0;32m   (...)\u001b[0m\n\u001b[1;32m     64\u001b[0m     \u001b[39m# Call _wrapit from within the except clause to ensure a potential\u001b[39;00m\n\u001b[1;32m     65\u001b[0m     \u001b[39m# exception has a traceback chain.\u001b[39;00m\n",
      "\u001b[0;31mKeyboardInterrupt\u001b[0m: "
     ]
    }
   ],
   "source": [
    "fig = corner(reduced.reduced[~pval_0_mask].to_pandas(),var_names=[\"PNT_DISTANCE\",\"LOG_SIGNIFICANCE\"])\n"
   ]
  },
  {
   "cell_type": "code",
   "execution_count": null,
   "metadata": {},
   "outputs": [],
   "source": [
    "reduced[pval_0_mask][35]"
   ]
  },
  {
   "cell_type": "code",
   "execution_count": null,
   "metadata": {},
   "outputs": [],
   "source": [
    "with open(\"pkl_jugs/plotter_pval0/multiplets.pkl\",\"wb\") as f:\n",
    "    dill.dump(reduced[pval_0_mask],f)\n",
    "\n",
    "## badly marked: 18361"
   ]
  },
  {
   "cell_type": "code",
   "execution_count": null,
   "metadata": {},
   "outputs": [],
   "source": [
    "reduced[pval_0_mask][\"OBS_ID\"].data"
   ]
  },
  {
   "cell_type": "code",
   "execution_count": null,
   "metadata": {},
   "outputs": [],
   "source": [
    "h = vis.hist(reduced[\"ANGULAR_MEASURE_DEG\"],histtype=\"step\",bins=\"freedman\")\n",
    "plt.title(\"Mean of multiplet photon distance to median coordinate\")\n",
    "plt.xlabel(\"Distance [deg]\")\n",
    "plt.ylabel(\"Counts\")"
   ]
  },
  {
   "cell_type": "code",
   "execution_count": null,
   "metadata": {},
   "outputs": [],
   "source": [
    "min(reduced[\"LAMBDA_RATIO_SIGNIFICANCE\"][~pval_0_mask]),max(reduced[\"LAMBDA_RATIO_SIGNIFICANCE\"])"
   ]
  },
  {
   "cell_type": "markdown",
   "metadata": {},
   "source": [
    "Significance histogram excluding pval==0"
   ]
  },
  {
   "cell_type": "code",
   "execution_count": null,
   "metadata": {},
   "outputs": [],
   "source": [
    "plt.figure(figsize=(5,2.5))\n",
    "h = vis.hist(np.log10(reduced[~pval_0_mask][\"LAMBDA_RATIO_SIGNIFICANCE\"]),histtype=\"step\",bins=np.linspace(-14,0))\n",
    "plt.yscale(\"log\")\n",
    "plt.xlabel(r\"$^{10}\\log(p)$\")\n",
    "plt.ylabel(\"Counts\")\n",
    "plt.title(\"Pre-trial $p$-value\",loc=\"left\")\n",
    "# plt.savefig(\"figures/combined/lambda_ratio_significance.pdf\")\n",
    "plt.savefig(\"figures/combined/lambda_ratio_significance.png\",facecolor=\"white\",dpi=300)\n",
    "# h = vis.hist(reduced[\"MPLET_DT_LAMBDA\"],histtype=\"step\",bins=np.linspace(6e-19,9.5e-19,100))"
   ]
  },
  {
   "cell_type": "code",
   "execution_count": null,
   "metadata": {},
   "outputs": [],
   "source": [
    "reduced.sort('dt')\n",
    "pval_0_mask = reduced[\"LAMBDA_RATIO_SIGNIFICANCE\"]==0.\n",
    "\n",
    "len(np.unique(reduced[pval_0_mask][\"OBS_ID\"]))"
   ]
  },
  {
   "cell_type": "code",
   "execution_count": null,
   "metadata": {},
   "outputs": [],
   "source": [
    "h = vis.hist(reduced[\"dt\"][reduced[\"LAMBDA_RATIO_SIGNIFICANCE\"] < 1e-5],histtype=\"step\",bins=\"freedman\")\n",
    "# reduced[(reduced[\"LAMBDA_RATIO_SIGNIFICANCE\"] < 1e-7)*(reduced[\"dt\"] > 27e8)]"
   ]
  },
  {
   "cell_type": "code",
   "execution_count": null,
   "metadata": {},
   "outputs": [],
   "source": [
    "candidates = reduced[reduced[\"POISSON_SIGNIFICANCE\"] < 1e-5]"
   ]
  },
  {
   "cell_type": "markdown",
   "metadata": {},
   "source": [
    "### To do\n",
    "\n",
    "1. Check fit compared to histogram and mplet dt\n",
    "2. Verify on a skymap that the masked photons correspond to near the source\n",
    "3. Do a time spread of the photon arrival times to guess if a cloud is passing by\n",
    "4. Do a gammapy analysis\n",
    "5. Ask victor if the m87 run is excluded (done)\n",
    "6. check GRBCAT"
   ]
  },
  {
   "cell_type": "code",
   "execution_count": null,
   "metadata": {},
   "outputs": [],
   "source": [
    "ds = scani.getDataStores()\n",
    "obs = [myds.get_observations(candidates[\"OBS_ID\"],skip_missing=True) for myds in ds]\n",
    "m87_obs = obs[1][0]\n",
    "m87_mplet = candidates[-1]\n"
   ]
  },
  {
   "cell_type": "code",
   "execution_count": null,
   "metadata": {},
   "outputs": [],
   "source": [
    "m87_mplet"
   ]
  },
  {
   "cell_type": "code",
   "execution_count": null,
   "metadata": {},
   "outputs": [],
   "source": [
    "m87_rundist = scani.sphere_dist(m87_obs.events.table[\"RA\"].data,m87_obs.events.table[\"DEC\"].data,m87_mplet[\"MEDIAN_RA\"],m87_mplet[\"MEDIAN_DEC\"])\n",
    "\n",
    "plt.scatter(1e-9*(m87_obs.events.table[m87_rundist<.1][\"TIME\"]),np.zeros_like(m87_obs.events.table[m87_rundist<.1][\"TIME\"]),marker=\"v\",s=1)"
   ]
  },
  {
   "cell_type": "code",
   "execution_count": null,
   "metadata": {},
   "outputs": [],
   "source": [
    "expon.fit(np.diff(np.sort(m87_obs.events.table[m87_rundist < 0.1][\"TIME\"])),floc=0)"
   ]
  },
  {
   "cell_type": "code",
   "execution_count": null,
   "metadata": {},
   "outputs": [],
   "source": [
    "dwarf = SkyCoord(283.775,-30.483,frame=\"fk5\",unit=\"deg\")\n",
    "dwarf.separation(reduced[(reduced[\"OBS_ID\"]==64292) * (reduced[\"POISSON_SIGNIFICANCE\"] < 1e-5)][\"SkyCoord\"])"
   ]
  },
  {
   "cell_type": "code",
   "execution_count": null,
   "metadata": {},
   "outputs": [],
   "source": [
    "h = vis.hist(np.log10(reduced[\"dt\"]),bins=\"freedman\",histtype=\"step\")\n",
    "plt.yscale(\"log\")"
   ]
  },
  {
   "cell_type": "code",
   "execution_count": null,
   "metadata": {},
   "outputs": [],
   "source": [
    "N = 3\n",
    "livetime = 1680\n",
    "bursttime = 3\n",
    "rate = N/livetime\n",
    "\n",
    "lamb = rate*bursttime\n",
    "sum = 1\n",
    "for i in range(3):\n",
    "    sum -= (lamb)**i * np.exp(-lamb) / factorial(i)\n",
    "\n",
    "sum\n"
   ]
  },
  {
   "cell_type": "markdown",
   "metadata": {},
   "source": []
  }
 ],
 "metadata": {
  "kernelspec": {
   "display_name": "gammatransients",
   "language": "python",
   "name": "python3"
  },
  "language_info": {
   "codemirror_mode": {
    "name": "ipython",
    "version": 3
   },
   "file_extension": ".py",
   "mimetype": "text/x-python",
   "name": "python",
   "nbconvert_exporter": "python",
   "pygments_lexer": "ipython3",
   "version": "3.9.15"
  },
  "orig_nbformat": 4
 },
 "nbformat": 4,
 "nbformat_minor": 2
}
