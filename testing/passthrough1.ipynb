{
 "cells": [
  {
   "cell_type": "code",
   "execution_count": null,
   "metadata": {},
   "outputs": [],
   "source": [
    "import numpy as np\n",
    "from matplotlib import figure, gridspec,colors\n",
    "\n",
    "import scanner_interpretation as scani\n",
    "\n",
    "import healpy as hp\n",
    "\n",
    "from matplotlib import colors,cm\n",
    "import matplotlib.pyplot as plt\n",
    "import matplotlib as mpl\n",
    "from astropy import visualization as vis\n",
    "\n",
    "import dill\n",
    "\n",
    "from gammapy.datasets import Datasets\n",
    "from gammapy.data import DataStore,ObservationFilter\n",
    "\n",
    "from pathlib import Path\n",
    "from astropy.coordinates import SkyCoord, Angle\n",
    "from regions import CircleSkyRegion, Regions\n",
    "\n",
    "\n",
    "\n",
    "with open(\"pickles/mplets.pkl\",\"rb\") as f:\n",
    "    mplets = dill.load(f)\n",
    "\n",
    "nosource_mask = mplets.table[\"TEVCAT_DISTANCES_DEG\"] >= 0.2\n",
    "Nmin4_mask = mplets.table[\"Nmax\"] >= 4\n",
    "Nmin5_mask = mplets.table[\"Nmax\"] >= 5\n",
    "dt1sec_mask = mplets.table[\"dt\"] <= 1e9\n",
    "xgal_mask = np.abs(mplets.table[\"MEDIAN_GLAT\"]) > 5"
   ]
  },
  {
   "cell_type": "markdown",
   "metadata": {},
   "source": [
    "Get sphere distances for one observation"
   ]
  },
  {
   "cell_type": "code",
   "execution_count": null,
   "metadata": {},
   "outputs": [],
   "source": [
    "mymask = xgal_mask * nosource_mask\n",
    "reduced = mplets.table[mymask]\n",
    "obsids = reduced[\"OBS_ID\"]\n",
    "print(len(obsids))"
   ]
  },
  {
   "cell_type": "code",
   "execution_count": null,
   "metadata": {},
   "outputs": [],
   "source": [
    "\n",
    "current_obs_index = 1000\n",
    "\n",
    "hess1_datastore = DataStore.from_dir(\"$HESS1\")\n",
    "hess1u_datastore = DataStore.from_dir(\"$HESS1U\")\n",
    "myobs = hess1_datastore.get_observations(obsids[current_obs_index])\n",
    "# print(np.unique([obs.obs_info[\"RADECSYS\"] for obs in myobs]))\n",
    "phottable = myobs[0].events.table\n",
    "\n",
    "run_dist = scani.sphere_dist(phottable[\"RA\"].data, phottable[\"DEC\"].data, reduced[current_obs_index][\"MEDIAN_RA\"], reduced[current_obs_index][\"MEDIAN_DEC\"])"
   ]
  },
  {
   "cell_type": "code",
   "execution_count": null,
   "metadata": {},
   "outputs": [],
   "source": [
    "myhist = vis.hist(run_dist,histtype=\"step\",bins=\"freedman\")\n",
    "plt.xlabel(\"Angular distance [deg]\")\n",
    "plt.ylabel(\"Photon counts\")\n",
    "plt.title(f\"Angular distance from median RADEC of multiplet to photons in run {obsids[current_obs_index]}\")\n",
    "ax = plt.gca()\n",
    "ylims = ax.get_ylim()\n",
    "plt.vlines(5,ylims[0],ylims[1],color=\"red\",ls=\"--\",label=\"5 deg\")\n",
    "ax.set_ylim(*ylims)\n",
    "ax.set_xlim(-.5,7)\n",
    "plt.legend()\n",
    "# plt.yscale(\"log\")"
   ]
  },
  {
   "cell_type": "code",
   "execution_count": null,
   "metadata": {},
   "outputs": [],
   "source": [
    "myobs[0].obs_info"
   ]
  },
  {
   "cell_type": "code",
   "execution_count": null,
   "metadata": {},
   "outputs": [],
   "source": [
    "mask = run_dist < 0.1\n",
    "photoncount = len(phottable[mask][:])#/myobs[0].obs_info[\"LIVETIME\"]/60\n",
    "print(photoncount)\n",
    "plt.scatter(phottable[mask][\"TIME\"],[1 for i in range(photoncount)],s=4,marker=\"x\")\n",
    "plt.xlim(myobs[0].obs_info[\"TSTART\"],myobs[0].obs_info[\"TSTOP\"])\n",
    "mplet_start_time_ns = reduced[current_obs_index][\"TIME\"][0].astype(\"float\") - myobs[0].obs_info[\"T_START\"]\n",
    "plt.vlines(mplet_start_time_ns*1e-9,.98,1.02,color=\"red\",label=\"mplet start time\",ls=\"--\")\n",
    "plt.legend()\n",
    "plt.ticklabel_format(axis=\"x\",style=\"sci\",useOffset=False)\n",
    "plt.show()"
   ]
  },
  {
   "cell_type": "code",
   "execution_count": null,
   "metadata": {},
   "outputs": [],
   "source": [
    "from scipy.stats import expon\n",
    "dt_run = np.diff(np.sort(phottable[\"TIME\"]))\n",
    "dt_mask = np.diff(np.sort(phottable[mask][\"TIME\"]))\n",
    "params_run = expon.fit(dt_run)\n",
    "params_mask = expon.fit(dt_mask)\n",
    "print(f\"params_run : {params_run}\")\n",
    "print(f\"params_mask : {params_mask}\")"
   ]
  },
  {
   "cell_type": "code",
   "execution_count": null,
   "metadata": {},
   "outputs": [],
   "source": [
    "lambda_mask_fit = 1/params_mask[1]\n",
    "rate_boe = len(phottable[mask])/myobs[0].obs_info[\"LIVETIME\"]\n",
    "print(lambda_mask_fit,rate_boe)"
   ]
  },
  {
   "cell_type": "code",
   "execution_count": null,
   "metadata": {},
   "outputs": [],
   "source": [
    "# plt.hist(expon.rvs(*params_run,int(1e3)),histtype=\"step\",label=\"rvs hist\",density=True)\n",
    "x = np.linspace(0,3,1000)\n",
    "plt.plot(x,expon.pdf(x,*params_run))\n",
    "plt.hist(dt_run,label=\"dt masked\",density=True,histtype=\"step\",color=\"blue\")\n",
    "plt.legend()\n",
    "plt.show()"
   ]
  },
  {
   "cell_type": "code",
   "execution_count": null,
   "metadata": {},
   "outputs": [],
   "source": [
    "rate_run = len(phottable)/myobs[0].obs_info[\"LIVETIME\"]\n",
    "rate_masked_run = len(phottable[mask])/myobs[0].obs_info[\"LIVETIME\"]\n",
    "print(rate_run,rate_masked_run)"
   ]
  },
  {
   "cell_type": "markdown",
   "metadata": {},
   "source": [
    "## Analysing the navigation table"
   ]
  },
  {
   "cell_type": "code",
   "execution_count": 28,
   "metadata": {},
   "outputs": [],
   "source": [
    "import dill\n",
    "import numpy as np\n",
    "\n",
    "with open(\"pickles/obs_id_to_index_per_ds_dict.pkl\",\"rb\") as f:\n",
    "    navdict = dill.load(f)\n",
    "with open(\"pickles/navigationtable.pkl\",\"rb\") as f:\n",
    "    navtab = dill.load(f)\n",
    "\n",
    "# with open(\"pickles/mplets.pkl\", \"rb\") as f:\n",
    "#     mplets = dill.load(f)"
   ]
  },
  {
   "cell_type": "code",
   "execution_count": 25,
   "metadata": {},
   "outputs": [
    {
     "data": {
      "text/plain": [
       "2"
      ]
     },
     "execution_count": 25,
     "metadata": {},
     "output_type": "execute_result"
    }
   ],
   "source": [
    "a = np.array([1,2],dtype=np.int64)\n",
    "b = [1,2,3,3]\n",
    "b[a[0]]"
   ]
  },
  {
   "cell_type": "code",
   "execution_count": 29,
   "metadata": {},
   "outputs": [
    {
     "data": {
      "text/html": [
       "<div><i>Table length=25782</i>\n",
       "<table id=\"table140674277664704\" class=\"table-striped table-bordered table-condensed\">\n",
       "<thead><tr><th>MPLET_INDEX</th><th>OBS_ID</th><th>DS_INDEX</th><th>OBS_INDEX_WITHIN_DS</th></tr></thead>\n",
       "<thead><tr><th>int64</th><th>int64</th><th>int64</th><th>int64</th></tr></thead>\n",
       "<tr><td>0</td><td>18361</td><td>0</td><td>0</td></tr>\n",
       "<tr><td>1</td><td>18361</td><td>0</td><td>0</td></tr>\n",
       "<tr><td>2</td><td>18396</td><td>0</td><td>1</td></tr>\n",
       "<tr><td>3</td><td>18406</td><td>0</td><td>2</td></tr>\n",
       "<tr><td>4</td><td>18406</td><td>0</td><td>2</td></tr>\n",
       "<tr><td>5</td><td>18406</td><td>0</td><td>2</td></tr>\n",
       "<tr><td>6</td><td>18410</td><td>0</td><td>3</td></tr>\n",
       "<tr><td>7</td><td>18415</td><td>0</td><td>4</td></tr>\n",
       "<tr><td>8</td><td>18415</td><td>0</td><td>4</td></tr>\n",
       "<tr><td>9</td><td>18415</td><td>0</td><td>4</td></tr>\n",
       "<tr><td>...</td><td>...</td><td>...</td><td>...</td></tr>\n",
       "<tr><td>25772</td><td>154665</td><td>1</td><td>3043</td></tr>\n",
       "<tr><td>25773</td><td>154665</td><td>1</td><td>3043</td></tr>\n",
       "<tr><td>25774</td><td>154667</td><td>1</td><td>3044</td></tr>\n",
       "<tr><td>25775</td><td>154671</td><td>1</td><td>3045</td></tr>\n",
       "<tr><td>25776</td><td>154671</td><td>1</td><td>3045</td></tr>\n",
       "<tr><td>25777</td><td>154741</td><td>1</td><td>3046</td></tr>\n",
       "<tr><td>25778</td><td>154741</td><td>1</td><td>3046</td></tr>\n",
       "<tr><td>25779</td><td>154742</td><td>1</td><td>3047</td></tr>\n",
       "<tr><td>25780</td><td>154742</td><td>1</td><td>3047</td></tr>\n",
       "<tr><td>25781</td><td>154768</td><td>1</td><td>3048</td></tr>\n",
       "</table></div>"
      ],
      "text/plain": [
       "<Table length=25782>\n",
       "MPLET_INDEX OBS_ID DS_INDEX OBS_INDEX_WITHIN_DS\n",
       "   int64    int64   int64          int64       \n",
       "----------- ------ -------- -------------------\n",
       "          0  18361        0                   0\n",
       "          1  18361        0                   0\n",
       "          2  18396        0                   1\n",
       "          3  18406        0                   2\n",
       "          4  18406        0                   2\n",
       "          5  18406        0                   2\n",
       "          6  18410        0                   3\n",
       "          7  18415        0                   4\n",
       "          8  18415        0                   4\n",
       "          9  18415        0                   4\n",
       "        ...    ...      ...                 ...\n",
       "      25772 154665        1                3043\n",
       "      25773 154665        1                3043\n",
       "      25774 154667        1                3044\n",
       "      25775 154671        1                3045\n",
       "      25776 154671        1                3045\n",
       "      25777 154741        1                3046\n",
       "      25778 154741        1                3046\n",
       "      25779 154742        1                3047\n",
       "      25780 154742        1                3047\n",
       "      25781 154768        1                3048"
      ]
     },
     "execution_count": 29,
     "metadata": {},
     "output_type": "execute_result"
    }
   ],
   "source": [
    "navtab"
   ]
  }
 ],
 "metadata": {
  "kernelspec": {
   "display_name": "gammatransients",
   "language": "python",
   "name": "python3"
  },
  "language_info": {
   "codemirror_mode": {
    "name": "ipython",
    "version": 3
   },
   "file_extension": ".py",
   "mimetype": "text/x-python",
   "name": "python",
   "nbconvert_exporter": "python",
   "pygments_lexer": "ipython3",
   "version": "3.9.15"
  },
  "orig_nbformat": 4
 },
 "nbformat": 4,
 "nbformat_minor": 2
}
