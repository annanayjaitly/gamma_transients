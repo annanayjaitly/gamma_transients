{
 "cells": [
  {
   "cell_type": "code",
   "execution_count": 2,
   "metadata": {},
   "outputs": [],
   "source": [
    "import numpy as np\n",
    "from matplotlib import figure, gridspec,colors\n",
    "\n",
    "import scanner_interpretation as scani\n",
    "\n",
    "import healpy as hp\n",
    "\n",
    "from matplotlib import colors,cm\n",
    "import matplotlib.pyplot as plt\n",
    "import matplotlib as mpl\n",
    "from astropy import visualization as vis\n",
    "\n",
    "import dill\n",
    "\n",
    "from gammapy.datasets import Datasets\n",
    "from gammapy.data import DataStore,ObservationFilter\n",
    "\n",
    "from pathlib import Path\n",
    "from astropy.coordinates import SkyCoord, Angle\n",
    "from regions import CircleSkyRegion, Regions\n",
    "\n",
    "\n",
    "\n",
    "with open(\"pkl_jugs/mplets.pkl\",\"rb\") as f:\n",
    "    mplets = dill.load(f)\n",
    "\n",
    "nosource_mask = mplets.table[\"TEVCAT_DISTANCES_DEG\"] >= 0.2\n",
    "Nmin4_mask = mplets.table[\"Nmax\"] >= 4\n",
    "Nmin5_mask = mplets.table[\"Nmax\"] >= 5\n",
    "dt1sec_mask = mplets.table[\"dt\"] <= 1e9\n",
    "xgal_mask = np.abs(mplets.table[\"MEDIAN_GLAT\"]) > 5"
   ]
  },
  {
   "cell_type": "markdown",
   "metadata": {},
   "source": [
    "Get sphere distances for one observation"
   ]
  },
  {
   "cell_type": "code",
   "execution_count": 3,
   "metadata": {},
   "outputs": [
    {
     "name": "stdout",
     "output_type": "stream",
     "text": [
      "25782\n"
     ]
    }
   ],
   "source": [
    "mymask = xgal_mask * nosource_mask\n",
    "reduced = mplets.table[mymask]\n",
    "obsids = reduced[\"OBS_ID\"]\n",
    "print(len(obsids))"
   ]
  },
  {
   "cell_type": "code",
   "execution_count": 8,
   "metadata": {},
   "outputs": [],
   "source": [
    "\n",
    "current_obs_index = 0\n",
    "\n",
    "hess1_datastore = DataStore.from_dir(\"$HESS1\")\n",
    "hess1u_datastore = DataStore.from_dir(\"$HESS1U\")\n",
    "myobs = hess1_datastore.get_observations([obsids[current_obs_index]])\n",
    "# print(np.unique([obs.obs_info[\"RADECSYS\"] for obs in myobs]))\n",
    "phottable = myobs[0].events.table\n",
    "\n",
    "run_dist = scani.sphere_dist(phottable[\"RA\"].data, phottable[\"DEC\"].data, reduced[current_obs_index][\"MEDIAN_RA\"], reduced[current_obs_index][\"MEDIAN_DEC\"])"
   ]
  },
  {
   "cell_type": "code",
   "execution_count": 10,
   "metadata": {},
   "outputs": [
    {
     "data": {
      "text/html": [
       "<div><i>Table length=2</i>\n",
       "<table id=\"table140250137018176\" class=\"table-striped table-bordered table-condensed\">\n",
       "<thead><tr><th>EVENT_ID</th><th>EVENT_ID_HESS</th><th>BUNCH_ID_HESS</th><th>OBS_ID</th><th>TIME</th><th>MULTIP</th><th>RA</th><th>DEC</th><th>DIR_ERR</th><th>SKYX_RADEC</th><th>SKYY_RADEC</th><th>DETX</th><th>DETY</th><th>FOV_ALTAZ_THETA</th><th>FOV_ALTAZ_PHI</th><th>FOV_ALTAZ_LON</th><th>FOV_ALTAZ_LAT</th><th>FOV_RADEC_THETA</th><th>FOV_RADEC_PHI</th><th>FOV_RADEC_LON</th><th>FOV_RADEC_LAT</th><th>ALT</th><th>AZ</th><th>COREX</th><th>COREY</th><th>CORE_ERR</th><th>XMAX</th><th>XMAX_ERR</th><th>ENERGY</th><th>ENERGY_ERR</th><th>HIL_MSW</th><th>HIL_MSW_ERR</th><th>HIL_MSL</th><th>HIL_MSL_ERR</th></tr></thead>\n",
       "<thead><tr><th></th><th></th><th></th><th></th><th>s</th><th></th><th>deg</th><th>deg</th><th>deg</th><th>deg</th><th>deg</th><th>deg</th><th>deg</th><th>deg</th><th>deg</th><th>deg</th><th>deg</th><th>deg</th><th>deg</th><th>deg</th><th>deg</th><th>deg</th><th>deg</th><th>m</th><th>m</th><th>m</th><th>m</th><th>m</th><th>TeV</th><th>TeV</th><th></th><th></th><th></th><th></th></tr></thead>\n",
       "<thead><tr><th>int64</th><th>uint32</th><th>uint32</th><th>uint32</th><th>float64</th><th>int16</th><th>float32</th><th>float32</th><th>float32</th><th>float32</th><th>float32</th><th>float32</th><th>float32</th><th>float32</th><th>float32</th><th>float32</th><th>float32</th><th>float32</th><th>float32</th><th>float32</th><th>float32</th><th>float32</th><th>float32</th><th>float32</th><th>float32</th><th>float32</th><th>float32</th><th>float32</th><th>float32</th><th>float32</th><th>float32</th><th>float32</th><th>float32</th><th>float32</th></tr></thead>\n",
       "<tr><td>120259084333</td><td>45</td><td>28</td><td>18361</td><td>96157131.04546523</td><td>2</td><td>84.15269</td><td>23.469427</td><td>0.061122123</td><td>-0.95593166</td><td>0.47646198</td><td>-0.888458</td><td>-0.5927528</td><td>1.0680287</td><td>-33.712044</td><td>-0.888458</td><td>-0.5927528</td><td>1.0679687</td><td>116.4929</td><td>0.47645098</td><td>0.95580995</td><td>37.471977</td><td>331.1664</td><td>-143.24669</td><td>-81.35084</td><td>1e-45</td><td>172.71237</td><td>1.0579411e-07</td><td>0.67420715</td><td>1.0</td><td>-1.0197905</td><td>0.26451847</td><td>-0.7061351</td><td>0.35866004</td></tr>\n",
       "<tr><td>120259084358</td><td>70</td><td>28</td><td>18361</td><td>96157131.22693157</td><td>2</td><td>83.71886</td><td>21.537926</td><td>0.0</td><td>0.9765909</td><td>0.07956559</td><td>0.4162463</td><td>0.88698065</td><td>0.97978663</td><td>115.137985</td><td>0.4162463</td><td>0.88698065</td><td>0.9797312</td><td>-94.65776</td><td>0.07956554</td><td>-0.9764953</td><td>38.955517</td><td>329.51102</td><td>751.4099</td><td>-405.82053</td><td>1e-45</td><td>106.964645</td><td>8.6040913e-10</td><td>9.423786</td><td>1.0</td><td>-1.0877063</td><td>0.21198279</td><td>-0.45175344</td><td>0.30176064</td></tr>\n",
       "</table></div>"
      ],
      "text/plain": [
       "<Table length=2>\n",
       "  EVENT_ID   EVENT_ID_HESS BUNCH_ID_HESS ... HIL_MSW_ERR   HIL_MSL   HIL_MSL_ERR\n",
       "                                         ...                                    \n",
       "   int64         uint32        uint32    ...   float32     float32     float32  \n",
       "------------ ------------- ------------- ... ----------- ----------- -----------\n",
       "120259084333            45            28 ...  0.26451847  -0.7061351  0.35866004\n",
       "120259084358            70            28 ...  0.21198279 -0.45175344  0.30176064"
      ]
     },
     "execution_count": 10,
     "metadata": {},
     "output_type": "execute_result"
    }
   ],
   "source": [
    "phottable[:2]"
   ]
  },
  {
   "cell_type": "code",
   "execution_count": null,
   "metadata": {},
   "outputs": [],
   "source": [
    "myhist = vis.hist(run_dist,histtype=\"step\",bins=\"freedman\")\n",
    "plt.xlabel(\"Angular distance [deg]\")\n",
    "plt.ylabel(\"Photon counts\")\n",
    "plt.title(f\"Angular distance from median RADEC of multiplet to photons in run {obsids[current_obs_index]}\")\n",
    "ax = plt.gca()\n",
    "ylims = ax.get_ylim()\n",
    "plt.vlines(5,ylims[0],ylims[1],color=\"red\",ls=\"--\",label=\"5 deg\")\n",
    "ax.set_ylim(*ylims)\n",
    "ax.set_xlim(-.5,7)\n",
    "plt.legend()\n",
    "# plt.yscale(\"log\")"
   ]
  },
  {
   "cell_type": "code",
   "execution_count": null,
   "metadata": {},
   "outputs": [],
   "source": [
    "myobs[0].obs_info"
   ]
  },
  {
   "cell_type": "code",
   "execution_count": null,
   "metadata": {},
   "outputs": [],
   "source": [
    "mask = run_dist < 0.1\n",
    "photoncount = len(phottable[mask][:])#/myobs[0].obs_info[\"LIVETIME\"]/60\n",
    "print(photoncount)\n",
    "plt.scatter(phottable[mask][\"TIME\"],[1 for i in range(photoncount)],s=4,marker=\"x\")\n",
    "plt.xlim(myobs[0].obs_info[\"TSTART\"],myobs[0].obs_info[\"TSTOP\"])\n",
    "mplet_start_time_ns = reduced[current_obs_index][\"TIME\"][0].astype(\"float\") - myobs[0].obs_info[\"T_START\"]\n",
    "plt.vlines(mplet_start_time_ns*1e-9,.98,1.02,color=\"red\",label=\"mplet start time\",ls=\"--\")\n",
    "plt.legend()\n",
    "plt.ticklabel_format(axis=\"x\",style=\"sci\",useOffset=False)\n",
    "plt.show()"
   ]
  },
  {
   "cell_type": "code",
   "execution_count": null,
   "metadata": {},
   "outputs": [],
   "source": [
    "from scipy.stats import expon\n",
    "dt_run = np.diff(np.sort(phottable[\"TIME\"]))\n",
    "dt_mask = np.diff(np.sort(phottable[mask][\"TIME\"]))\n",
    "params_run = expon.fit(dt_run)\n",
    "params_mask = expon.fit(dt_mask)\n",
    "print(f\"params_run : {params_run}\")\n",
    "print(f\"params_mask : {params_mask}\")"
   ]
  },
  {
   "cell_type": "code",
   "execution_count": null,
   "metadata": {},
   "outputs": [],
   "source": [
    "lambda_mask_fit = 1/params_mask[1]\n",
    "rate_boe = len(phottable[mask])/myobs[0].obs_info[\"LIVETIME\"]\n",
    "print(lambda_mask_fit,rate_boe)"
   ]
  },
  {
   "cell_type": "code",
   "execution_count": null,
   "metadata": {},
   "outputs": [],
   "source": [
    "# plt.hist(expon.rvs(*params_run,int(1e3)),histtype=\"step\",label=\"rvs hist\",density=True)\n",
    "x = np.linspace(0,3,1000)\n",
    "plt.plot(x,expon.pdf(x,*params_run))\n",
    "plt.hist(dt_run,label=\"dt masked\",density=True,histtype=\"step\",color=\"blue\")\n",
    "plt.legend()\n",
    "plt.show()"
   ]
  },
  {
   "cell_type": "code",
   "execution_count": null,
   "metadata": {},
   "outputs": [],
   "source": [
    "rate_run = len(phottable)/myobs[0].obs_info[\"LIVETIME\"]\n",
    "rate_masked_run = len(phottable[mask])/myobs[0].obs_info[\"LIVETIME\"]\n",
    "print(rate_run,rate_masked_run)"
   ]
  },
  {
   "cell_type": "markdown",
   "metadata": {},
   "source": [
    "## Analysing the navigation table"
   ]
  },
  {
   "cell_type": "code",
   "execution_count": 28,
   "metadata": {},
   "outputs": [],
   "source": [
    "import dill\n",
    "import numpy as np\n",
    "\n",
    "with open(\"pickles/obs_id_to_index_per_ds_dict.pkl\",\"rb\") as f:\n",
    "    navdict = dill.load(f)\n",
    "with open(\"pickles/navigationtable.pkl\",\"rb\") as f:\n",
    "    navtab = dill.load(f)\n",
    "\n",
    "# with open(\"pickles/mplets.pkl\", \"rb\") as f:\n",
    "#     mplets = dill.load(f)"
   ]
  },
  {
   "cell_type": "code",
   "execution_count": 25,
   "metadata": {},
   "outputs": [
    {
     "data": {
      "text/plain": [
       "2"
      ]
     },
     "execution_count": 25,
     "metadata": {},
     "output_type": "execute_result"
    }
   ],
   "source": [
    "a = np.array([1,2],dtype=np.int64)\n",
    "b = [1,2,3,3]\n",
    "b[a[0]]"
   ]
  },
  {
   "cell_type": "code",
   "execution_count": 1,
   "metadata": {},
   "outputs": [
    {
     "ename": "TypeError",
     "evalue": "'numpy.int64' object is not iterable",
     "output_type": "error",
     "traceback": [
      "\u001b[0;31m---------------------------------------------------------------------------\u001b[0m",
      "\u001b[0;31mTypeError\u001b[0m                                 Traceback (most recent call last)",
      "\u001b[1;32m/afs/ifh.de/user/w/wybouwt/git/gamma_transients/testing/passthrough1.ipynb Cell 16\u001b[0m in \u001b[0;36m<cell line: 3>\u001b[0;34m()\u001b[0m\n\u001b[1;32m      <a href='vscode-notebook-cell://ssh-remote%2Bhess-wgs2/afs/ifh.de/user/w/wybouwt/git/gamma_transients/testing/passthrough1.ipynb#X21sdnNjb2RlLXJlbW90ZQ%3D%3D?line=0'>1</a>\u001b[0m \u001b[39mfrom\u001b[39;00m \u001b[39mscanner_interpretation\u001b[39;00m \u001b[39mimport\u001b[39;00m getDataStores\n\u001b[1;32m      <a href='vscode-notebook-cell://ssh-remote%2Bhess-wgs2/afs/ifh.de/user/w/wybouwt/git/gamma_transients/testing/passthrough1.ipynb#X21sdnNjb2RlLXJlbW90ZQ%3D%3D?line=1'>2</a>\u001b[0m ds \u001b[39m=\u001b[39m getDataStores()\n\u001b[0;32m----> <a href='vscode-notebook-cell://ssh-remote%2Bhess-wgs2/afs/ifh.de/user/w/wybouwt/git/gamma_transients/testing/passthrough1.ipynb#X21sdnNjb2RlLXJlbW90ZQ%3D%3D?line=2'>3</a>\u001b[0m obs \u001b[39m=\u001b[39m ds[\u001b[39m0\u001b[39;49m]\u001b[39m.\u001b[39;49mget_observations(ds[\u001b[39m0\u001b[39;49m]\u001b[39m.\u001b[39;49mobs_ids[\u001b[39m0\u001b[39;49m])\n\u001b[1;32m      <a href='vscode-notebook-cell://ssh-remote%2Bhess-wgs2/afs/ifh.de/user/w/wybouwt/git/gamma_transients/testing/passthrough1.ipynb#X21sdnNjb2RlLXJlbW90ZQ%3D%3D?line=3'>4</a>\u001b[0m obs\u001b[39m.\u001b[39mobs_info\n",
      "File \u001b[0;32m/lustre/fs22/group/hess/user/wybouwt/conda/gammatransients/lib/python3.9/site-packages/gammapy/data/data_store.py:370\u001b[0m, in \u001b[0;36mDataStore.get_observations\u001b[0;34m(self, obs_id, skip_missing, required_irf)\u001b[0m\n\u001b[1;32m    366\u001b[0m     obs_id \u001b[39m=\u001b[39m \u001b[39mself\u001b[39m\u001b[39m.\u001b[39mobs_ids\n\u001b[1;32m    368\u001b[0m obs_list \u001b[39m=\u001b[39m []\n\u001b[0;32m--> 370\u001b[0m \u001b[39mfor\u001b[39;00m _ \u001b[39min\u001b[39;00m obs_id:\n\u001b[1;32m    371\u001b[0m     \u001b[39mtry\u001b[39;00m:\n\u001b[1;32m    372\u001b[0m         obs \u001b[39m=\u001b[39m \u001b[39mself\u001b[39m\u001b[39m.\u001b[39mobs(_, required_irf)\n",
      "\u001b[0;31mTypeError\u001b[0m: 'numpy.int64' object is not iterable"
     ]
    }
   ],
   "source": [
    "from scanner_interpretation import getDataStores\n",
    "ds = getDataStores()\n"
   ]
  },
  {
   "cell_type": "code",
   "execution_count": 3,
   "metadata": {},
   "outputs": [
    {
     "data": {
      "text/plain": [
       "numpy.ndarray"
      ]
     },
     "execution_count": 3,
     "metadata": {},
     "output_type": "execute_result"
    }
   ],
   "source": [
    "type(ds[0].obs_ids)"
   ]
  },
  {
   "cell_type": "code",
   "execution_count": 4,
   "metadata": {},
   "outputs": [
    {
     "data": {
      "text/plain": [
       "{'EXTNAME': 'EVENTS',\n",
       " 'CREATOR': 'SASH FITS::EventListWriter',\n",
       " 'TELESCOP': 'HESS',\n",
       " 'ORIGIN': 'H.E.S.S. Collaboration',\n",
       " 'INSTRUME': 'H.E.S.S. Phase I',\n",
       " 'EV_CLASS': 'std_ImPACT',\n",
       " 'OBS_ID': 18361,\n",
       " 'TSTART': 96157130.0,\n",
       " 'TSTOP': 96158011.0,\n",
       " 'MJDREFI': 51910,\n",
       " 'MJDREFF': 0.000742870370370241,\n",
       " 'TIMEUNIT': 's',\n",
       " 'TIMESYS': 'TT',\n",
       " 'TIMEREF': 'local',\n",
       " 'TASSIGN': 'Namibia',\n",
       " 'TELAPSE': 0,\n",
       " 'ONTIME': 881.0,\n",
       " 'LIVETIME': 881.0,\n",
       " 'DEADC': 1.0,\n",
       " 'OBJECT': 'Crab Nebula',\n",
       " 'RA_OBJ': 83.633333333333,\n",
       " 'DEC_OBJ': 22.014444444444,\n",
       " 'RA_PNT': 83.633333333333,\n",
       " 'DEC_PNT': 22.514444444444,\n",
       " 'GLON_PNT': 184.133314364185,\n",
       " 'GLAT_PNT': -5.51637925194063,\n",
       " 'ALT_PNT': 37.6661202492352,\n",
       " 'AZ_PNT': 327.963142353231,\n",
       " 'RADECSYS': 'FK5',\n",
       " 'EQUINOX': 2000,\n",
       " 'CONV_DEP': 0.0,\n",
       " 'CONV_RA': 83.633333333333,\n",
       " 'CONV_DEC': 22.014444444444,\n",
       " 'OBS_MODE': 'WOBBLE',\n",
       " 'N_TELS': 3,\n",
       " 'TELLIST': '2,3,4',\n",
       " 'GEOLAT': -23.2717777777778,\n",
       " 'GEOLON': 16.5002222222222,\n",
       " 'ALTITUDE': 1835.0,\n",
       " 'MUONEFF': 0.0940089424451192,\n",
       " 'MUONCORR': 1.11446535587311,\n",
       " 'EUNIT': 'TeV',\n",
       " 'EVTVER': 1.4,\n",
       " 'EXTVER': 1,\n",
       " 'DATE': '2020-04-23T01:08:17',\n",
       " 'CHECKSUM': 'o9ofp6lZo6lfo6lZ',\n",
       " 'DATASUM': '1182223403',\n",
       " 'DATE-OBS': '2004-01-18',\n",
       " 'TIME-OBS': '22:19:54.184',\n",
       " 'DATE-END': '2004-01-18',\n",
       " 'TIME-END': '22:34:35.184'}"
      ]
     },
     "execution_count": 4,
     "metadata": {},
     "output_type": "execute_result"
    }
   ],
   "source": [
    "obs = ds[0].get_observations([ds[0].obs_ids[0]])\n",
    "obs[0].obs_info"
   ]
  }
 ],
 "metadata": {
  "kernelspec": {
   "display_name": "gammatransients",
   "language": "python",
   "name": "python3"
  },
  "language_info": {
   "codemirror_mode": {
    "name": "ipython",
    "version": 3
   },
   "file_extension": ".py",
   "mimetype": "text/x-python",
   "name": "python",
   "nbconvert_exporter": "python",
   "pygments_lexer": "ipython3",
   "version": "3.9.15"
  },
  "orig_nbformat": 4
 },
 "nbformat": 4,
 "nbformat_minor": 2
}
