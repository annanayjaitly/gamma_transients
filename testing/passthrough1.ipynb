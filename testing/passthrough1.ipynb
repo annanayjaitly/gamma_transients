{
 "cells": [
  {
   "cell_type": "code",
   "execution_count": null,
   "metadata": {},
   "outputs": [],
   "source": [
    "import numpy as np\n",
    "from matplotlib import figure, gridspec,colors\n",
    "\n",
    "import scanner_interpretation as scani\n",
    "\n",
    "import healpy as hp\n",
    "\n",
    "from matplotlib import colors,cm\n",
    "import matplotlib.pyplot as plt\n",
    "import matplotlib as mpl\n",
    "from astropy import visualization as vis\n",
    "\n",
    "import dill\n",
    "\n",
    "from gammapy.datasets import Datasets\n",
    "from gammapy.data import DataStore,ObservationFilter\n",
    "\n",
    "from pathlib import Path\n",
    "from astropy.coordinates import SkyCoord, Angle\n",
    "from regions import CircleSkyRegion, Regions\n",
    "\n",
    "\n",
    "\n",
    "with open(\"pickles/mplets.pkl\",\"rb\") as f:\n",
    "    mplets = dill.load(f)\n",
    "\n",
    "nosource_mask = mplets.table[\"TEVCAT_DISTANCES_DEG\"] >= 0.2\n",
    "Nmin4_mask = mplets.table[\"Nmax\"] >= 4\n",
    "Nmin5_mask = mplets.table[\"Nmax\"] >= 5\n",
    "dt1sec_mask = mplets.table[\"dt\"] <= 1e9\n",
    "xgal_mask = np.abs(mplets.table[\"MEDIAN_GLAT\"]) > 5"
   ]
  },
  {
   "cell_type": "markdown",
   "metadata": {},
   "source": [
    "Get sphere distances for one observation"
   ]
  },
  {
   "cell_type": "code",
   "execution_count": null,
   "metadata": {},
   "outputs": [],
   "source": [
    "mymask = xgal_mask * nosource_mask\n",
    "reduced = mplets.table[mymask]\n",
    "obsids = reduced[\"OBS_ID\"]\n",
    "print(len(obsids))"
   ]
  },
  {
   "cell_type": "code",
   "execution_count": null,
   "metadata": {},
   "outputs": [],
   "source": [
    "\n",
    "current_obs_index = 1000\n",
    "\n",
    "hess1_datastore = DataStore.from_dir(\"$HESS1\")\n",
    "hess1u_datastore = DataStore.from_dir(\"$HESS1U\")\n",
    "myobs = hess1_datastore.get_observations(obsids[current_obs_index])\n",
    "# print(np.unique([obs.obs_info[\"RADECSYS\"] for obs in myobs]))\n",
    "phottable = myobs[0].events.table\n",
    "\n",
    "run_dist = scani.sphere_dist(phottable[\"RA\"].data, phottable[\"DEC\"].data, reduced[current_obs_index][\"MEDIAN_RA\"], reduced[current_obs_index][\"MEDIAN_DEC\"])"
   ]
  },
  {
   "cell_type": "markdown",
   "metadata": {},
   "source": [
    "Efficiency of getting the whole datastore"
   ]
  },
  {
   "cell_type": "code",
   "execution_count": null,
   "metadata": {},
   "outputs": [],
   "source": [
    "len(np.unique(reduced[\"OBS_ID\"]))/(len(hess1_datastore.obs_ids) + len(hess1u_datastore.obs_ids))"
   ]
  },
  {
   "cell_type": "code",
   "execution_count": null,
   "metadata": {},
   "outputs": [],
   "source": [
    "myhist = vis.hist(run_dist,histtype=\"step\",bins=\"freedman\")\n",
    "plt.xlabel(\"Angular distance [deg]\")\n",
    "plt.ylabel(\"Photon counts\")\n",
    "plt.title(f\"Angular distance from median RADEC of multiplet to photons in run {obsids[current_obs_index]}\")\n",
    "ax = plt.gca()\n",
    "ylims = ax.get_ylim()\n",
    "plt.vlines(5,ylims[0],ylims[1],color=\"red\",ls=\"--\",label=\"5 deg\")\n",
    "ax.set_ylim(*ylims)\n",
    "ax.set_xlim(-.5,7)\n",
    "plt.legend()\n",
    "# plt.yscale(\"log\")"
   ]
  },
  {
   "cell_type": "code",
   "execution_count": null,
   "metadata": {},
   "outputs": [],
   "source": [
    "myobs[0].obs_info"
   ]
  },
  {
   "cell_type": "code",
   "execution_count": null,
   "metadata": {},
   "outputs": [],
   "source": [
    "mask = run_dist < 0.1\n",
    "photoncount = len(phottable[mask][:])#/myobs[0].obs_info[\"LIVETIME\"]/60\n",
    "print(photoncount)\n",
    "plt.scatter(phottable[mask][\"TIME\"],[1 for i in range(photoncount)],s=4,marker=\"x\")\n",
    "plt.xlim(myobs[0].obs_info[\"TSTART\"],myobs[0].obs_info[\"TSTOP\"])\n",
    "mplet_start_time_ns = reduced[current_obs_index][\"TIME\"][0].astype(\"float\") - myobs[0].obs_info[\"T_START\"]\n",
    "plt.vlines(mplet_start_time_ns*1e-9,.98,1.02,color=\"red\",label=\"mplet start time\",ls=\"--\")\n",
    "plt.legend()\n",
    "plt.ticklabel_format(axis=\"x\",style=\"sci\",useOffset=False)\n",
    "plt.show()"
   ]
  },
  {
   "cell_type": "code",
   "execution_count": null,
   "metadata": {},
   "outputs": [],
   "source": [
    "from scipy.stats import expon\n",
    "dt_run = np.diff(np.sort(phottable[\"TIME\"]))\n",
    "dt_mask = np.diff(np.sort(phottable[mask][\"TIME\"]))\n",
    "params_run = expon.fit(dt_run)\n",
    "params_mask = expon.fit(dt_mask)\n",
    "print(f\"params_run : {params_run}\")\n",
    "print(f\"params_mask : {params_mask}\")"
   ]
  },
  {
   "cell_type": "code",
   "execution_count": null,
   "metadata": {},
   "outputs": [],
   "source": [
    "lambda_mask_fit = 1/params_mask[1]\n",
    "rate_boe = len(phottable[mask])/myobs[0].obs_info[\"LIVETIME\"]\n",
    "print(lambda_mask_fit,rate_boe)"
   ]
  },
  {
   "cell_type": "code",
   "execution_count": null,
   "metadata": {},
   "outputs": [],
   "source": [
    "# plt.hist(expon.rvs(*params_run,int(1e3)),histtype=\"step\",label=\"rvs hist\",density=True)\n",
    "x = np.linspace(0,3,1000)\n",
    "plt.plot(x,expon.pdf(x,*params_run))\n",
    "plt.hist(dt_run,label=\"dt masked\",density=True,histtype=\"step\",color=\"blue\")\n",
    "plt.legend()\n",
    "plt.show()"
   ]
  },
  {
   "cell_type": "code",
   "execution_count": null,
   "metadata": {},
   "outputs": [],
   "source": [
    "rate_run = len(phottable)/myobs[0].obs_info[\"LIVETIME\"]\n",
    "rate_masked_run = len(phottable[mask])/myobs[0].obs_info[\"LIVETIME\"]\n",
    "print(rate_run,rate_masked_run)"
   ]
  },
  {
   "cell_type": "markdown",
   "metadata": {},
   "source": [
    "## Analysing the navigation table"
   ]
  },
  {
   "cell_type": "code",
   "execution_count": 16,
   "metadata": {},
   "outputs": [],
   "source": [
    "import dill\n",
    "\n",
    "with open(\"pickles/obs_id_to_index_per_ds_dict.pkl\",\"rb\") as f:\n",
    "    navdict = dill.load(f)"
   ]
  },
  {
   "cell_type": "code",
   "execution_count": 19,
   "metadata": {},
   "outputs": [],
   "source": [
    "for k in navdict:\n",
    "    if len(navdict[k]) > 1:\n",
    "        print(k,navdict[k])"
   ]
  },
  {
   "cell_type": "code",
   "execution_count": null,
   "metadata": {},
   "outputs": [],
   "source": [
    "from collections import defaultdict"
   ]
  }
 ],
 "metadata": {
  "kernelspec": {
   "display_name": "gammatransients",
   "language": "python",
   "name": "python3"
  },
  "language_info": {
   "codemirror_mode": {
    "name": "ipython",
    "version": 3
   },
   "file_extension": ".py",
   "mimetype": "text/x-python",
   "name": "python",
   "nbconvert_exporter": "python",
   "pygments_lexer": "ipython3",
   "version": "3.9.15"
  },
  "orig_nbformat": 4
 },
 "nbformat": 4,
 "nbformat_minor": 2
}
