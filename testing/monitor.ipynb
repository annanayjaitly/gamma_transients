{
 "cells": [
  {
   "cell_type": "code",
   "execution_count": 2,
   "metadata": {},
   "outputs": [
    {
     "name": "stderr",
     "output_type": "stream",
     "text": [
      "100%|██████████| 17519/17519 [26:42<00:00, 10.93it/s]\n",
      "100%|██████████| 6421/6421 [09:44<00:00, 10.99it/s]\n"
     ]
    }
   ],
   "source": [
    "import dill\n",
    "import scanner_interpretation as sc\n",
    "from tqdm import tqdm\n",
    "ds = sc.getDataStores()\n",
    "pnt_alt = []\n",
    "for d in ds:\n",
    "    observations = d.get_observations(required_irf=\"all-optional\")\n",
    "    for obs in tqdm(observations):\n",
    "        pnt_alt.append(obs.obs_info[\"ALT_PNT\"])\n",
    "\n",
    "with open(\"pkl_jugs/all_alt_pnt.pkl\",\"wb\") as f:\n",
    "    dill.dump(pnt_alt,f)"
   ]
  },
  {
   "cell_type": "code",
   "execution_count": 1,
   "metadata": {},
   "outputs": [],
   "source": [
    "import numpy as np\n",
    "from scipy import stats\n",
    "from gammapy.maps import RegionGeom\n",
    "from regions import RectangleSkyRegion, CircleSkyRegion\n",
    "from astropy.coordinates import SkyCoord\n",
    "import astropy.units as u"
   ]
  },
  {
   "cell_type": "code",
   "execution_count": 4,
   "metadata": {},
   "outputs": [],
   "source": [
    "FoV_SkyRegion = CircleSkyRegion(SkyCoord(0,0,unit=\"deg\"),2.5*u.deg)\n",
    "# FoV_SkyRegion = RectangleSkyRegion(SkyCoord(0,0,unit=\"deg\"),5*u.deg,5*u.deg)\n",
    "FoV_RegionGeom = RegionGeom(FoV_SkyRegion)\n",
    "Omega = FoV_RegionGeom.solid_angle()\n",
    "Trun_days = (28 / (60*24))\n",
    "Omega_skies = Omega / (4*np.pi*u.sr)"
   ]
  },
  {
   "cell_type": "code",
   "execution_count": 5,
   "metadata": {},
   "outputs": [
    {
     "data": {
      "text/latex": [
       "$0.0059811491 \\; \\mathrm{sr}$"
      ],
      "text/plain": [
       "<Quantity 0.00598115 sr>"
      ]
     },
     "execution_count": 5,
     "metadata": {},
     "output_type": "execute_result"
    }
   ],
   "source": [
    "Omega"
   ]
  },
  {
   "cell_type": "code",
   "execution_count": 6,
   "metadata": {},
   "outputs": [],
   "source": [
    "Rmean = 820./2\n",
    "Rvar = (60.**2 + 210.**2) /4\n",
    "\n",
    "R = stats.norm.rvs(Rmean,np.sqrt(Rvar),int(1e4))\n",
    "lamb = R*Trun_days*Omega_skies.value # counts\n",
    "\n",
    "p = 1-np.exp(-lamb)\n",
    "Pthresh = .999999426697\n",
    "Ntries = np.log(1-Pthresh) / np.log( 1 - p)\n"
   ]
  },
  {
   "cell_type": "code",
   "execution_count": 9,
   "metadata": {},
   "outputs": [
    {
     "name": "stdout",
     "output_type": "stream",
     "text": [
      "90.90042412045919 24.08102632883699\n"
     ]
    }
   ],
   "source": [
    "import matplotlib.pyplot as plt\n",
    "# h = plt.hist(np.log10(Ntries),histtype=\"step\")\n",
    "# h = plt.hist(lamb*23940,histtype=\"step\")\n",
    "print(np.mean(lamb)*23940,np.std(lamb)*23940)"
   ]
  },
  {
   "cell_type": "code",
   "execution_count": 2,
   "metadata": {},
   "outputs": [],
   "source": [
    "from tevcat import TeVCat"
   ]
  },
  {
   "cell_type": "code",
   "execution_count": 3,
   "metadata": {},
   "outputs": [
    {
     "name": "stdout",
     "output_type": "stream",
     "text": [
      "Unknown observatory name found in GRB 160821B:  None\n",
      "Unknown \"discoverer\" ID found in GRB 160821B: None\n",
      "Unknown observatory name found in SNR G004.8+6.2:  None\n",
      "Unknown \"discoverer\" ID found in SNR G004.8+6.2: None\n",
      "Unknown observatory name found in 3HWC J0621+382:  None\n",
      "Unknown \"discoverer\" ID found in 3HWC J0621+382: None\n",
      "Unknown observatory name found in 3HWC J0630+186:  None\n",
      "Unknown \"discoverer\" ID found in 3HWC J0630+186: None\n",
      "Unknown observatory name found in 3HWC J0631+107:  None\n",
      "Unknown \"discoverer\" ID found in 3HWC J0631+107: None\n"
     ]
    },
    {
     "ename": "TypeError",
     "evalue": "object of type 'TeVCat' has no len()",
     "output_type": "error",
     "traceback": [
      "\u001b[0;31m---------------------------------------------------------------------------\u001b[0m",
      "\u001b[0;31mTypeError\u001b[0m                                 Traceback (most recent call last)",
      "\u001b[1;32m/afs/ifh.de/user/w/wybouwt/git/gamma_transients/testing/monitor.ipynb Cell 8\u001b[0m line \u001b[0;36m<cell line: 2>\u001b[0;34m()\u001b[0m\n\u001b[1;32m      <a href='vscode-notebook-cell://ssh-remote%2Bhess-wgs2/afs/ifh.de/user/w/wybouwt/git/gamma_transients/testing/monitor.ipynb#X10sdnNjb2RlLXJlbW90ZQ%3D%3D?line=0'>1</a>\u001b[0m tc \u001b[39m=\u001b[39m TeVCat()\n\u001b[0;32m----> <a href='vscode-notebook-cell://ssh-remote%2Bhess-wgs2/afs/ifh.de/user/w/wybouwt/git/gamma_transients/testing/monitor.ipynb#X10sdnNjb2RlLXJlbW90ZQ%3D%3D?line=1'>2</a>\u001b[0m \u001b[39mlen\u001b[39;49m(tc)\n",
      "\u001b[0;31mTypeError\u001b[0m: object of type 'TeVCat' has no len()"
     ]
    }
   ],
   "source": [
    "tc = TeVCat()\n",
    "len(tc)"
   ]
  },
  {
   "cell_type": "code",
   "execution_count": 4,
   "metadata": {},
   "outputs": [
    {
     "data": {
      "text/plain": [
       "300"
      ]
     },
     "execution_count": 4,
     "metadata": {},
     "output_type": "execute_result"
    }
   ],
   "source": [
    "len(tc.sources)"
   ]
  }
 ],
 "metadata": {
  "kernelspec": {
   "display_name": "gammatransients",
   "language": "python",
   "name": "python3"
  },
  "language_info": {
   "codemirror_mode": {
    "name": "ipython",
    "version": 3
   },
   "file_extension": ".py",
   "mimetype": "text/x-python",
   "name": "python",
   "nbconvert_exporter": "python",
   "pygments_lexer": "ipython3",
   "version": "3.9.15"
  },
  "orig_nbformat": 4
 },
 "nbformat": 4,
 "nbformat_minor": 2
}
