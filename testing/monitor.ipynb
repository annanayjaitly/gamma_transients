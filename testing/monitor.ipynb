{
 "cells": [
  {
   "cell_type": "code",
   "execution_count": 2,
   "metadata": {},
   "outputs": [
    {
     "name": "stderr",
     "output_type": "stream",
     "text": [
      "100%|██████████| 17519/17519 [26:42<00:00, 10.93it/s]\n",
      "100%|██████████| 6421/6421 [09:44<00:00, 10.99it/s]\n"
     ]
    }
   ],
   "source": [
    "import dill\n",
    "import scanner_interpretation as sc\n",
    "from tqdm import tqdm\n",
    "ds = sc.getDataStores()\n",
    "pnt_alt = []\n",
    "for d in ds:\n",
    "    observations = d.get_observations(required_irf=\"all-optional\")\n",
    "    for obs in tqdm(observations):\n",
    "        pnt_alt.append(obs.obs_info[\"ALT_PNT\"])\n",
    "\n",
    "with open(\"pkl_jugs/all_alt_pnt.pkl\",\"wb\") as f:\n",
    "    dill.dump(pnt_alt,f)"
   ]
  }
 ],
 "metadata": {
  "kernelspec": {
   "display_name": "gammatransients",
   "language": "python",
   "name": "python3"
  },
  "language_info": {
   "codemirror_mode": {
    "name": "ipython",
    "version": 3
   },
   "file_extension": ".py",
   "mimetype": "text/x-python",
   "name": "python",
   "nbconvert_exporter": "python",
   "pygments_lexer": "ipython3",
   "version": "3.9.15"
  },
  "orig_nbformat": 4
 },
 "nbformat": 4,
 "nbformat_minor": 2
}
