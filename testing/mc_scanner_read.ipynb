{
 "cells": [
  {
   "cell_type": "code",
   "execution_count": 1,
   "metadata": {},
   "outputs": [],
   "source": [
    "import astropy.units as u\n",
    "import numpy as np\n",
    "import scanner_interpretation as sca\n",
    "import dill\n",
    "from gammapy.datasets import MapDataset\n",
    "from gammapy.maps import WcsNDMap\n",
    "from astropy.coordinates import SkyCoord\n",
    "import astropy.units as u\n",
    "with open(\"mc_scanner/real_dataset_dumps/hbl/stacked_datasets.pkl\",\"rb\") as f:\n",
    "    stacked: MapDataset = dill.load(f)\n",
    "\n",
    "exp: WcsNDMap  = stacked.exposure\n",
    "spatial_exposure: WcsNDMap = exp.sum_over_axes([\"energy_true\"],keepdims=False)"
   ]
  },
  {
   "cell_type": "code",
   "execution_count": 11,
   "metadata": {},
   "outputs": [
    {
     "data": {
      "text/plain": [
       "<SkyCoord (ICRS): (ra, dec) in deg\n",
       "    (0.36359999, -30.6275)>"
      ]
     },
     "execution_count": 11,
     "metadata": {},
     "output_type": "execute_result"
    }
   ],
   "source": [
    "# PNT: SkyCoord = SkyCoord([0.363599987030068],[-30.6275],frame=\"fk5\",unit=\"deg\")\n",
    "SkyCoord(*spatial_exposure.geom.center_coord)\n",
    "# np.array(spatial_exposure.geom.coord_to_idx(PNT)).flatten().tolist()\n",
    "# sca.get_bell_ratio(exp,PNT)"
   ]
  },
  {
   "cell_type": "code",
   "execution_count": null,
   "metadata": {},
   "outputs": [],
   "source": [
    "d = 10\n",
    "x,y = np.meshgrid(np.arange(250),np.arange(250))\n",
    "distance = np.sqrt((x - 125)**2 + (y - 125)**2)\n",
    "indices = np.where(distance <= d)\n"
   ]
  },
  {
   "cell_type": "code",
   "execution_count": null,
   "metadata": {},
   "outputs": [],
   "source": [
    "np.sum(spatial_exposure.get_by_idx(indices))"
   ]
  }
 ],
 "metadata": {
  "kernelspec": {
   "display_name": "gammatransients",
   "language": "python",
   "name": "python3"
  },
  "language_info": {
   "codemirror_mode": {
    "name": "ipython",
    "version": 3
   },
   "file_extension": ".py",
   "mimetype": "text/x-python",
   "name": "python",
   "nbconvert_exporter": "python",
   "pygments_lexer": "ipython3",
   "version": "3.9.15"
  },
  "orig_nbformat": 4
 },
 "nbformat": 4,
 "nbformat_minor": 2
}
