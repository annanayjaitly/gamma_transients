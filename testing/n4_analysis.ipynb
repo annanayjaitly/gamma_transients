{
 "cells": [
  {
   "cell_type": "code",
   "execution_count": 1,
   "metadata": {},
   "outputs": [],
   "source": [
    "import dill\n",
    "import numpy as np\n",
    "import scanner_interpretation as sc\n",
    "from scipy.stats import pearsonr, spearmanr\n",
    "import matplotlib.pyplot as plt\n",
    "from corner import corner\n",
    "import astropy.visualization as vis\n",
    "rd = sc.Reduced(\"pkl_jugs/n4/reduced_complete.pkl\")\n",
    "rd_old = sc.Reduced(\"pkl_jugs/reduced_correctedP_020923.pkl\")\n",
    "rd_old.reduced[\"BERNOULLI_SIGMA\"] = sc.n_sigmas(rd_old.reduced[\"BERNOULLI_P\"])\n",
    "\n",
    "\n",
    "def get_leftover(redu) -> np.ndarray:\n",
    "\n",
    "# pval_0_mask = redu.reduced[\"LAMBDA_RATIO_SIGNIFICANCE\"]==0.\n",
    "    bernP_nan_mask = np.isnan(redu.reduced[\"BERNOULLI_P\"])\n",
    "    expP_nan_mask = np.isnan(redu.reduced[\"EXP_CORRECTED_P\"])\n",
    "    bernP_finite_mask = np.isfinite(redu.reduced[\"BERNOULLI_P\"])\n",
    "    expP_finite_mask = np.isfinite(redu.reduced[\"EXP_CORRECTED_P\"])\n",
    "    bernP_0_mask = redu.reduced[\"BERNOULLI_P\"] == 0\n",
    "    expP_0_mask = redu.reduced[\"EXP_CORRECTED_P\"] == 0\n",
    "\n",
    "    sanebern = ~bernP_nan_mask * bernP_finite_mask * ~bernP_0_mask\n",
    "    saneexp = ~expP_nan_mask * expP_finite_mask * ~expP_0_mask\n",
    "\n",
    "    leftover = sanebern * saneexp\n",
    "    return leftover\n",
    "\n",
    "l_n4 = get_leftover(rd)\n",
    "l_n3 = get_leftover(rd_old)"
   ]
  },
  {
   "cell_type": "code",
   "execution_count": 3,
   "metadata": {},
   "outputs": [
    {
     "data": {
      "text/plain": [
       "'/lustre/fs22/group/hess/user/wybouwt/git/gamma_transients/testing'"
      ]
     },
     "execution_count": 3,
     "metadata": {},
     "output_type": "execute_result"
    }
   ],
   "source": [
    "from os import getcwd\n",
    "getcwd()"
   ]
  },
  {
   "cell_type": "code",
   "execution_count": 12,
   "metadata": {},
   "outputs": [
    {
     "name": "stdout",
     "output_type": "stream",
     "text": [
      "row is a Table of length 1, not a row. Taking first!\n",
      "hess1\n"
     ]
    }
   ],
   "source": [
    "cd = rd.getCandidate(21080)\n",
    "cd = sc.Candidate(cd[cd[\"BERNOULLI_SIGMA\"] > 5])\n",
    "with open(\"pkl_jugs/plotter_21080/multiplets.pkl\",\"wb\") as f:\n",
    "    dill.dump([cd.mplet],f)\n",
    "\n",
    "fig,ax = cd.ToAScatter(0.2)\n",
    "fig.savefig(\"figures/ToA_21080.png\",facecolor=\"white\")"
   ]
  },
  {
   "cell_type": "code",
   "execution_count": 20,
   "metadata": {},
   "outputs": [
    {
     "data": {
      "text/html": [
       "<div><i>Table length=7</i>\n",
       "<table id=\"table140165957286400\" class=\"table-striped table-bordered table-condensed\">\n",
       "<thead><tr><th>Nmax</th><th>OBS_ID</th><th>ID</th><th>RA</th><th>DEC</th><th>TIME</th><th>ENERGY</th><th>dt</th><th>da</th><th>MEDIAN_RA</th><th>MEDIAN_DEC</th><th>SkyCoord</th><th>MEDIAN_GLAT</th><th>MEDIAN_GLON</th><th>TEVCAT_SOURCE_NAME</th><th>TEVCAT_SOURCE_TYPE</th><th>TEVCAT_DISTANCES_DEG</th><th>TEVCAT_FLUX_CRAB</th><th>DS_INDEX</th><th>ANGULAR_MEASURE_DEG</th><th>ALT_PNT</th><th>PNT_SOURCE</th><th>PNT_DISTANCE</th><th>BKG_DT_LAMBDA</th><th>BKG_PHOTONS</th><th>MPLET_DT_LAMBDA</th><th>LAMBDA_RATIO_SIGNIFICANCE</th><th>BELL_FRACTION</th><th>EXP_CORRECTED_P</th><th>BERNOULLI_P</th><th>BERNOULLI_SIGMA</th></tr></thead>\n",
       "<thead><tr><th></th><th></th><th></th><th></th><th></th><th></th><th></th><th></th><th></th><th></th><th></th><th>deg,deg</th><th>deg</th><th>deg</th><th></th><th></th><th></th><th></th><th></th><th></th><th></th><th></th><th></th><th></th><th></th><th></th><th></th><th></th><th></th><th></th><th></th></tr></thead>\n",
       "<thead><tr><th>int64</th><th>uint32</th><th>object</th><th>object</th><th>object</th><th>object</th><th>object</th><th>float64</th><th>float64</th><th>float64</th><th>float64</th><th>SkyCoord</th><th>float64</th><th>float64</th><th>str21</th><th>str22</th><th>float64</th><th>object</th><th>int64</th><th>float64</th><th>float64</th><th>str18</th><th>float64</th><th>float64</th><th>int64</th><th>float64</th><th>float64</th><th>float64</th><th>float64</th><th>float64</th><th>float64</th></tr></thead>\n",
       "<tr><td>6</td><td>20276</td><td>[6524055323063 6528350289956 6528350289986 6528350290028 6528350290073\\n 6528350290143]</td><td>[165.97131 166.06232 166.14052 166.23145 166.18765 166.12132]</td><td>[38.28908  38.328835 38.34844  38.336254 38.12073  38.232487]</td><td>[&apos;2004-04-14T20:23:24.467085177&apos; &apos;2004-04-14T20:23:25.401650960&apos;\\n &apos;2004-04-14T20:23:25.589681918&apos; &apos;2004-04-14T20:23:25.907663399&apos;\\n &apos;2004-04-14T20:23:26.202385718&apos; &apos;2004-04-14T20:23:26.665803248&apos;]</td><td>[0.83006215 0.84927547 1.0574031  1.196126   1.374775   2.1121292 ]</td><td>2198718080.0</td><td>0.29516464816180843</td><td>166.13092041015625</td><td>38.3089599609375</td><td>166.13092041015625,38.3089599609375</td><td>65.0124155469847</td><td>179.59672382925038</td><td>Markarian 421</td><td>HBL</td><td>0.1254141575419944</td><td>0.3</td><td>0</td><td>0.1008041280961167</td><td>28.4676796247559</td><td>Fornax A east lobe</td><td>0.40009903659199114</td><td>0.03175152011569988</td><td>53</td><td>2.274052351662325e-09</td><td>4.468866388052106e-10</td><td>0.00312551180832088</td><td>0.003422948556621926</td><td>0.0034170971897715674</td><td>2.9274903006695943</td></tr>\n",
       "<tr><td>6</td><td>131748</td><td>[8723078580592 8744553415160 8744553416922 8744553418289 8744553419307\\n 8744553419351]</td><td>[329.75275 329.59027 329.67902 329.67795 329.56467 329.63208]</td><td>[-31.053356 -31.260921 -31.114906 -30.999647 -31.039358 -31.292704]</td><td>[&apos;2017-07-03T02:22:33.226009900&apos; &apos;2017-07-03T02:22:33.274048621&apos;\\n &apos;2017-07-03T02:22:34.291750247&apos; &apos;2017-07-03T02:22:35.042723233&apos;\\n &apos;2017-07-03T02:22:35.600638920&apos; &apos;2017-07-03T02:22:35.636415297&apos;]</td><td>[0.2030702  0.36068767 0.21866065 0.22185808 0.50748175 0.2135898 ]</td><td>2410405376.0</td><td>0.29662429310257776</td><td>329.655029296875</td><td>-31.084131240844727</td><td>329.655029296875,-31.084131240844727</td><td>-52.27889545638176</td><td>16.32606720985433</td><td>PKS 2155-304</td><td>HBL</td><td>0.8648770810555702</td><td>0.15</td><td>1</td><td>0.1277656386921624</td><td>82.94920515427</td><td>Fornax A east lobe</td><td>0.966951959025126</td><td>0.011892003025017512</td><td>15</td><td>2.0743398625903424e-09</td><td>2.233768725545815e-12</td><td>0.0035242997109889984</td><td>1.517363098343305e-05</td><td>1.5173516996647152e-05</td><td>4.326154274642353</td></tr>\n",
       "<tr><td>6</td><td>130899</td><td>[20242180871582 20242180871667 20242180872392 20242180872398\\n 20242180872531 20246475836029]</td><td>[329.53943 329.67438 329.45215 329.65604 329.6059  329.44778]</td><td>[-30.205076 -30.20866  -30.220171 -30.253277 -30.309416 -30.31212 ]</td><td>[&apos;2017-06-02T03:57:59.828201348&apos; &apos;2017-06-02T03:57:59.871485764&apos;\\n &apos;2017-06-02T03:58:00.249743516&apos; &apos;2017-06-02T03:58:00.253293568&apos;\\n &apos;2017-06-02T03:58:00.333277995&apos; &apos;2017-06-02T03:58:02.242071444&apos;]</td><td>[0.6077716  0.2368164  0.13487929 0.4209663  0.18240058 0.25513366]</td><td>2413870080.0</td><td>0.2490952262719296</td><td>329.5726623535156</td><td>-30.236724853515625</td><td>329.5726623535156,-30.236724853515625</td><td>-52.123174891811416</td><td>17.690086319297937</td><td>PKS 2155-304</td><td>HBL</td><td>0.14769063376449015</td><td>0.15</td><td>1</td><td>0.09753051963570815</td><td>81.4579985302602</td><td>Fornax A east lobe</td><td>0.5043378431793415</td><td>0.03528920808111067</td><td>59</td><td>2.071362501356411e-09</td><td>1.451686881814851e-09</td><td>0.0030668810941278934</td><td>0.011331832856901189</td><td>0.011267872124889666</td><td>2.5342797971349613</td></tr>\n",
       "<tr><td>6</td><td>142636</td><td>[15105399986972 15109694947357 15109694949143 15109694950739\\n 15109694951231 15109694951722]</td><td>[83.532295 83.51031  83.45117  83.63036  83.56658  83.52143 ]</td><td>[21.989128 22.041983 21.839342 22.06081  21.841759 21.83971 ]</td><td>[&apos;2018-10-16T02:53:29.525474126&apos; &apos;2018-10-16T02:53:29.664364392&apos;\\n &apos;2018-10-16T02:53:30.602400595&apos; &apos;2018-10-16T02:53:31.508652503&apos;\\n &apos;2018-10-16T02:53:31.765909249&apos; &apos;2018-10-16T02:53:32.042157466&apos;]</td><td>[0.6729215  0.41002157 0.7705771  1.7820694  0.5848025  0.28790423]</td><td>2516683520.0</td><td>0.2848818846991208</td><td>83.52686309814453</td><td>21.915443420410156</td><td>83.52686309814453,21.915443420410156</td><td>-5.920603102131634</td><td>184.5885017394697</td><td>Crab</td><td>PWN</td><td>0.14061998272119222</td><td>1.0</td><td>1</td><td>0.11312483915470578</td><td>44.6499589627175</td><td>Fornax A east lobe</td><td>0.6049727480157503</td><td>0.03391690052532119</td><td>57</td><td>1.9867418043940325e-09</td><td>1.4693616323668834e-09</td><td>0.0029614733066409826</td><td>0.011878046443971415</td><td>0.011807783843044262</td><td>2.517837336651752</td></tr>\n",
       "<tr><td>6</td><td>18875</td><td>[4118873638612 4123168604223 4123168604307 4123168604342 4123168604515\\n 4123168604533]</td><td>[83.717094 83.633385 83.65427  83.72398  83.62953  83.54336 ]</td><td>[21.138123 21.39151  21.10228  21.292953 21.135689 21.328459]</td><td>[&apos;2004-02-13T22:12:58.098122889&apos; &apos;2004-02-13T22:12:59.160503680&apos;\\n &apos;2004-02-13T22:12:59.611486727&apos; &apos;2004-02-13T22:12:59.879052931&apos;\\n &apos;2004-02-13T22:13:00.634948784&apos; &apos;2004-02-13T22:13:00.706348950&apos;]</td><td>[3.7500117  0.20142597 0.17143942 2.9498858  7.4761744  0.19587858]</td><td>2608226048.0</td><td>0.28998316652083395</td><td>83.64382934570312</td><td>21.215538024902344</td><td>83.64382934570312,21.215538024902344</td><td>-6.203178896564644</td><td>185.2416552093025</td><td>Crab</td><td>PWN</td><td>0.7969657567186312</td><td>1.0</td><td>0</td><td>0.126880825788606</td><td>25.0602836290472</td><td>Fornax A east lobe</td><td>0.29906620055356914</td><td>0.01313896436694901</td><td>20</td><td>1.9170117478555474e-09</td><td>6.484590642230614e-12</td><td>0.0058227707631886005</td><td>2.6661035834766318e-05</td><td>2.6660679572354518e-05</td><td>4.200261569277037</td></tr>\n",
       "<tr><td>6</td><td>20360</td><td>[11055245820217 11059540787241 11059540787272 11059540787324\\n 11059540787333 11059540787358]</td><td>[166.36662 166.24438 166.3599  166.24059 166.32599 166.0992 ]</td><td>[38.224453 38.341724 38.229946 38.32789  38.139835 38.13836 ]</td><td>[&apos;2004-04-18T21:13:23.375915343&apos; &apos;2004-04-18T21:13:25.307252223&apos;\\n &apos;2004-04-18T21:13:25.546117121&apos; &apos;2004-04-18T21:13:26.050232464&apos;\\n &apos;2004-04-18T21:13:26.109732205&apos; &apos;2004-04-18T21:13:26.278415734&apos;]</td><td>[6.7061014 1.9008707 2.4285603 3.8381884 1.4130343 4.4935417]</td><td>2902500352.0</td><td>0.2839074836679713</td><td>166.28518676757812</td><td>38.22719955444336</td><td>166.28518676757812,38.22719955444336</td><td>65.15331065423577</td><td>179.68873937421762</td><td>Markarian 421</td><td>HBL</td><td>0.20856428046953798</td><td>0.3</td><td>0</td><td>0.11152750243276946</td><td>27.4211703684573</td><td>Fornax A east lobe</td><td>0.49998777035814956</td><td>0.02119060865852622</td><td>36</td><td>1.7226526533825364e-09</td><td>2.1076229650418554e-10</td><td>0.00429502921178937</td><td>0.001174764857119124</td><td>0.0011740751200777222</td><td>3.2451045427948246</td></tr>\n",
       "<tr><td>6</td><td>135247</td><td>[2723009270737 2723009270768 2727304233542 2727304234321 2727304235920\\n 2727304236293]</td><td>[83.61578  83.777405 83.90854  83.76949  83.71695  83.72831 ]</td><td>[22.047155 21.907637 22.020418 21.980082 22.039606 22.02901 ]</td><td>[&apos;2017-11-23T00:50:01.493942553&apos; &apos;2017-11-23T00:50:01.516045148&apos;\\n &apos;2017-11-23T00:50:02.778498465&apos; &apos;2017-11-23T00:50:03.279561097&apos;\\n &apos;2017-11-23T00:50:04.231826121&apos; &apos;2017-11-23T00:50:04.448155457&apos;]</td><td>[0.65615314 0.5813248  0.47952932 2.1222248  0.6321931  0.3139336 ]</td><td>2954212864.0</td><td>0.2939735411964046</td><td>83.7489013671875</td><td>22.024715423583984</td><td>83.7489013671875,22.024715423583984</td><td>-5.688180958575742</td><td>184.60650342190473</td><td>Crab Pulsar</td><td>PSR</td><td>0.11643369629927822</td><td>0.01</td><td>1</td><td>0.12218230773558851</td><td>44.1867610694176</td><td>Fornax A east lobe</td><td>0.8117642788751274</td><td>0.07467838495343838</td><td>124</td><td>1.6924981924051607e-09</td><td>3.8129554513766095e-07</td><td>0.0037978305481374264</td><td>2.4035341321566763</td><td>0.9096129971356972</td><td>0.11352669903937998</td></tr>\n",
       "</table></div>"
      ],
      "text/plain": [
       "<Table length=7>\n",
       " Nmax OBS_ID ...      BERNOULLI_P         BERNOULLI_SIGMA  \n",
       "             ...                                           \n",
       "int64 uint32 ...        float64               float64      \n",
       "----- ------ ... ---------------------- -------------------\n",
       "    6  20276 ...  0.0034170971897715674  2.9274903006695943\n",
       "    6 131748 ... 1.5173516996647152e-05   4.326154274642353\n",
       "    6 130899 ...   0.011267872124889666  2.5342797971349613\n",
       "    6 142636 ...   0.011807783843044262   2.517837336651752\n",
       "    6  18875 ... 2.6660679572354518e-05   4.200261569277037\n",
       "    6  20360 ...  0.0011740751200777222  3.2451045427948246\n",
       "    6 135247 ...     0.9096129971356972 0.11352669903937998"
      ]
     },
     "execution_count": 20,
     "metadata": {},
     "output_type": "execute_result"
    }
   ],
   "source": [
    "sixplets = rd.reduced[rd.reduced[\"Nmax\"] == 6]\n",
    "sixplets.sort(\"dt\")\n",
    "sixplets"
   ]
  },
  {
   "cell_type": "code",
   "execution_count": 10,
   "metadata": {},
   "outputs": [
    {
     "data": {
      "text/plain": [
       "141.695232"
      ]
     },
     "execution_count": 10,
     "metadata": {},
     "output_type": "execute_result"
    }
   ],
   "source": [
    "cd.mplet[\"dt\"] / 1e6"
   ]
  },
  {
   "cell_type": "code",
   "execution_count": null,
   "metadata": {},
   "outputs": [],
   "source": []
  },
  {
   "cell_type": "code",
   "execution_count": null,
   "metadata": {},
   "outputs": [],
   "source": [
    "significant_table = rd.reduced[rd.reduced[\"BERNOULLI_SIGMA\"] > 5]\n",
    "significant_table.sort(\"BERNOULLI_SIGMA\")\n",
    "significant_table"
   ]
  },
  {
   "cell_type": "code",
   "execution_count": 14,
   "metadata": {},
   "outputs": [
    {
     "data": {
      "text/html": [
       "<div><i>Table length=1</i>\n",
       "<table id=\"table140165938158752\" class=\"table-striped table-bordered table-condensed\">\n",
       "<thead><tr><th>Nmax</th><th>OBS_ID</th><th>ID</th><th>RA</th><th>DEC</th><th>TIME</th><th>ENERGY</th><th>dt</th><th>da</th><th>MEDIAN_RA</th><th>MEDIAN_DEC</th><th>SkyCoord</th><th>MEDIAN_GLAT</th><th>MEDIAN_GLON</th><th>TEVCAT_SOURCE_NAME</th><th>TEVCAT_SOURCE_TYPE</th><th>TEVCAT_DISTANCES_DEG</th><th>DS_INDEX</th><th>ANGULAR_MEASURE_DEG</th><th>BKG_DT_LAMBDA</th><th>BKG_PHOTONS</th><th>MPLET_DT_LAMBDA</th><th>LAMBDA_RATIO_SIGNIFICANCE</th><th>PNT_DISTANCE</th><th>ALT_PNT</th><th>BELL_FRACTION</th><th>EXP_CORRECTED_P</th><th>BERNOULLI_P</th><th>BERNOULLI_SIGMA</th></tr></thead>\n",
       "<thead><tr><th></th><th></th><th></th><th></th><th></th><th></th><th></th><th></th><th></th><th></th><th></th><th>deg,deg</th><th>deg</th><th>deg</th><th></th><th></th><th></th><th></th><th></th><th></th><th></th><th></th><th></th><th></th><th></th><th></th><th></th><th></th><th></th></tr></thead>\n",
       "<thead><tr><th>int64</th><th>uint32</th><th>object</th><th>object</th><th>object</th><th>object</th><th>object</th><th>float64</th><th>float64</th><th>float64</th><th>float64</th><th>SkyCoord</th><th>float64</th><th>float64</th><th>str21</th><th>str22</th><th>float64</th><th>int64</th><th>float64</th><th>float64</th><th>int64</th><th>float64</th><th>float64</th><th>float64</th><th>float64</th><th>float64</th><th>float64</th><th>float64</th><th>float64</th></tr></thead>\n",
       "<tr><td>4</td><td>35007</td><td>[12300786336303 12300786336309 12300786336358 12305081303052]</td><td>[0.58403856 0.526088   0.45749614 0.4166997 ]</td><td>[-31.82828  -31.751549 -31.768085 -31.768494]</td><td>[&apos;2006-09-24T22:28:53.679578835&apos; &apos;2006-09-24T22:28:53.709489638&apos;\\n &apos;2006-09-24T22:28:53.971949393&apos; &apos;2006-09-24T22:28:54.285595948&apos;]</td><td>[0.40224195 0.19593626 0.30666494 0.5964279 ]</td><td>606017024.0</td><td>0.177698162902297</td><td>0.49179208278656006</td><td>-31.76828956604004</td><td>0.49179208278656006,-31.76828956604004</td><td>-78.28313920052501</td><td>6.65861855121281</td><td>NGC 253</td><td>Starburst</td><td>13.000918161333757</td><td>0</td><td>0.056336131063859166</td><td>0.002343300317735979</td><td>4</td><td>4.950355255066865e-09</td><td>5.345723863570129e-13</td><td>1.1460470590280671</td><td>81.2128422884387</td><td>0.0008089494076557457</td><td>1.582010297340254e-05</td><td>1.5819978994802142e-05</td><td>4.316950259487835</td></tr>\n",
       "</table></div>"
      ],
      "text/plain": [
       "<Table length=1>\n",
       " Nmax OBS_ID ...      BERNOULLI_P        BERNOULLI_SIGMA \n",
       "             ...                                         \n",
       "int64 uint32 ...        float64              float64     \n",
       "----- ------ ... ---------------------- -----------------\n",
       "    4  35007 ... 1.5819978994802142e-05 4.316950259487835"
      ]
     },
     "execution_count": 14,
     "metadata": {},
     "output_type": "execute_result"
    }
   ],
   "source": [
    "rd_old.getCandidate(35007)"
   ]
  },
  {
   "cell_type": "code",
   "execution_count": null,
   "metadata": {},
   "outputs": [],
   "source": [
    "plt.figure()\n",
    "plt.yscale(\"log\")\n",
    "h = plt.hist(rd.reduced[l_n4][\"BERNOULLI_SIGMA\"],histtype=\"step\",color=\"m\",bins=\"fd\",label=\"$da = 0.4$\",density=True)\n",
    "h2 = plt.hist(rd_old.reduced[l_n3][\"BERNOULLI_SIGMA\"],histtype=\"step\",color=\"c\",bins=\"fd\",label=\"$da = 0.2$\",density=True)\n",
    "plt.legend()\n",
    "plt.xlabel(\"sigma\")\n"
   ]
  },
  {
   "cell_type": "code",
   "execution_count": null,
   "metadata": {},
   "outputs": [],
   "source": [
    "for var,label in zip([\"PNT_DISTANCE\",\"ALT_PNT\"],[r\"$d(\\mathrm{mplet}, PNT)$ [deg]\",r\"Pointing altitude [deg]\"]):\n",
    "    pearson, spearman = pearsonr(rd.reduced[leftover][\"BERNOULLI_SIGMA\"].data,rd.reduced[leftover][var].data)[0],spearmanr(rd.reduced[leftover][\"BERNOULLI_SIGMA\"].data,rd.reduced[leftover][var].data)[0]\n",
    "    fig = corner(rd.reduced[leftover].to_pandas(),var_names=[var,\"BERNOULLI_SIGMA\"],labels=[label,r\"$\\sigma$\"])\n",
    "    fig.text(.55,.7,f\"Pearson correlation: {np.round(pearson,2)}\\nSpearman rank correlation: {round(spearman,2)}\",fontsize=\"large\")\n",
    "    fig.set_size_inches(4,4)\n",
    "    for ax in fig.get_axes():\n",
    "        ax.spines[\"right\"].set_visible(True)\n",
    "        ax.spines[\"top\"].set_visible(True)\n",
    "    plt.savefig(\"figures/combined/pnt-significance-correlation.png\",facecolor=\"white\",dpi=300)"
   ]
  }
 ],
 "metadata": {
  "kernelspec": {
   "display_name": "gammatransients",
   "language": "python",
   "name": "python3"
  },
  "language_info": {
   "codemirror_mode": {
    "name": "ipython",
    "version": 3
   },
   "file_extension": ".py",
   "mimetype": "text/x-python",
   "name": "python",
   "nbconvert_exporter": "python",
   "pygments_lexer": "ipython3",
   "version": "3.9.15"
  },
  "orig_nbformat": 4
 },
 "nbformat": 4,
 "nbformat_minor": 2
}
