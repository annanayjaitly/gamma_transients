{
 "cells": [
  {
   "cell_type": "code",
   "execution_count": 2,
   "metadata": {},
   "outputs": [],
   "source": [
    "import numpy as np\n",
    "import astropy.units as u\n",
    "from astropy.coordinates import SkyCoord\n",
    "\n",
    "from astroquery.simbad import Simbad"
   ]
  },
  {
   "cell_type": "markdown",
   "metadata": {},
   "source": [
    "#### Methodology to query Simbad\n",
    "Brute force:\n",
    "1. Set an object and redshift filter on all the sources\n",
    "2. get the Table object and do a NN KDTree search for the nearest sources\n",
    "\n",
    "Slightly smarter as to not overload IPython:\n",
    "1. Do the same query but include all coordiates regions as a first filter\n",
    "2. KDTree with less objects\n",
    "\n"
   ]
  },
  {
   "cell_type": "code",
   "execution_count": 3,
   "metadata": {},
   "outputs": [
    {
     "data": {
      "text/html": [
       "<div><i>Table length=19</i>\n",
       "<table id=\"table140446492961568\" class=\"table-striped table-bordered table-condensed\">\n",
       "<thead><tr><th>MAIN_ID</th><th>RA</th><th>DEC</th><th>RA_PREC</th><th>DEC_PREC</th><th>COO_ERR_MAJA</th><th>COO_ERR_MINA</th><th>COO_ERR_ANGLE</th><th>COO_QUAL</th><th>COO_WAVELENGTH</th><th>COO_BIBCODE</th><th>SCRIPT_NUMBER_ID</th></tr></thead>\n",
       "<thead><tr><th></th><th>&quot;h:m:s&quot;</th><th>&quot;d:m:s&quot;</th><th></th><th></th><th>mas</th><th>mas</th><th>deg</th><th></th><th></th><th></th><th></th></tr></thead>\n",
       "<thead><tr><th>object</th><th>str13</th><th>str13</th><th>int16</th><th>int16</th><th>float32</th><th>float32</th><th>int16</th><th>str1</th><th>str1</th><th>object</th><th>int32</th></tr></thead>\n",
       "<tr><td>HD   5715</td><td>01 00 31.0037</td><td>+70 58 58.765</td><td>14</td><td>14</td><td>0.019</td><td>0.021</td><td>90</td><td>A</td><td>O</td><td>2020yCat.1350....0G</td><td>0</td></tr>\n",
       "<tr><td>*  42 Cas</td><td>01 42 55.8632</td><td>+70 37 21.092</td><td>14</td><td>14</td><td>0.047</td><td>0.053</td><td>90</td><td>A</td><td>O</td><td>2020yCat.1350....0G</td><td>0</td></tr>\n",
       "<tr><td>HD   6370</td><td>01 06 52.5411</td><td>+74 37 54.539</td><td>14</td><td>14</td><td>0.020</td><td>0.018</td><td>90</td><td>A</td><td>O</td><td>2020yCat.1350....0G</td><td>0</td></tr>\n",
       "<tr><td>HD   7407</td><td>01 16 30.2493</td><td>+74 00 40.357</td><td>14</td><td>14</td><td>0.110</td><td>0.111</td><td>90</td><td>A</td><td>O</td><td>2020yCat.1350....0G</td><td>0</td></tr>\n",
       "<tr><td>HD   9612</td><td>01 37 22.2214</td><td>+74 18 03.436</td><td>14</td><td>14</td><td>0.022</td><td>0.023</td><td>90</td><td>A</td><td>O</td><td>2020yCat.1350....0G</td><td>0</td></tr>\n",
       "<tr><td>HD   9837</td><td>01 39 23.6509</td><td>+74 32 41.011</td><td>14</td><td>14</td><td>0.019</td><td>0.018</td><td>90</td><td>A</td><td>O</td><td>2020yCat.1350....0G</td><td>0</td></tr>\n",
       "<tr><td>HD   8344</td><td>01 25 28.5441</td><td>+74 06 55.076</td><td>14</td><td>14</td><td>0.088</td><td>0.106</td><td>90</td><td>A</td><td>O</td><td>2020yCat.1350....0G</td><td>0</td></tr>\n",
       "<tr><td>*  40 Cas</td><td>01 38 30.9179</td><td>+73 02 24.137</td><td>14</td><td>14</td><td>0.038</td><td>0.045</td><td>90</td><td>A</td><td>O</td><td>2020yCat.1350....0G</td><td>0</td></tr>\n",
       "<tr><td>HD   7610</td><td>01 18 29.8761</td><td>+73 23 02.290</td><td>11</td><td>11</td><td>0.540</td><td>0.440</td><td>90</td><td>A</td><td>O</td><td>2007A&amp;A...474..653V</td><td>0</td></tr>\n",
       "<tr><td>BD+75    60</td><td>01 23 17.5640</td><td>+76 03 55.241</td><td>14</td><td>14</td><td>0.020</td><td>0.019</td><td>90</td><td>A</td><td>O</td><td>2020yCat.1350....0G</td><td>0</td></tr>\n",
       "<tr><td>HD   7238</td><td>01 16 30.8807</td><td>+79 54 36.065</td><td>14</td><td>14</td><td>0.029</td><td>0.027</td><td>90</td><td>A</td><td>O</td><td>2020yCat.1350....0G</td><td>0</td></tr>\n",
       "<tr><td>HD   9899</td><td>01 40 53.0806</td><td>+77 58 08.353</td><td>14</td><td>14</td><td>0.025</td><td>0.024</td><td>90</td><td>A</td><td>O</td><td>2020yCat.1350....0G</td><td>0</td></tr>\n",
       "<tr><td>HD   6798</td><td>01 12 16.8163</td><td>+79 40 26.269</td><td>14</td><td>14</td><td>0.038</td><td>0.034</td><td>90</td><td>A</td><td>O</td><td>2020yCat.1350....0G</td><td>0</td></tr>\n",
       "<tr><td>V* U Cep</td><td>01 02 18.4439</td><td>+81 52 32.081</td><td>14</td><td>14</td><td>0.023</td><td>0.019</td><td>90</td><td>A</td><td>O</td><td>2020yCat.1350....0G</td><td>0</td></tr>\n",
       "<tr><td>HD   6771</td><td>01 15 45.2924</td><td>+85 05 40.218</td><td>14</td><td>14</td><td>0.017</td><td>0.016</td><td>90</td><td>A</td><td>O</td><td>2020yCat.1350....0G</td><td>0</td></tr>\n",
       "<tr><td>BD+84    20</td><td>01 23 01.4446</td><td>+84 52 26.475</td><td>14</td><td>14</td><td>0.011</td><td>0.012</td><td>90</td><td>A</td><td>O</td><td>2020yCat.1350....0G</td><td>0</td></tr>\n",
       "<tr><td>BD+84    27</td><td>01 46 58.0462</td><td>+85 28 25.039</td><td>14</td><td>14</td><td>0.016</td><td>0.013</td><td>90</td><td>A</td><td>O</td><td>2020yCat.1350....0G</td><td>0</td></tr>\n",
       "<tr><td>BD+84    28</td><td>01 49 57.5426</td><td>+85 42 30.986</td><td>14</td><td>14</td><td>0.011</td><td>0.011</td><td>90</td><td>A</td><td>O</td><td>2020yCat.1350....0G</td><td>0</td></tr>\n",
       "<tr><td>HD  10220</td><td>01 50 38.6166</td><td>+85 03 30.530</td><td>14</td><td>14</td><td>0.020</td><td>0.021</td><td>90</td><td>A</td><td>O</td><td>2020yCat.1350....0G</td><td>0</td></tr>\n",
       "</table></div>"
      ],
      "text/plain": [
       "<Table length=19>\n",
       "  MAIN_ID         RA           DEC      ...     COO_BIBCODE     SCRIPT_NUMBER_ID\n",
       "               \"h:m:s\"       \"d:m:s\"    ...                                     \n",
       "   object       str13         str13     ...        object            int32      \n",
       "----------- ------------- ------------- ... ------------------- ----------------\n",
       "  HD   5715 01 00 31.0037 +70 58 58.765 ... 2020yCat.1350....0G                0\n",
       "  *  42 Cas 01 42 55.8632 +70 37 21.092 ... 2020yCat.1350....0G                0\n",
       "  HD   6370 01 06 52.5411 +74 37 54.539 ... 2020yCat.1350....0G                0\n",
       "  HD   7407 01 16 30.2493 +74 00 40.357 ... 2020yCat.1350....0G                0\n",
       "  HD   9612 01 37 22.2214 +74 18 03.436 ... 2020yCat.1350....0G                0\n",
       "  HD   9837 01 39 23.6509 +74 32 41.011 ... 2020yCat.1350....0G                0\n",
       "  HD   8344 01 25 28.5441 +74 06 55.076 ... 2020yCat.1350....0G                0\n",
       "  *  40 Cas 01 38 30.9179 +73 02 24.137 ... 2020yCat.1350....0G                0\n",
       "  HD   7610 01 18 29.8761 +73 23 02.290 ... 2007A&A...474..653V                0\n",
       "BD+75    60 01 23 17.5640 +76 03 55.241 ... 2020yCat.1350....0G                0\n",
       "  HD   7238 01 16 30.8807 +79 54 36.065 ... 2020yCat.1350....0G                0\n",
       "  HD   9899 01 40 53.0806 +77 58 08.353 ... 2020yCat.1350....0G                0\n",
       "  HD   6798 01 12 16.8163 +79 40 26.269 ... 2020yCat.1350....0G                0\n",
       "   V* U Cep 01 02 18.4439 +81 52 32.081 ... 2020yCat.1350....0G                0\n",
       "  HD   6771 01 15 45.2924 +85 05 40.218 ... 2020yCat.1350....0G                0\n",
       "BD+84    20 01 23 01.4446 +84 52 26.475 ... 2020yCat.1350....0G                0\n",
       "BD+84    27 01 46 58.0462 +85 28 25.039 ... 2020yCat.1350....0G                0\n",
       "BD+84    28 01 49 57.5426 +85 42 30.986 ... 2020yCat.1350....0G                0\n",
       "  HD  10220 01 50 38.6166 +85 03 30.530 ... 2020yCat.1350....0G                0"
      ]
     },
     "execution_count": 3,
     "metadata": {},
     "output_type": "execute_result"
    }
   ],
   "source": [
    "# customSimbad = Simbad()\n",
    "# customSimbad.add_votable_fields(\"main_id\", \"ra\", \"dec\", \"otype\",\"z_value\")\n",
    "# customSimbad.ROW_LIMIT = -1\n",
    "\n",
    "\n",
    "# Query Simbad for nearest neighbors within the search radius\n",
    "result_table = Simbad.query_criteria(\"ra > 15 & ra < 30 & dec > 70 & (cat = 'PPM' | cat = 'HIP') & Rot.vsini > 10.0\")\n",
    "\n",
    "# Print the filtered table\n",
    "result_table[:]"
   ]
  },
  {
   "cell_type": "code",
   "execution_count": null,
   "metadata": {},
   "outputs": [],
   "source": [
    "customSimbad.list_votable_fields()"
   ]
  },
  {
   "cell_type": "code",
   "execution_count": null,
   "metadata": {},
   "outputs": [],
   "source": []
  }
 ],
 "metadata": {
  "kernelspec": {
   "display_name": "gammatransients",
   "language": "python",
   "name": "python3"
  },
  "language_info": {
   "codemirror_mode": {
    "name": "ipython",
    "version": 3
   },
   "file_extension": ".py",
   "mimetype": "text/x-python",
   "name": "python",
   "nbconvert_exporter": "python",
   "pygments_lexer": "ipython3",
   "version": "3.9.15"
  },
  "orig_nbformat": 4
 },
 "nbformat": 4,
 "nbformat_minor": 2
}
