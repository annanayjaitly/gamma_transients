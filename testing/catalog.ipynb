{
 "cells": [
  {
   "cell_type": "code",
   "execution_count": 1,
   "metadata": {},
   "outputs": [],
   "source": [
    "import numpy as np\n",
    "import astropy.units as u\n",
    "from astropy.coordinates import SkyCoord\n",
    "\n",
    "from astroquery.simbad import Simbad"
   ]
  },
  {
   "cell_type": "markdown",
   "metadata": {},
   "source": [
    "#### Methodology to query Simbad\n",
    "Brute force:\n",
    "1. Set an object and redshift filter on all the sources\n",
    "2. get the Table object and do a NN KDTree search for the nearest sources\n",
    "\n",
    "Slightly smarter as to not overload IPython:\n",
    "1. Do the same query but include all coordiates regions as a first filter\n",
    "2. KDTree with less objects\n",
    "\n"
   ]
  },
  {
   "cell_type": "code",
   "execution_count": 12,
   "metadata": {},
   "outputs": [
    {
     "data": {
      "text/plain": [
       "['MAIN_ID',\n",
       " 'RA_d_A_ICRS_J2000',\n",
       " 'DEC_d_D_ICRS_J2000',\n",
       " 'OTYPE',\n",
       " 'OTYPES',\n",
       " 'Z_VALUE',\n",
       " 'SCRIPT_NUMBER_ID']"
      ]
     },
     "execution_count": 12,
     "metadata": {},
     "output_type": "execute_result"
    }
   ],
   "source": [
    "customSimbad = Simbad()\n",
    "customSimbad.remove_votable_fields(\"coordinates\")\n",
    "customSimbad.add_votable_fields(\"ra(d;A;ICRS;J2000)\",\"dec(d;D;ICRS;J2000)\",\"otype\",\"otypes\",\"z_value\")\n",
    "# Query Simbad for nearest neighbors within the search radius\n",
    "result_table = customSimbad.query_criteria(\"region(circle,233.27627563476562 -37.0747184753418,0.2d) | region(circle,154.0244140625 -57.318443298339844,0.2d) | region(circle,153.8330841064453 -58.57046890258789,0.2d) | region(circle,153.8330841064453 -58.458126068115234,0.2d) | region(circle,155.47987365722656 -57.27698516845703,0.2d) | region(circle,159.629638671875 -57.913246154785156,0.2d) | region(circle,268.1404724121094 -25.759593963623047,0.2d) & redshift < 1\")\n",
    "\n",
    "# Print the filtered table\n",
    "result_table.colnames"
   ]
  },
  {
   "cell_type": "code",
   "execution_count": 13,
   "metadata": {},
   "outputs": [
    {
     "data": {
      "text/html": [
       "<div><i>Table length=523</i>\n",
       "<table id=\"table139635426092320\" class=\"table-striped table-bordered table-condensed\">\n",
       "<thead><tr><th>MAIN_ID</th><th>RA_d_A_ICRS_J2000</th><th>DEC_d_D_ICRS_J2000</th><th>OTYPE</th><th>OTYPES</th><th>Z_VALUE</th><th>SCRIPT_NUMBER_ID</th></tr></thead>\n",
       "<thead><tr><th></th><th>deg</th><th>deg</th><th></th><th></th><th></th><th></th></tr></thead>\n",
       "<thead><tr><th>object</th><th>float64</th><th>float64</th><th>object</th><th>object</th><th>float64</th><th>int32</th></tr></thead>\n",
       "<tr><td>IRAS 15297-3658</td><td>233.24975652</td><td>-37.14726135</td><td>Star</td><td>NIR|*|IR</td><td>-0.0000260</td><td>0</td></tr>\n",
       "<tr><td>CD-36 10267</td><td>233.46963623</td><td>-37.07335195</td><td>Star</td><td>NIR|*</td><td>--</td><td>0</td></tr>\n",
       "<tr><td>CD-36 10266</td><td>233.43802514</td><td>-37.04751442</td><td>Star</td><td>NIR|*</td><td>-0.0002330</td><td>0</td></tr>\n",
       "<tr><td>HVC 335.4+15.3+112</td><td>233.45000000</td><td>-37.17000000</td><td>HVCld</td><td>HVC|HI</td><td>--</td><td>0</td></tr>\n",
       "<tr><td>HD 162389</td><td>267.97941533</td><td>-25.77297418</td><td>Star</td><td>NIR|MIR|*</td><td>-0.0000550</td><td>0</td></tr>\n",
       "<tr><td>HD 162413</td><td>268.00615129</td><td>-25.79295167</td><td>Star</td><td>NIR|MIR|*</td><td>-0.0000380</td><td>0</td></tr>\n",
       "<tr><td>HD 162654</td><td>268.30486705</td><td>-25.75189530</td><td>Star</td><td>NIR|MIR|*</td><td>-0.0000850</td><td>0</td></tr>\n",
       "<tr><td>HD 314725</td><td>268.32517366</td><td>-25.80162966</td><td>Star</td><td>NIR|MIR|*|*</td><td>0.0000020</td><td>0</td></tr>\n",
       "<tr><td>HD  89139</td><td>153.85119840</td><td>-57.38992403</td><td>Star</td><td>NIR|*</td><td>0.0000150</td><td>0</td></tr>\n",
       "<tr><td>...</td><td>...</td><td>...</td><td>...</td><td>...</td><td>...</td><td>...</td></tr>\n",
       "<tr><td>2MASS J17522754-2550158</td><td>268.11475200</td><td>-25.83773600</td><td>Star</td><td>NIR|*|*</td><td>-0.0000550</td><td>0</td></tr>\n",
       "<tr><td>2MASS J10372893-5754122</td><td>159.37058300</td><td>-57.90339300</td><td>Star</td><td>NIR|*|*</td><td>--</td><td>0</td></tr>\n",
       "<tr><td>2MASS J10381580-5747280</td><td>159.56584800</td><td>-57.79111900</td><td>Star</td><td>NIR|*|*</td><td>0.0001280</td><td>0</td></tr>\n",
       "<tr><td>2MASS J10374584-5800311</td><td>159.44103800</td><td>-58.00865900</td><td>Star</td><td>NIR|*|*</td><td>0.0000700</td><td>0</td></tr>\n",
       "<tr><td>2MASS J10392578-5749125</td><td>159.85743400</td><td>-57.82015200</td><td>Star</td><td>NIR|*|*</td><td>-0.0000610</td><td>0</td></tr>\n",
       "<tr><td>2MASS J10390455-5755140</td><td>159.76898800</td><td>-57.92057000</td><td>Star</td><td>NIR|*|*</td><td>0.0000220</td><td>0</td></tr>\n",
       "<tr><td>2MASS J10390626-5758055</td><td>159.77611600</td><td>-57.96820100</td><td>Star</td><td>NIR|*|*</td><td>-0.0000320</td><td>0</td></tr>\n",
       "<tr><td>2MASS J10395316-5750200</td><td>159.97153900</td><td>-57.83891300</td><td>Star</td><td>NIR|*|*</td><td>-0.0000170</td><td>0</td></tr>\n",
       "<tr><td>2MASS J10391817-5800165</td><td>159.82573500</td><td>-58.00458500</td><td>Star</td><td>NIR|*|*</td><td>0.0000470</td><td>0</td></tr>\n",
       "<tr><td>2MASS J10395679-5756043</td><td>159.98662700</td><td>-57.93453600</td><td>Star</td><td>NIR|*|*</td><td>--</td><td>0</td></tr>\n",
       "</table></div>"
      ],
      "text/plain": [
       "<Table length=523>\n",
       "        MAIN_ID         RA_d_A_ICRS_J2000 ...  Z_VALUE   SCRIPT_NUMBER_ID\n",
       "                               deg        ...                            \n",
       "         object              float64      ...  float64        int32      \n",
       "----------------------- ----------------- ... ---------- ----------------\n",
       "        IRAS 15297-3658      233.24975652 ... -0.0000260                0\n",
       "            CD-36 10267      233.46963623 ...         --                0\n",
       "            CD-36 10266      233.43802514 ... -0.0002330                0\n",
       "     HVC 335.4+15.3+112      233.45000000 ...         --                0\n",
       "              HD 162389      267.97941533 ... -0.0000550                0\n",
       "              HD 162413      268.00615129 ... -0.0000380                0\n",
       "              HD 162654      268.30486705 ... -0.0000850                0\n",
       "              HD 314725      268.32517366 ...  0.0000020                0\n",
       "              HD  89139      153.85119840 ...  0.0000150                0\n",
       "                    ...               ... ...        ...              ...\n",
       "2MASS J17522754-2550158      268.11475200 ... -0.0000550                0\n",
       "2MASS J10372893-5754122      159.37058300 ...         --                0\n",
       "2MASS J10381580-5747280      159.56584800 ...  0.0001280                0\n",
       "2MASS J10374584-5800311      159.44103800 ...  0.0000700                0\n",
       "2MASS J10392578-5749125      159.85743400 ... -0.0000610                0\n",
       "2MASS J10390455-5755140      159.76898800 ...  0.0000220                0\n",
       "2MASS J10390626-5758055      159.77611600 ... -0.0000320                0\n",
       "2MASS J10395316-5750200      159.97153900 ... -0.0000170                0\n",
       "2MASS J10391817-5800165      159.82573500 ...  0.0000470                0\n",
       "2MASS J10395679-5756043      159.98662700 ...         --                0"
      ]
     },
     "execution_count": 13,
     "metadata": {},
     "output_type": "execute_result"
    }
   ],
   "source": [
    "result_table"
   ]
  },
  {
   "cell_type": "code",
   "execution_count": 11,
   "metadata": {},
   "outputs": [
    {
     "ename": "TypeError",
     "evalue": "sequence item 0: expected str instance, NoneType found",
     "output_type": "error",
     "traceback": [
      "\u001b[0;31m---------------------------------------------------------------------------\u001b[0m",
      "\u001b[0;31mTypeError\u001b[0m                                 Traceback (most recent call last)",
      "\u001b[1;32m/afs/ifh.de/user/w/wybouwt/git/gamma_transients/testing/catalog.ipynb Cell 5\u001b[0m in \u001b[0;36m<cell line: 5>\u001b[0;34m()\u001b[0m\n\u001b[1;32m      <a href='vscode-notebook-cell://ssh-remote%2Bhess-wgs2/afs/ifh.de/user/w/wybouwt/git/gamma_transients/testing/catalog.ipynb#W5sdnNjb2RlLXJlbW90ZQ%3D%3D?line=1'>2</a>\u001b[0m lst \u001b[39m=\u001b[39m [\u001b[39mNone\u001b[39;00m, \u001b[39m'\u001b[39m\u001b[39mbanana\u001b[39m\u001b[39m'\u001b[39m, \u001b[39m'\u001b[39m\u001b[39mcherry\u001b[39m\u001b[39m'\u001b[39m]\n\u001b[1;32m      <a href='vscode-notebook-cell://ssh-remote%2Bhess-wgs2/afs/ifh.de/user/w/wybouwt/git/gamma_transients/testing/catalog.ipynb#W5sdnNjb2RlLXJlbW90ZQ%3D%3D?line=3'>4</a>\u001b[0m \u001b[39m# Join the strings with a comma separator\u001b[39;00m\n\u001b[0;32m----> <a href='vscode-notebook-cell://ssh-remote%2Bhess-wgs2/afs/ifh.de/user/w/wybouwt/git/gamma_transients/testing/catalog.ipynb#W5sdnNjb2RlLXJlbW90ZQ%3D%3D?line=4'>5</a>\u001b[0m s \u001b[39m=\u001b[39m \u001b[39m'\u001b[39;49m\u001b[39m, \u001b[39;49m\u001b[39m'\u001b[39;49m\u001b[39m.\u001b[39;49mjoin(lst)\n\u001b[1;32m      <a href='vscode-notebook-cell://ssh-remote%2Bhess-wgs2/afs/ifh.de/user/w/wybouwt/git/gamma_transients/testing/catalog.ipynb#W5sdnNjb2RlLXJlbW90ZQ%3D%3D?line=6'>7</a>\u001b[0m \u001b[39m# Print the resulting string\u001b[39;00m\n\u001b[1;32m      <a href='vscode-notebook-cell://ssh-remote%2Bhess-wgs2/afs/ifh.de/user/w/wybouwt/git/gamma_transients/testing/catalog.ipynb#W5sdnNjb2RlLXJlbW90ZQ%3D%3D?line=7'>8</a>\u001b[0m \u001b[39mprint\u001b[39m(s)\n",
      "\u001b[0;31mTypeError\u001b[0m: sequence item 0: expected str instance, NoneType found"
     ]
    }
   ],
   "source": [
    "# Define a list of strings\n",
    "lst = [None, 'banana', 'cherry']\n",
    "\n",
    "# Join the strings with a comma separator\n",
    "s = ', '.join(lst)\n",
    "\n",
    "# Print the resulting string\n",
    "print(s)"
   ]
  },
  {
   "cell_type": "code",
   "execution_count": 1,
   "metadata": {},
   "outputs": [
    {
     "data": {
      "text/plain": [
       "75000000.0"
      ]
     },
     "execution_count": 1,
     "metadata": {},
     "output_type": "execute_result"
    }
   ],
   "source": [
    "0.1*(1/(6e8)-(1/(3e9)))**(-1)"
   ]
  },
  {
   "cell_type": "code",
   "execution_count": 2,
   "metadata": {},
   "outputs": [
    {
     "data": {
      "text/plain": [
       "0.07500000000000001"
      ]
     },
     "execution_count": 2,
     "metadata": {},
     "output_type": "execute_result"
    }
   ],
   "source": [
    "0.1-(25*10**(-3))"
   ]
  },
  {
   "cell_type": "code",
   "execution_count": 3,
   "metadata": {},
   "outputs": [
    {
     "data": {
      "text/plain": [
       "0.07500000000000001"
      ]
     },
     "execution_count": 3,
     "metadata": {},
     "output_type": "execute_result"
    }
   ],
   "source": [
    "0.2-(75e6/6e8)"
   ]
  },
  {
   "cell_type": "code",
   "execution_count": 6,
   "metadata": {},
   "outputs": [
    {
     "name": "stdout",
     "output_type": "stream",
     "text": [
      "Unknown observatory name found in GRB 160821B:  None\n",
      "Unknown \"discoverer\" ID found in GRB 160821B: None\n",
      "Unknown observatory name found in SNR G004.8+6.2:  None\n",
      "Unknown \"discoverer\" ID found in SNR G004.8+6.2: None\n",
      "Unknown observatory name found in 3HWC J0621+382:  None\n",
      "Unknown \"discoverer\" ID found in 3HWC J0621+382: None\n",
      "Unknown observatory name found in 3HWC J0630+186:  None\n",
      "Unknown \"discoverer\" ID found in 3HWC J0630+186: None\n",
      "Unknown observatory name found in 3HWC J0631+107:  None\n",
      "Unknown \"discoverer\" ID found in 3HWC J0631+107: None\n",
      "Canonical Name:\tPKS 2005-489\n",
      "TeVCat Name:\tTeV J2009-488\n",
      "Other Names:\tHESS J2009-488\n",
      "Source Type:\tHBL\n",
      "RA:\t20h09m27s (hh mm ss)\n",
      "Dec:\t-48d49m52s (dd mm ss)\n",
      "Gal Long:\t350.37 (deg)\n",
      "Gal Lat:\t-32.61 (deg)\n",
      "Distance:\tz = 0.071000\n",
      "Flux:\t0.030 (Crab Units)\n",
      "Energy Threshold:\t400 (GeV)\n",
      "Size (X):\t0.00 (deg)\n",
      "Size (Y):\t0.00 (deg)\n",
      "Discovery Date:\t2005-06\n",
      "Discovered by:\tH.E.S.S.\n"
     ]
    }
   ],
   "source": [
    "from tevcat import TeVCat\n",
    "tc = TeVCat()\n",
    "sources = tc.getSources()\n",
    "print(sources[0])"
   ]
  }
 ],
 "metadata": {
  "kernelspec": {
   "display_name": "gammatransients",
   "language": "python",
   "name": "python3"
  },
  "language_info": {
   "codemirror_mode": {
    "name": "ipython",
    "version": 3
   },
   "file_extension": ".py",
   "mimetype": "text/x-python",
   "name": "python",
   "nbconvert_exporter": "python",
   "pygments_lexer": "ipython3",
   "version": "3.9.15"
  },
  "orig_nbformat": 4
 },
 "nbformat": 4,
 "nbformat_minor": 2
}
