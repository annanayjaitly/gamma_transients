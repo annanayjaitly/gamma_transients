{
 "cells": [
  {
   "cell_type": "code",
   "execution_count": 7,
   "metadata": {},
   "outputs": [],
   "source": [
    "import numpy as np\n",
    "import astropy.units as u\n",
    "\n",
    "from gammapy.catalog import CATALOG_REGISTRY\n",
    "from tevcat import TeVCat\n",
    "from scipy.spatial import KDTree"
   ]
  },
  {
   "cell_type": "code",
   "execution_count": 5,
   "metadata": {},
   "outputs": [
    {
     "name": "stdout",
     "output_type": "stream",
     "text": [
      "Unknown observatory name found in GRB 160821B:  None\n",
      "Unknown \"discoverer\" ID found in GRB 160821B: None\n",
      "Unknown observatory name found in SNR G004.8+6.2:  None\n",
      "Unknown \"discoverer\" ID found in SNR G004.8+6.2: None\n",
      "Unknown observatory name found in 3HWC J0621+382:  None\n",
      "Unknown \"discoverer\" ID found in 3HWC J0621+382: None\n",
      "Unknown observatory name found in 3HWC J0630+186:  None\n",
      "Unknown \"discoverer\" ID found in 3HWC J0630+186: None\n",
      "Unknown observatory name found in 3HWC J0631+107:  None\n",
      "Unknown \"discoverer\" ID found in 3HWC J0631+107: None\n"
     ]
    }
   ],
   "source": [
    "tev = TeVCat()\n",
    "tevcat_sources = tev.getSources()\n",
    "coordinates = np.asarray([[source.getICRS().ra.deg ,source.getICRS().dec.deg ] for source in tevcat_sources])\n",
    "mytree = KDTree(coordinates)"
   ]
  },
  {
   "cell_type": "code",
   "execution_count": 2,
   "metadata": {},
   "outputs": [],
   "source": [
    "from astropy.table import Table, vstack"
   ]
  },
  {
   "cell_type": "code",
   "execution_count": 9,
   "metadata": {},
   "outputs": [
    {
     "data": {
      "text/html": [
       "<div><i>Table length=5</i>\n",
       "<table id=\"table140367962995968\" class=\"table-striped table-bordered table-condensed\">\n",
       "<thead><tr><th>a</th><th>b</th></tr></thead>\n",
       "<thead><tr><th>int64</th><th>int64</th></tr></thead>\n",
       "<tr><td>1</td><td>3</td></tr>\n",
       "<tr><td>2</td><td>4</td></tr>\n",
       "<tr><td>1</td><td>3</td></tr>\n",
       "<tr><td>2</td><td>4</td></tr>\n",
       "<tr><td>4</td><td>6</td></tr>\n",
       "</table></div>"
      ],
      "text/plain": [
       "<Table length=5>\n",
       "  a     b  \n",
       "int64 int64\n",
       "----- -----\n",
       "    1     3\n",
       "    2     4\n",
       "    1     3\n",
       "    2     4\n",
       "    4     6"
      ]
     },
     "execution_count": 9,
     "metadata": {},
     "output_type": "execute_result"
    }
   ],
   "source": [
    "A = Table([[1,2],[3,4]],names=[\"a\",\"b\"])\n",
    "B = Table([[1,2,4],[3,4,6]],names=[\"a\",\"b\"])\n",
    "C = vstack([A,B],join_type=\"exact\")\n",
    "C[:]"
   ]
  },
  {
   "cell_type": "code",
   "execution_count": null,
   "metadata": {},
   "outputs": [],
   "source": []
  }
 ],
 "metadata": {
  "kernelspec": {
   "display_name": "gammatransients",
   "language": "python",
   "name": "python3"
  },
  "language_info": {
   "codemirror_mode": {
    "name": "ipython",
    "version": 3
   },
   "file_extension": ".py",
   "mimetype": "text/x-python",
   "name": "python",
   "nbconvert_exporter": "python",
   "pygments_lexer": "ipython3",
   "version": "3.9.15"
  },
  "orig_nbformat": 4
 },
 "nbformat": 4,
 "nbformat_minor": 2
}
