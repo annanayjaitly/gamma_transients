{
 "cells": [
  {
   "cell_type": "code",
   "execution_count": 1,
   "metadata": {},
   "outputs": [],
   "source": [
    "import numpy as np\n",
    "import astropy.units as u\n",
    "from astropy.coordinates import SkyCoord\n",
    "\n",
    "from astroquery.simbad import Simbad"
   ]
  },
  {
   "cell_type": "markdown",
   "metadata": {},
   "source": [
    "#### Methodology to query Simbad\n",
    "Brute force:\n",
    "1. Set an object and redshift filter on all the sources\n",
    "2. get the Table object and do a NN KDTree search for the nearest sources\n",
    "\n",
    "Slightly smarter as to not overload IPython:\n",
    "1. Do the same query but include all coordiates regions as a first filter\n",
    "2. KDTree with less objects\n",
    "\n"
   ]
  },
  {
   "cell_type": "code",
   "execution_count": 30,
   "metadata": {},
   "outputs": [
    {
     "data": {
      "text/plain": [
       "['MAIN_ID',\n",
       " 'RA_d_A_ICRS_J2000',\n",
       " 'DEC_d_D_ICRS_J2000',\n",
       " 'OTYPE',\n",
       " 'OTYPES',\n",
       " 'Z_VALUE',\n",
       " 'SCRIPT_NUMBER_ID']"
      ]
     },
     "execution_count": 30,
     "metadata": {},
     "output_type": "execute_result"
    }
   ],
   "source": [
    "customSimbad = Simbad()\n",
    "customSimbad.remove_votable_fields(\"coordinates\")\n",
    "customSimbad.add_votable_fields(\"ra(d;A;ICRS;J2000)\",\"dec(d;D;ICRS;J2000)\",\"otype\",\"otypes\",\"z_value\")\n",
    "# Query Simbad for nearest neighbors within the search radius\n",
    "result_table = customSimbad.query_criteria(\"redshift > 12\")\n",
    "\n",
    "# Print the filtered table\n",
    "result_table.colnames"
   ]
  },
  {
   "cell_type": "code",
   "execution_count": 31,
   "metadata": {},
   "outputs": [
    {
     "data": {
      "text/html": [
       "<div><i>Table length=10</i>\n",
       "<table id=\"table140301312987776\" class=\"table-striped table-bordered table-condensed\">\n",
       "<thead><tr><th>MAIN_ID</th><th>RA_d_A_ICRS_J2000</th><th>DEC_d_D_ICRS_J2000</th><th>OTYPE</th><th>OTYPES</th><th>Z_VALUE</th><th>SCRIPT_NUMBER_ID</th></tr></thead>\n",
       "<thead><tr><th></th><th>deg</th><th>deg</th><th></th><th></th><th></th><th></th></tr></thead>\n",
       "<thead><tr><th>object</th><th>float64</th><th>float64</th><th>object</th><th>object</th><th>float64</th><th>int32</th></tr></thead>\n",
       "<tr><td>sBoRG 1237+2544   806</td><td>189.37490000</td><td>25.74270000</td><td>Galaxy</td><td>G|G</td><td>12.1600000</td><td>0</td></tr>\n",
       "<tr><td>NAME HOO23 CR2-z17-1</td><td>214.91454200</td><td>52.94303900</td><td>Galaxy_Candidate</td><td>G?</td><td>16.3900000</td><td>0</td></tr>\n",
       "<tr><td>[ASF2023] SMACS z12a</td><td>110.69741670</td><td>-73.50049580</td><td>Galaxy_Candidate</td><td>G?</td><td>12.2000000</td><td>0</td></tr>\n",
       "<tr><td>[ASF2023] SMACS z16b</td><td>110.66432920</td><td>-73.50227360</td><td>Galaxy_Candidate</td><td>G?</td><td>15.3200000</td><td>0</td></tr>\n",
       "<tr><td>[CFT2022] GHZ2</td><td>3.49898500</td><td>-30.32477100</td><td>Galaxy_Candidate</td><td>NIR|G?</td><td>12.3000000</td><td>0</td></tr>\n",
       "<tr><td>[ASF2023] SMACS z12b</td><td>110.71775420</td><td>-73.46541580</td><td>Galaxy_Candidate</td><td>G?</td><td>12.2600000</td><td>0</td></tr>\n",
       "<tr><td>[HIM2022] HD3</td><td>34.22700000</td><td>-5.16031000</td><td>Galaxy_Candidate</td><td>G?</td><td>14.6000000</td><td>0</td></tr>\n",
       "<tr><td>[ASF2023] SMACS z16a</td><td>110.85997080</td><td>-73.46793360</td><td>Galaxy_Candidate</td><td>G?</td><td>15.9200000</td><td>0</td></tr>\n",
       "<tr><td>[FBF2023] CEERS1 1730</td><td>215.01002200</td><td>53.01364100</td><td>Galaxy_Candidate</td><td>G?</td><td>13.3600000</td><td>0</td></tr>\n",
       "<tr><td>sBoRG 1142+2647  1280</td><td>175.49860000</td><td>26.78070000</td><td>Galaxy</td><td>G|G</td><td>12.1600000</td><td>0</td></tr>\n",
       "</table></div>"
      ],
      "text/plain": [
       "<Table length=10>\n",
       "       MAIN_ID        RA_d_A_ICRS_J2000 ...  Z_VALUE   SCRIPT_NUMBER_ID\n",
       "                             deg        ...                            \n",
       "        object             float64      ...  float64        int32      \n",
       "--------------------- ----------------- ... ---------- ----------------\n",
       "sBoRG 1237+2544   806      189.37490000 ... 12.1600000                0\n",
       " NAME HOO23 CR2-z17-1      214.91454200 ... 16.3900000                0\n",
       " [ASF2023] SMACS z12a      110.69741670 ... 12.2000000                0\n",
       " [ASF2023] SMACS z16b      110.66432920 ... 15.3200000                0\n",
       "       [CFT2022] GHZ2        3.49898500 ... 12.3000000                0\n",
       " [ASF2023] SMACS z12b      110.71775420 ... 12.2600000                0\n",
       "        [HIM2022] HD3       34.22700000 ... 14.6000000                0\n",
       " [ASF2023] SMACS z16a      110.85997080 ... 15.9200000                0\n",
       "[FBF2023] CEERS1 1730      215.01002200 ... 13.3600000                0\n",
       "sBoRG 1142+2647  1280      175.49860000 ... 12.1600000                0"
      ]
     },
     "execution_count": 31,
     "metadata": {},
     "output_type": "execute_result"
    }
   ],
   "source": [
    "result_table"
   ]
  },
  {
   "cell_type": "code",
   "execution_count": null,
   "metadata": {},
   "outputs": [],
   "source": []
  }
 ],
 "metadata": {
  "kernelspec": {
   "display_name": "gammatransients",
   "language": "python",
   "name": "python3"
  },
  "language_info": {
   "codemirror_mode": {
    "name": "ipython",
    "version": 3
   },
   "file_extension": ".py",
   "mimetype": "text/x-python",
   "name": "python",
   "nbconvert_exporter": "python",
   "pygments_lexer": "ipython3",
   "version": "3.9.15"
  },
  "orig_nbformat": 4
 },
 "nbformat": 4,
 "nbformat_minor": 2
}
